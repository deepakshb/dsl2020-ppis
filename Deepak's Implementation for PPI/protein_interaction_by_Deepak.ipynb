{
  "nbformat": 4,
  "nbformat_minor": 0,
  "metadata": {
    "kernelspec": {
      "display_name": "Python 3",
      "language": "python",
      "name": "python3"
    },
    "language_info": {
      "codemirror_mode": {
        "name": "ipython",
        "version": 3
      },
      "file_extension": ".py",
      "mimetype": "text/x-python",
      "name": "python",
      "nbconvert_exporter": "python",
      "pygments_lexer": "ipython3",
      "version": "3.7.7"
    },
    "colab": {
      "name": "protein-interaction_by_Deepak.ipynb",
      "provenance": [],
      "collapsed_sections": []
    },
    "accelerator": "GPU"
  },
  "cells": [
    {
      "cell_type": "code",
      "metadata": {
        "id": "9V_S8FSTTZHD",
        "colab_type": "code",
        "colab": {}
      },
      "source": [
        "import networkx as nx\n",
        "import scipy.sparse as sp\n",
        "import numpy as np\n",
        "import math\n",
        "import matplotlib.pyplot as plt"
      ],
      "execution_count": 1,
      "outputs": []
    },
    {
      "cell_type": "code",
      "metadata": {
        "id": "2ZwHH82LTrWS",
        "colab_type": "code",
        "colab": {
          "base_uri": "https://localhost:8080/",
          "height": 122
        },
        "outputId": "1d045dfc-d5ec-400b-8a51-788cb604fe69"
      },
      "source": [
        "from google.colab import drive\n",
        "drive.mount('/content/drive')"
      ],
      "execution_count": 4,
      "outputs": [
        {
          "output_type": "stream",
          "text": [
            "Go to this URL in a browser: https://accounts.google.com/o/oauth2/auth?client_id=947318989803-6bn6qk8qdgf4n4g3pfee6491hc0brc4i.apps.googleusercontent.com&redirect_uri=urn%3aietf%3awg%3aoauth%3a2.0%3aoob&response_type=code&scope=email%20https%3a%2f%2fwww.googleapis.com%2fauth%2fdocs.test%20https%3a%2f%2fwww.googleapis.com%2fauth%2fdrive%20https%3a%2f%2fwww.googleapis.com%2fauth%2fdrive.photos.readonly%20https%3a%2f%2fwww.googleapis.com%2fauth%2fpeopleapi.readonly\n",
            "\n",
            "Enter your authorization code:\n",
            "··········\n",
            "Mounted at /content/drive\n"
          ],
          "name": "stdout"
        }
      ]
    },
    {
      "cell_type": "code",
      "metadata": {
        "id": "d8ccWlYSTZHM",
        "colab_type": "code",
        "colab": {
          "base_uri": "https://localhost:8080/",
          "height": 34
        },
        "outputId": "1a6ed3a9-7bda-4623-86f1-3382ff9190d5"
      },
      "source": [
        "raw_edge_list = open('/content/drive/My Drive/Colab Notebooks/DSLab/yeast.edgelist','r')\n",
        "G = nx.Graph()\n",
        "G = nx.parse_edgelist(raw_edge_list, delimiter='\\t', create_using=G,nodetype=str, data=(('weight', float),))\n",
        "# Get graph edges and nodes from networkx graph object\n",
        "nodes = G.nodes\n",
        "edges = G.edges\n",
        "\n",
        "print(\"Graph's Nodes : {} / Edges : {}\".format(len(nodes), len(edges)))"
      ],
      "execution_count": 5,
      "outputs": [
        {
          "output_type": "stream",
          "text": [
            "Graph's Nodes : 6526 / Edges : 532180\n"
          ],
          "name": "stdout"
        }
      ]
    },
    {
      "cell_type": "code",
      "metadata": {
        "id": "3fLxnwnOz6YU",
        "colab_type": "code",
        "colab": {}
      },
      "source": [
        "G.remove_edges_from(nx.selfloop_edges(G))"
      ],
      "execution_count": 6,
      "outputs": []
    },
    {
      "cell_type": "code",
      "metadata": {
        "id": "P0ZtZv1r0uuU",
        "colab_type": "code",
        "colab": {
          "base_uri": "https://localhost:8080/",
          "height": 136
        },
        "outputId": "967cab0e-d4ea-45a9-95a1-ef2dfd651fb7"
      },
      "source": [
        "nx.adjacency_matrix(G).todense()"
      ],
      "execution_count": 7,
      "outputs": [
        {
          "output_type": "execute_result",
          "data": {
            "text/plain": [
              "matrix([[0, 1, 1, ..., 0, 0, 0],\n",
              "        [1, 0, 1, ..., 0, 0, 0],\n",
              "        [1, 1, 0, ..., 0, 0, 0],\n",
              "        ...,\n",
              "        [0, 0, 0, ..., 0, 0, 0],\n",
              "        [0, 0, 0, ..., 0, 0, 0],\n",
              "        [0, 0, 0, ..., 0, 0, 0]], dtype=int64)"
            ]
          },
          "metadata": {
            "tags": []
          },
          "execution_count": 7
        }
      ]
    },
    {
      "cell_type": "code",
      "metadata": {
        "id": "s9MuLl16T_Xn",
        "colab_type": "code",
        "colab": {
          "base_uri": "https://localhost:8080/",
          "height": 1000
        },
        "outputId": "5580ae0a-a389-4867-98e4-0ce67435056b"
      },
      "source": [
        "!pip install stellargraph"
      ],
      "execution_count": 8,
      "outputs": [
        {
          "output_type": "stream",
          "text": [
            "Collecting stellargraph\n",
            "\u001b[?25l  Downloading https://files.pythonhosted.org/packages/b1/7f/83a411ff0837aa65e47d8cff32af41f4b50aa6c85d7a0cf2d784a80bdca6/stellargraph-1.2.0-py3-none-any.whl (433kB)\n",
            "\r\u001b[K     |▊                               | 10kB 27.2MB/s eta 0:00:01\r\u001b[K     |█▌                              | 20kB 5.9MB/s eta 0:00:01\r\u001b[K     |██▎                             | 30kB 7.2MB/s eta 0:00:01\r\u001b[K     |███                             | 40kB 7.9MB/s eta 0:00:01\r\u001b[K     |███▉                            | 51kB 6.9MB/s eta 0:00:01\r\u001b[K     |████▌                           | 61kB 7.8MB/s eta 0:00:01\r\u001b[K     |█████▎                          | 71kB 8.0MB/s eta 0:00:01\r\u001b[K     |██████                          | 81kB 8.2MB/s eta 0:00:01\r\u001b[K     |██████▉                         | 92kB 7.7MB/s eta 0:00:01\r\u001b[K     |███████▋                        | 102kB 8.0MB/s eta 0:00:01\r\u001b[K     |████████▎                       | 112kB 8.0MB/s eta 0:00:01\r\u001b[K     |█████████                       | 122kB 8.0MB/s eta 0:00:01\r\u001b[K     |█████████▉                      | 133kB 8.0MB/s eta 0:00:01\r\u001b[K     |██████████▋                     | 143kB 8.0MB/s eta 0:00:01\r\u001b[K     |███████████▍                    | 153kB 8.0MB/s eta 0:00:01\r\u001b[K     |████████████                    | 163kB 8.0MB/s eta 0:00:01\r\u001b[K     |████████████▉                   | 174kB 8.0MB/s eta 0:00:01\r\u001b[K     |█████████████▋                  | 184kB 8.0MB/s eta 0:00:01\r\u001b[K     |██████████████▍                 | 194kB 8.0MB/s eta 0:00:01\r\u001b[K     |███████████████▏                | 204kB 8.0MB/s eta 0:00:01\r\u001b[K     |███████████████▉                | 215kB 8.0MB/s eta 0:00:01\r\u001b[K     |████████████████▋               | 225kB 8.0MB/s eta 0:00:01\r\u001b[K     |█████████████████▍              | 235kB 8.0MB/s eta 0:00:01\r\u001b[K     |██████████████████▏             | 245kB 8.0MB/s eta 0:00:01\r\u001b[K     |███████████████████             | 256kB 8.0MB/s eta 0:00:01\r\u001b[K     |███████████████████▋            | 266kB 8.0MB/s eta 0:00:01\r\u001b[K     |████████████████████▍           | 276kB 8.0MB/s eta 0:00:01\r\u001b[K     |█████████████████████▏          | 286kB 8.0MB/s eta 0:00:01\r\u001b[K     |██████████████████████          | 296kB 8.0MB/s eta 0:00:01\r\u001b[K     |██████████████████████▊         | 307kB 8.0MB/s eta 0:00:01\r\u001b[K     |███████████████████████▍        | 317kB 8.0MB/s eta 0:00:01\r\u001b[K     |████████████████████████▏       | 327kB 8.0MB/s eta 0:00:01\r\u001b[K     |█████████████████████████       | 337kB 8.0MB/s eta 0:00:01\r\u001b[K     |█████████████████████████▊      | 348kB 8.0MB/s eta 0:00:01\r\u001b[K     |██████████████████████████▌     | 358kB 8.0MB/s eta 0:00:01\r\u001b[K     |███████████████████████████▏    | 368kB 8.0MB/s eta 0:00:01\r\u001b[K     |████████████████████████████    | 378kB 8.0MB/s eta 0:00:01\r\u001b[K     |████████████████████████████▊   | 389kB 8.0MB/s eta 0:00:01\r\u001b[K     |█████████████████████████████▌  | 399kB 8.0MB/s eta 0:00:01\r\u001b[K     |██████████████████████████████▎ | 409kB 8.0MB/s eta 0:00:01\r\u001b[K     |███████████████████████████████ | 419kB 8.0MB/s eta 0:00:01\r\u001b[K     |███████████████████████████████▊| 430kB 8.0MB/s eta 0:00:01\r\u001b[K     |████████████████████████████████| 440kB 8.0MB/s \n",
            "\u001b[?25hRequirement already satisfied: matplotlib>=2.2 in /usr/local/lib/python3.6/dist-packages (from stellargraph) (3.2.2)\n",
            "Requirement already satisfied: numpy>=1.14 in /usr/local/lib/python3.6/dist-packages (from stellargraph) (1.18.5)\n",
            "Requirement already satisfied: gensim>=3.4.0 in /usr/local/lib/python3.6/dist-packages (from stellargraph) (3.6.0)\n",
            "Requirement already satisfied: networkx>=2.2 in /usr/local/lib/python3.6/dist-packages (from stellargraph) (2.4)\n",
            "Requirement already satisfied: scipy>=1.1.0 in /usr/local/lib/python3.6/dist-packages (from stellargraph) (1.4.1)\n",
            "Requirement already satisfied: tensorflow>=2.1.0 in /usr/local/lib/python3.6/dist-packages (from stellargraph) (2.2.0)\n",
            "Requirement already satisfied: scikit-learn>=0.20 in /usr/local/lib/python3.6/dist-packages (from stellargraph) (0.22.2.post1)\n",
            "Requirement already satisfied: pandas>=0.24 in /usr/local/lib/python3.6/dist-packages (from stellargraph) (1.0.5)\n",
            "Requirement already satisfied: kiwisolver>=1.0.1 in /usr/local/lib/python3.6/dist-packages (from matplotlib>=2.2->stellargraph) (1.2.0)\n",
            "Requirement already satisfied: pyparsing!=2.0.4,!=2.1.2,!=2.1.6,>=2.0.1 in /usr/local/lib/python3.6/dist-packages (from matplotlib>=2.2->stellargraph) (2.4.7)\n",
            "Requirement already satisfied: python-dateutil>=2.1 in /usr/local/lib/python3.6/dist-packages (from matplotlib>=2.2->stellargraph) (2.8.1)\n",
            "Requirement already satisfied: cycler>=0.10 in /usr/local/lib/python3.6/dist-packages (from matplotlib>=2.2->stellargraph) (0.10.0)\n",
            "Requirement already satisfied: smart-open>=1.2.1 in /usr/local/lib/python3.6/dist-packages (from gensim>=3.4.0->stellargraph) (2.0.0)\n",
            "Requirement already satisfied: six>=1.5.0 in /usr/local/lib/python3.6/dist-packages (from gensim>=3.4.0->stellargraph) (1.12.0)\n",
            "Requirement already satisfied: decorator>=4.3.0 in /usr/local/lib/python3.6/dist-packages (from networkx>=2.2->stellargraph) (4.4.2)\n",
            "Requirement already satisfied: gast==0.3.3 in /usr/local/lib/python3.6/dist-packages (from tensorflow>=2.1.0->stellargraph) (0.3.3)\n",
            "Requirement already satisfied: google-pasta>=0.1.8 in /usr/local/lib/python3.6/dist-packages (from tensorflow>=2.1.0->stellargraph) (0.2.0)\n",
            "Requirement already satisfied: tensorflow-estimator<2.3.0,>=2.2.0 in /usr/local/lib/python3.6/dist-packages (from tensorflow>=2.1.0->stellargraph) (2.2.0)\n",
            "Requirement already satisfied: termcolor>=1.1.0 in /usr/local/lib/python3.6/dist-packages (from tensorflow>=2.1.0->stellargraph) (1.1.0)\n",
            "Requirement already satisfied: grpcio>=1.8.6 in /usr/local/lib/python3.6/dist-packages (from tensorflow>=2.1.0->stellargraph) (1.30.0)\n",
            "Requirement already satisfied: tensorboard<2.3.0,>=2.2.0 in /usr/local/lib/python3.6/dist-packages (from tensorflow>=2.1.0->stellargraph) (2.2.2)\n",
            "Requirement already satisfied: opt-einsum>=2.3.2 in /usr/local/lib/python3.6/dist-packages (from tensorflow>=2.1.0->stellargraph) (3.2.1)\n",
            "Requirement already satisfied: astunparse==1.6.3 in /usr/local/lib/python3.6/dist-packages (from tensorflow>=2.1.0->stellargraph) (1.6.3)\n",
            "Requirement already satisfied: h5py<2.11.0,>=2.10.0 in /usr/local/lib/python3.6/dist-packages (from tensorflow>=2.1.0->stellargraph) (2.10.0)\n",
            "Requirement already satisfied: keras-preprocessing>=1.1.0 in /usr/local/lib/python3.6/dist-packages (from tensorflow>=2.1.0->stellargraph) (1.1.2)\n",
            "Requirement already satisfied: protobuf>=3.8.0 in /usr/local/lib/python3.6/dist-packages (from tensorflow>=2.1.0->stellargraph) (3.10.0)\n",
            "Requirement already satisfied: wheel>=0.26; python_version >= \"3\" in /usr/local/lib/python3.6/dist-packages (from tensorflow>=2.1.0->stellargraph) (0.34.2)\n",
            "Requirement already satisfied: wrapt>=1.11.1 in /usr/local/lib/python3.6/dist-packages (from tensorflow>=2.1.0->stellargraph) (1.12.1)\n",
            "Requirement already satisfied: absl-py>=0.7.0 in /usr/local/lib/python3.6/dist-packages (from tensorflow>=2.1.0->stellargraph) (0.9.0)\n",
            "Requirement already satisfied: joblib>=0.11 in /usr/local/lib/python3.6/dist-packages (from scikit-learn>=0.20->stellargraph) (0.15.1)\n",
            "Requirement already satisfied: pytz>=2017.2 in /usr/local/lib/python3.6/dist-packages (from pandas>=0.24->stellargraph) (2018.9)\n",
            "Requirement already satisfied: boto3 in /usr/local/lib/python3.6/dist-packages (from smart-open>=1.2.1->gensim>=3.4.0->stellargraph) (1.14.9)\n",
            "Requirement already satisfied: requests in /usr/local/lib/python3.6/dist-packages (from smart-open>=1.2.1->gensim>=3.4.0->stellargraph) (2.23.0)\n",
            "Requirement already satisfied: boto in /usr/local/lib/python3.6/dist-packages (from smart-open>=1.2.1->gensim>=3.4.0->stellargraph) (2.49.0)\n",
            "Requirement already satisfied: werkzeug>=0.11.15 in /usr/local/lib/python3.6/dist-packages (from tensorboard<2.3.0,>=2.2.0->tensorflow>=2.1.0->stellargraph) (1.0.1)\n",
            "Requirement already satisfied: setuptools>=41.0.0 in /usr/local/lib/python3.6/dist-packages (from tensorboard<2.3.0,>=2.2.0->tensorflow>=2.1.0->stellargraph) (47.3.1)\n",
            "Requirement already satisfied: google-auth-oauthlib<0.5,>=0.4.1 in /usr/local/lib/python3.6/dist-packages (from tensorboard<2.3.0,>=2.2.0->tensorflow>=2.1.0->stellargraph) (0.4.1)\n",
            "Requirement already satisfied: tensorboard-plugin-wit>=1.6.0 in /usr/local/lib/python3.6/dist-packages (from tensorboard<2.3.0,>=2.2.0->tensorflow>=2.1.0->stellargraph) (1.6.0.post3)\n",
            "Requirement already satisfied: google-auth<2,>=1.6.3 in /usr/local/lib/python3.6/dist-packages (from tensorboard<2.3.0,>=2.2.0->tensorflow>=2.1.0->stellargraph) (1.17.2)\n",
            "Requirement already satisfied: markdown>=2.6.8 in /usr/local/lib/python3.6/dist-packages (from tensorboard<2.3.0,>=2.2.0->tensorflow>=2.1.0->stellargraph) (3.2.2)\n",
            "Requirement already satisfied: s3transfer<0.4.0,>=0.3.0 in /usr/local/lib/python3.6/dist-packages (from boto3->smart-open>=1.2.1->gensim>=3.4.0->stellargraph) (0.3.3)\n",
            "Requirement already satisfied: botocore<1.18.0,>=1.17.9 in /usr/local/lib/python3.6/dist-packages (from boto3->smart-open>=1.2.1->gensim>=3.4.0->stellargraph) (1.17.9)\n",
            "Requirement already satisfied: jmespath<1.0.0,>=0.7.1 in /usr/local/lib/python3.6/dist-packages (from boto3->smart-open>=1.2.1->gensim>=3.4.0->stellargraph) (0.10.0)\n",
            "Requirement already satisfied: idna<3,>=2.5 in /usr/local/lib/python3.6/dist-packages (from requests->smart-open>=1.2.1->gensim>=3.4.0->stellargraph) (2.9)\n",
            "Requirement already satisfied: chardet<4,>=3.0.2 in /usr/local/lib/python3.6/dist-packages (from requests->smart-open>=1.2.1->gensim>=3.4.0->stellargraph) (3.0.4)\n",
            "Requirement already satisfied: urllib3!=1.25.0,!=1.25.1,<1.26,>=1.21.1 in /usr/local/lib/python3.6/dist-packages (from requests->smart-open>=1.2.1->gensim>=3.4.0->stellargraph) (1.24.3)\n",
            "Requirement already satisfied: certifi>=2017.4.17 in /usr/local/lib/python3.6/dist-packages (from requests->smart-open>=1.2.1->gensim>=3.4.0->stellargraph) (2020.6.20)\n",
            "Requirement already satisfied: requests-oauthlib>=0.7.0 in /usr/local/lib/python3.6/dist-packages (from google-auth-oauthlib<0.5,>=0.4.1->tensorboard<2.3.0,>=2.2.0->tensorflow>=2.1.0->stellargraph) (1.3.0)\n",
            "Requirement already satisfied: rsa<5,>=3.1.4; python_version >= \"3\" in /usr/local/lib/python3.6/dist-packages (from google-auth<2,>=1.6.3->tensorboard<2.3.0,>=2.2.0->tensorflow>=2.1.0->stellargraph) (4.6)\n",
            "Requirement already satisfied: pyasn1-modules>=0.2.1 in /usr/local/lib/python3.6/dist-packages (from google-auth<2,>=1.6.3->tensorboard<2.3.0,>=2.2.0->tensorflow>=2.1.0->stellargraph) (0.2.8)\n",
            "Requirement already satisfied: cachetools<5.0,>=2.0.0 in /usr/local/lib/python3.6/dist-packages (from google-auth<2,>=1.6.3->tensorboard<2.3.0,>=2.2.0->tensorflow>=2.1.0->stellargraph) (4.1.0)\n",
            "Requirement already satisfied: importlib-metadata; python_version < \"3.8\" in /usr/local/lib/python3.6/dist-packages (from markdown>=2.6.8->tensorboard<2.3.0,>=2.2.0->tensorflow>=2.1.0->stellargraph) (1.6.1)\n",
            "Requirement already satisfied: docutils<0.16,>=0.10 in /usr/local/lib/python3.6/dist-packages (from botocore<1.18.0,>=1.17.9->boto3->smart-open>=1.2.1->gensim>=3.4.0->stellargraph) (0.15.2)\n",
            "Requirement already satisfied: oauthlib>=3.0.0 in /usr/local/lib/python3.6/dist-packages (from requests-oauthlib>=0.7.0->google-auth-oauthlib<0.5,>=0.4.1->tensorboard<2.3.0,>=2.2.0->tensorflow>=2.1.0->stellargraph) (3.1.0)\n",
            "Requirement already satisfied: pyasn1>=0.1.3 in /usr/local/lib/python3.6/dist-packages (from rsa<5,>=3.1.4; python_version >= \"3\"->google-auth<2,>=1.6.3->tensorboard<2.3.0,>=2.2.0->tensorflow>=2.1.0->stellargraph) (0.4.8)\n",
            "Requirement already satisfied: zipp>=0.5 in /usr/local/lib/python3.6/dist-packages (from importlib-metadata; python_version < \"3.8\"->markdown>=2.6.8->tensorboard<2.3.0,>=2.2.0->tensorflow>=2.1.0->stellargraph) (3.1.0)\n",
            "Installing collected packages: stellargraph\n",
            "Successfully installed stellargraph-1.2.0\n"
          ],
          "name": "stdout"
        }
      ]
    },
    {
      "cell_type": "code",
      "metadata": {
        "id": "TbvHoxw0TZHR",
        "colab_type": "code",
        "colab": {}
      },
      "source": [
        "from stellargraph import StellarGraph\n",
        "from stellargraph.data import EdgeSplitter"
      ],
      "execution_count": 9,
      "outputs": []
    },
    {
      "cell_type": "code",
      "metadata": {
        "id": "HLlwfCR_TZHV",
        "colab_type": "code",
        "colab": {
          "base_uri": "https://localhost:8080/",
          "height": 34
        },
        "outputId": "3e07b7cb-5172-4e73-f17b-c1a6f98218aa"
      },
      "source": [
        "es_test = EdgeSplitter(G)\n",
        "graph_test, node_pairs, link_labels_test = es_test.train_test_split(\n",
        "    p=0.25, method=\"global\"\n",
        ")"
      ],
      "execution_count": 10,
      "outputs": [
        {
          "output_type": "stream",
          "text": [
            "** Sampled 132623 positive and 132623 negative edges. **\n"
          ],
          "name": "stdout"
        }
      ]
    },
    {
      "cell_type": "code",
      "metadata": {
        "id": "VaKMUUsPTZHZ",
        "colab_type": "code",
        "colab": {
          "base_uri": "https://localhost:8080/",
          "height": 34
        },
        "outputId": "24f2d8b9-d91c-41b2-940f-2130724f346a"
      },
      "source": [
        "from sklearn.model_selection import train_test_split\n",
        "# Do the same process to compute a training subset from within the test graph\n",
        "es_train = EdgeSplitter(graph_test, G)\n",
        "graph_train, examples_train, link_labels_train = es_train.train_test_split(\n",
        "    p=0.25, method=\"global\"\n",
        ")\n",
        "examples_train,examples_val, link_labels_train, link_label_val = train_test_split(examples_train,link_labels_train,test_size=0.1)"
      ],
      "execution_count": 11,
      "outputs": [
        {
          "output_type": "stream",
          "text": [
            "** Sampled 99468 positive and 99468 negative edges. **\n"
          ],
          "name": "stdout"
        }
      ]
    },
    {
      "cell_type": "markdown",
      "metadata": {
        "id": "QcM8KIumTZHe",
        "colab_type": "text"
      },
      "source": [
        "## Find node embeddings using GCN"
      ]
    },
    {
      "cell_type": "code",
      "metadata": {
        "id": "Ri05MkEiU1w5",
        "colab_type": "code",
        "colab": {
          "base_uri": "https://localhost:8080/",
          "height": 255
        },
        "outputId": "ac3a8fea-4f81-4287-e433-0e88f37b64a8"
      },
      "source": [
        "!pip install dgl"
      ],
      "execution_count": 12,
      "outputs": [
        {
          "output_type": "stream",
          "text": [
            "Collecting dgl\n",
            "\u001b[?25l  Downloading https://files.pythonhosted.org/packages/c5/b4/84e4ebd70ef3985181ef5d2d2a366a45af0e3cd18d249fb212ac03f683cf/dgl-0.4.3.post2-cp36-cp36m-manylinux1_x86_64.whl (3.0MB)\n",
            "\r\u001b[K     |                                | 10kB 26.2MB/s eta 0:00:01\r\u001b[K     |▏                               | 20kB 6.1MB/s eta 0:00:01\r\u001b[K     |▎                               | 30kB 7.5MB/s eta 0:00:01\r\u001b[K     |▍                               | 40kB 8.3MB/s eta 0:00:01\r\u001b[K     |▌                               | 51kB 7.0MB/s eta 0:00:01\r\u001b[K     |▋                               | 61kB 8.0MB/s eta 0:00:01\r\u001b[K     |▊                               | 71kB 8.3MB/s eta 0:00:01\r\u001b[K     |▉                               | 81kB 8.5MB/s eta 0:00:01\r\u001b[K     |█                               | 92kB 8.0MB/s eta 0:00:01\r\u001b[K     |█                               | 102kB 8.3MB/s eta 0:00:01\r\u001b[K     |█▏                              | 112kB 8.3MB/s eta 0:00:01\r\u001b[K     |█▎                              | 122kB 8.3MB/s eta 0:00:01\r\u001b[K     |█▍                              | 133kB 8.3MB/s eta 0:00:01\r\u001b[K     |█▌                              | 143kB 8.3MB/s eta 0:00:01\r\u001b[K     |█▋                              | 153kB 8.3MB/s eta 0:00:01\r\u001b[K     |█▊                              | 163kB 8.3MB/s eta 0:00:01\r\u001b[K     |█▉                              | 174kB 8.3MB/s eta 0:00:01\r\u001b[K     |██                              | 184kB 8.3MB/s eta 0:00:01\r\u001b[K     |██                              | 194kB 8.3MB/s eta 0:00:01\r\u001b[K     |██▏                             | 204kB 8.3MB/s eta 0:00:01\r\u001b[K     |██▎                             | 215kB 8.3MB/s eta 0:00:01\r\u001b[K     |██▍                             | 225kB 8.3MB/s eta 0:00:01\r\u001b[K     |██▌                             | 235kB 8.3MB/s eta 0:00:01\r\u001b[K     |██▋                             | 245kB 8.3MB/s eta 0:00:01\r\u001b[K     |██▊                             | 256kB 8.3MB/s eta 0:00:01\r\u001b[K     |██▉                             | 266kB 8.3MB/s eta 0:00:01\r\u001b[K     |███                             | 276kB 8.3MB/s eta 0:00:01\r\u001b[K     |███                             | 286kB 8.3MB/s eta 0:00:01\r\u001b[K     |███▏                            | 296kB 8.3MB/s eta 0:00:01\r\u001b[K     |███▎                            | 307kB 8.3MB/s eta 0:00:01\r\u001b[K     |███▍                            | 317kB 8.3MB/s eta 0:00:01\r\u001b[K     |███▌                            | 327kB 8.3MB/s eta 0:00:01\r\u001b[K     |███▋                            | 337kB 8.3MB/s eta 0:00:01\r\u001b[K     |███▊                            | 348kB 8.3MB/s eta 0:00:01\r\u001b[K     |███▉                            | 358kB 8.3MB/s eta 0:00:01\r\u001b[K     |████                            | 368kB 8.3MB/s eta 0:00:01\r\u001b[K     |████                            | 378kB 8.3MB/s eta 0:00:01\r\u001b[K     |████▏                           | 389kB 8.3MB/s eta 0:00:01\r\u001b[K     |████▎                           | 399kB 8.3MB/s eta 0:00:01\r\u001b[K     |████▍                           | 409kB 8.3MB/s eta 0:00:01\r\u001b[K     |████▌                           | 419kB 8.3MB/s eta 0:00:01\r\u001b[K     |████▋                           | 430kB 8.3MB/s eta 0:00:01\r\u001b[K     |████▊                           | 440kB 8.3MB/s eta 0:00:01\r\u001b[K     |████▉                           | 450kB 8.3MB/s eta 0:00:01\r\u001b[K     |█████                           | 460kB 8.3MB/s eta 0:00:01\r\u001b[K     |█████                           | 471kB 8.3MB/s eta 0:00:01\r\u001b[K     |█████▏                          | 481kB 8.3MB/s eta 0:00:01\r\u001b[K     |█████▎                          | 491kB 8.3MB/s eta 0:00:01\r\u001b[K     |█████▍                          | 501kB 8.3MB/s eta 0:00:01\r\u001b[K     |█████▌                          | 512kB 8.3MB/s eta 0:00:01\r\u001b[K     |█████▋                          | 522kB 8.3MB/s eta 0:00:01\r\u001b[K     |█████▊                          | 532kB 8.3MB/s eta 0:00:01\r\u001b[K     |█████▉                          | 542kB 8.3MB/s eta 0:00:01\r\u001b[K     |██████                          | 552kB 8.3MB/s eta 0:00:01\r\u001b[K     |██████                          | 563kB 8.3MB/s eta 0:00:01\r\u001b[K     |██████▏                         | 573kB 8.3MB/s eta 0:00:01\r\u001b[K     |██████▎                         | 583kB 8.3MB/s eta 0:00:01\r\u001b[K     |██████▍                         | 593kB 8.3MB/s eta 0:00:01\r\u001b[K     |██████▌                         | 604kB 8.3MB/s eta 0:00:01\r\u001b[K     |██████▋                         | 614kB 8.3MB/s eta 0:00:01\r\u001b[K     |██████▊                         | 624kB 8.3MB/s eta 0:00:01\r\u001b[K     |██████▉                         | 634kB 8.3MB/s eta 0:00:01\r\u001b[K     |███████                         | 645kB 8.3MB/s eta 0:00:01\r\u001b[K     |███████                         | 655kB 8.3MB/s eta 0:00:01\r\u001b[K     |███████▏                        | 665kB 8.3MB/s eta 0:00:01\r\u001b[K     |███████▎                        | 675kB 8.3MB/s eta 0:00:01\r\u001b[K     |███████▍                        | 686kB 8.3MB/s eta 0:00:01\r\u001b[K     |███████▌                        | 696kB 8.3MB/s eta 0:00:01\r\u001b[K     |███████▋                        | 706kB 8.3MB/s eta 0:00:01\r\u001b[K     |███████▊                        | 716kB 8.3MB/s eta 0:00:01\r\u001b[K     |███████▉                        | 727kB 8.3MB/s eta 0:00:01\r\u001b[K     |████████                        | 737kB 8.3MB/s eta 0:00:01\r\u001b[K     |████████                        | 747kB 8.3MB/s eta 0:00:01\r\u001b[K     |████████▏                       | 757kB 8.3MB/s eta 0:00:01\r\u001b[K     |████████▎                       | 768kB 8.3MB/s eta 0:00:01\r\u001b[K     |████████▍                       | 778kB 8.3MB/s eta 0:00:01\r\u001b[K     |████████▌                       | 788kB 8.3MB/s eta 0:00:01\r\u001b[K     |████████▋                       | 798kB 8.3MB/s eta 0:00:01\r\u001b[K     |████████▊                       | 808kB 8.3MB/s eta 0:00:01\r\u001b[K     |████████▉                       | 819kB 8.3MB/s eta 0:00:01\r\u001b[K     |█████████                       | 829kB 8.3MB/s eta 0:00:01\r\u001b[K     |█████████                       | 839kB 8.3MB/s eta 0:00:01\r\u001b[K     |█████████▏                      | 849kB 8.3MB/s eta 0:00:01\r\u001b[K     |█████████▎                      | 860kB 8.3MB/s eta 0:00:01\r\u001b[K     |█████████▍                      | 870kB 8.3MB/s eta 0:00:01\r\u001b[K     |█████████▌                      | 880kB 8.3MB/s eta 0:00:01\r\u001b[K     |█████████▋                      | 890kB 8.3MB/s eta 0:00:01\r\u001b[K     |█████████▊                      | 901kB 8.3MB/s eta 0:00:01\r\u001b[K     |█████████▉                      | 911kB 8.3MB/s eta 0:00:01\r\u001b[K     |██████████                      | 921kB 8.3MB/s eta 0:00:01\r\u001b[K     |██████████                      | 931kB 8.3MB/s eta 0:00:01\r\u001b[K     |██████████▏                     | 942kB 8.3MB/s eta 0:00:01\r\u001b[K     |██████████▎                     | 952kB 8.3MB/s eta 0:00:01\r\u001b[K     |██████████▍                     | 962kB 8.3MB/s eta 0:00:01\r\u001b[K     |██████████▌                     | 972kB 8.3MB/s eta 0:00:01\r\u001b[K     |██████████▋                     | 983kB 8.3MB/s eta 0:00:01\r\u001b[K     |██████████▊                     | 993kB 8.3MB/s eta 0:00:01\r\u001b[K     |██████████▉                     | 1.0MB 8.3MB/s eta 0:00:01\r\u001b[K     |███████████                     | 1.0MB 8.3MB/s eta 0:00:01\r\u001b[K     |███████████                     | 1.0MB 8.3MB/s eta 0:00:01\r\u001b[K     |███████████▏                    | 1.0MB 8.3MB/s eta 0:00:01\r\u001b[K     |███████████▎                    | 1.0MB 8.3MB/s eta 0:00:01\r\u001b[K     |███████████▍                    | 1.1MB 8.3MB/s eta 0:00:01\r\u001b[K     |███████████▌                    | 1.1MB 8.3MB/s eta 0:00:01\r\u001b[K     |███████████▋                    | 1.1MB 8.3MB/s eta 0:00:01\r\u001b[K     |███████████▊                    | 1.1MB 8.3MB/s eta 0:00:01\r\u001b[K     |███████████▉                    | 1.1MB 8.3MB/s eta 0:00:01\r\u001b[K     |████████████                    | 1.1MB 8.3MB/s eta 0:00:01\r\u001b[K     |████████████                    | 1.1MB 8.3MB/s eta 0:00:01\r\u001b[K     |████████████▏                   | 1.1MB 8.3MB/s eta 0:00:01\r\u001b[K     |████████████▎                   | 1.1MB 8.3MB/s eta 0:00:01\r\u001b[K     |████████████▍                   | 1.1MB 8.3MB/s eta 0:00:01\r\u001b[K     |████████████▌                   | 1.2MB 8.3MB/s eta 0:00:01\r\u001b[K     |████████████▋                   | 1.2MB 8.3MB/s eta 0:00:01\r\u001b[K     |████████████▊                   | 1.2MB 8.3MB/s eta 0:00:01\r\u001b[K     |████████████▉                   | 1.2MB 8.3MB/s eta 0:00:01\r\u001b[K     |█████████████                   | 1.2MB 8.3MB/s eta 0:00:01\r\u001b[K     |█████████████                   | 1.2MB 8.3MB/s eta 0:00:01\r\u001b[K     |█████████████▏                  | 1.2MB 8.3MB/s eta 0:00:01\r\u001b[K     |█████████████▎                  | 1.2MB 8.3MB/s eta 0:00:01\r\u001b[K     |█████████████▍                  | 1.2MB 8.3MB/s eta 0:00:01\r\u001b[K     |█████████████▌                  | 1.2MB 8.3MB/s eta 0:00:01\r\u001b[K     |█████████████▋                  | 1.3MB 8.3MB/s eta 0:00:01\r\u001b[K     |█████████████▊                  | 1.3MB 8.3MB/s eta 0:00:01\r\u001b[K     |█████████████▉                  | 1.3MB 8.3MB/s eta 0:00:01\r\u001b[K     |██████████████                  | 1.3MB 8.3MB/s eta 0:00:01\r\u001b[K     |██████████████                  | 1.3MB 8.3MB/s eta 0:00:01\r\u001b[K     |██████████████▏                 | 1.3MB 8.3MB/s eta 0:00:01\r\u001b[K     |██████████████▎                 | 1.3MB 8.3MB/s eta 0:00:01\r\u001b[K     |██████████████▍                 | 1.3MB 8.3MB/s eta 0:00:01\r\u001b[K     |██████████████▌                 | 1.3MB 8.3MB/s eta 0:00:01\r\u001b[K     |██████████████▋                 | 1.4MB 8.3MB/s eta 0:00:01\r\u001b[K     |██████████████▊                 | 1.4MB 8.3MB/s eta 0:00:01\r\u001b[K     |██████████████▉                 | 1.4MB 8.3MB/s eta 0:00:01\r\u001b[K     |███████████████                 | 1.4MB 8.3MB/s eta 0:00:01\r\u001b[K     |███████████████                 | 1.4MB 8.3MB/s eta 0:00:01\r\u001b[K     |███████████████▏                | 1.4MB 8.3MB/s eta 0:00:01\r\u001b[K     |███████████████▎                | 1.4MB 8.3MB/s eta 0:00:01\r\u001b[K     |███████████████▍                | 1.4MB 8.3MB/s eta 0:00:01\r\u001b[K     |███████████████▌                | 1.4MB 8.3MB/s eta 0:00:01\r\u001b[K     |███████████████▋                | 1.4MB 8.3MB/s eta 0:00:01\r\u001b[K     |███████████████▊                | 1.5MB 8.3MB/s eta 0:00:01\r\u001b[K     |███████████████▉                | 1.5MB 8.3MB/s eta 0:00:01\r\u001b[K     |████████████████                | 1.5MB 8.3MB/s eta 0:00:01\r\u001b[K     |████████████████                | 1.5MB 8.3MB/s eta 0:00:01\r\u001b[K     |████████████████▏               | 1.5MB 8.3MB/s eta 0:00:01\r\u001b[K     |████████████████▎               | 1.5MB 8.3MB/s eta 0:00:01\r\u001b[K     |████████████████▍               | 1.5MB 8.3MB/s eta 0:00:01\r\u001b[K     |████████████████▌               | 1.5MB 8.3MB/s eta 0:00:01\r\u001b[K     |████████████████▋               | 1.5MB 8.3MB/s eta 0:00:01\r\u001b[K     |████████████████▊               | 1.5MB 8.3MB/s eta 0:00:01\r\u001b[K     |████████████████▉               | 1.6MB 8.3MB/s eta 0:00:01\r\u001b[K     |█████████████████               | 1.6MB 8.3MB/s eta 0:00:01\r\u001b[K     |█████████████████               | 1.6MB 8.3MB/s eta 0:00:01\r\u001b[K     |█████████████████▏              | 1.6MB 8.3MB/s eta 0:00:01\r\u001b[K     |█████████████████▎              | 1.6MB 8.3MB/s eta 0:00:01\r\u001b[K     |█████████████████▍              | 1.6MB 8.3MB/s eta 0:00:01\r\u001b[K     |█████████████████▌              | 1.6MB 8.3MB/s eta 0:00:01\r\u001b[K     |█████████████████▋              | 1.6MB 8.3MB/s eta 0:00:01\r\u001b[K     |█████████████████▋              | 1.6MB 8.3MB/s eta 0:00:01\r\u001b[K     |█████████████████▊              | 1.6MB 8.3MB/s eta 0:00:01\r\u001b[K     |█████████████████▉              | 1.7MB 8.3MB/s eta 0:00:01\r\u001b[K     |██████████████████              | 1.7MB 8.3MB/s eta 0:00:01\r\u001b[K     |██████████████████              | 1.7MB 8.3MB/s eta 0:00:01\r\u001b[K     |██████████████████▏             | 1.7MB 8.3MB/s eta 0:00:01\r\u001b[K     |██████████████████▎             | 1.7MB 8.3MB/s eta 0:00:01\r\u001b[K     |██████████████████▍             | 1.7MB 8.3MB/s eta 0:00:01\r\u001b[K     |██████████████████▌             | 1.7MB 8.3MB/s eta 0:00:01\r\u001b[K     |██████████████████▋             | 1.7MB 8.3MB/s eta 0:00:01\r\u001b[K     |██████████████████▊             | 1.7MB 8.3MB/s eta 0:00:01\r\u001b[K     |██████████████████▉             | 1.8MB 8.3MB/s eta 0:00:01\r\u001b[K     |███████████████████             | 1.8MB 8.3MB/s eta 0:00:01\r\u001b[K     |███████████████████             | 1.8MB 8.3MB/s eta 0:00:01\r\u001b[K     |███████████████████▏            | 1.8MB 8.3MB/s eta 0:00:01\r\u001b[K     |███████████████████▎            | 1.8MB 8.3MB/s eta 0:00:01\r\u001b[K     |███████████████████▍            | 1.8MB 8.3MB/s eta 0:00:01\r\u001b[K     |███████████████████▌            | 1.8MB 8.3MB/s eta 0:00:01\r\u001b[K     |███████████████████▋            | 1.8MB 8.3MB/s eta 0:00:01\r\u001b[K     |███████████████████▊            | 1.8MB 8.3MB/s eta 0:00:01\r\u001b[K     |███████████████████▉            | 1.8MB 8.3MB/s eta 0:00:01\r\u001b[K     |████████████████████            | 1.9MB 8.3MB/s eta 0:00:01\r\u001b[K     |████████████████████            | 1.9MB 8.3MB/s eta 0:00:01\r\u001b[K     |████████████████████▏           | 1.9MB 8.3MB/s eta 0:00:01\r\u001b[K     |████████████████████▎           | 1.9MB 8.3MB/s eta 0:00:01\r\u001b[K     |████████████████████▍           | 1.9MB 8.3MB/s eta 0:00:01\r\u001b[K     |████████████████████▌           | 1.9MB 8.3MB/s eta 0:00:01\r\u001b[K     |████████████████████▋           | 1.9MB 8.3MB/s eta 0:00:01\r\u001b[K     |████████████████████▊           | 1.9MB 8.3MB/s eta 0:00:01\r\u001b[K     |████████████████████▉           | 1.9MB 8.3MB/s eta 0:00:01\r\u001b[K     |█████████████████████           | 1.9MB 8.3MB/s eta 0:00:01\r\u001b[K     |█████████████████████           | 2.0MB 8.3MB/s eta 0:00:01\r\u001b[K     |█████████████████████▏          | 2.0MB 8.3MB/s eta 0:00:01\r\u001b[K     |█████████████████████▎          | 2.0MB 8.3MB/s eta 0:00:01\r\u001b[K     |█████████████████████▍          | 2.0MB 8.3MB/s eta 0:00:01\r\u001b[K     |█████████████████████▌          | 2.0MB 8.3MB/s eta 0:00:01\r\u001b[K     |█████████████████████▋          | 2.0MB 8.3MB/s eta 0:00:01\r\u001b[K     |█████████████████████▊          | 2.0MB 8.3MB/s eta 0:00:01\r\u001b[K     |█████████████████████▉          | 2.0MB 8.3MB/s eta 0:00:01\r\u001b[K     |██████████████████████          | 2.0MB 8.3MB/s eta 0:00:01\r\u001b[K     |██████████████████████          | 2.0MB 8.3MB/s eta 0:00:01\r\u001b[K     |██████████████████████▏         | 2.1MB 8.3MB/s eta 0:00:01\r\u001b[K     |██████████████████████▎         | 2.1MB 8.3MB/s eta 0:00:01\r\u001b[K     |██████████████████████▍         | 2.1MB 8.3MB/s eta 0:00:01\r\u001b[K     |██████████████████████▌         | 2.1MB 8.3MB/s eta 0:00:01\r\u001b[K     |██████████████████████▋         | 2.1MB 8.3MB/s eta 0:00:01\r\u001b[K     |██████████████████████▊         | 2.1MB 8.3MB/s eta 0:00:01\r\u001b[K     |██████████████████████▉         | 2.1MB 8.3MB/s eta 0:00:01\r\u001b[K     |███████████████████████         | 2.1MB 8.3MB/s eta 0:00:01\r\u001b[K     |███████████████████████         | 2.1MB 8.3MB/s eta 0:00:01\r\u001b[K     |███████████████████████▏        | 2.2MB 8.3MB/s eta 0:00:01\r\u001b[K     |███████████████████████▎        | 2.2MB 8.3MB/s eta 0:00:01\r\u001b[K     |███████████████████████▍        | 2.2MB 8.3MB/s eta 0:00:01\r\u001b[K     |███████████████████████▌        | 2.2MB 8.3MB/s eta 0:00:01\r\u001b[K     |███████████████████████▋        | 2.2MB 8.3MB/s eta 0:00:01\r\u001b[K     |███████████████████████▊        | 2.2MB 8.3MB/s eta 0:00:01\r\u001b[K     |███████████████████████▉        | 2.2MB 8.3MB/s eta 0:00:01\r\u001b[K     |████████████████████████        | 2.2MB 8.3MB/s eta 0:00:01\r\u001b[K     |████████████████████████        | 2.2MB 8.3MB/s eta 0:00:01\r\u001b[K     |████████████████████████▏       | 2.2MB 8.3MB/s eta 0:00:01\r\u001b[K     |████████████████████████▎       | 2.3MB 8.3MB/s eta 0:00:01\r\u001b[K     |████████████████████████▍       | 2.3MB 8.3MB/s eta 0:00:01\r\u001b[K     |████████████████████████▌       | 2.3MB 8.3MB/s eta 0:00:01\r\u001b[K     |████████████████████████▋       | 2.3MB 8.3MB/s eta 0:00:01\r\u001b[K     |████████████████████████▊       | 2.3MB 8.3MB/s eta 0:00:01\r\u001b[K     |████████████████████████▉       | 2.3MB 8.3MB/s eta 0:00:01\r\u001b[K     |█████████████████████████       | 2.3MB 8.3MB/s eta 0:00:01\r\u001b[K     |█████████████████████████       | 2.3MB 8.3MB/s eta 0:00:01\r\u001b[K     |█████████████████████████▏      | 2.3MB 8.3MB/s eta 0:00:01\r\u001b[K     |█████████████████████████▎      | 2.3MB 8.3MB/s eta 0:00:01\r\u001b[K     |█████████████████████████▍      | 2.4MB 8.3MB/s eta 0:00:01\r\u001b[K     |█████████████████████████▌      | 2.4MB 8.3MB/s eta 0:00:01\r\u001b[K     |█████████████████████████▋      | 2.4MB 8.3MB/s eta 0:00:01\r\u001b[K     |█████████████████████████▊      | 2.4MB 8.3MB/s eta 0:00:01\r\u001b[K     |█████████████████████████▉      | 2.4MB 8.3MB/s eta 0:00:01\r\u001b[K     |██████████████████████████      | 2.4MB 8.3MB/s eta 0:00:01\r\u001b[K     |██████████████████████████      | 2.4MB 8.3MB/s eta 0:00:01\r\u001b[K     |██████████████████████████▏     | 2.4MB 8.3MB/s eta 0:00:01\r\u001b[K     |██████████████████████████▎     | 2.4MB 8.3MB/s eta 0:00:01\r\u001b[K     |██████████████████████████▍     | 2.4MB 8.3MB/s eta 0:00:01\r\u001b[K     |██████████████████████████▌     | 2.5MB 8.3MB/s eta 0:00:01\r\u001b[K     |██████████████████████████▋     | 2.5MB 8.3MB/s eta 0:00:01\r\u001b[K     |██████████████████████████▊     | 2.5MB 8.3MB/s eta 0:00:01\r\u001b[K     |██████████████████████████▉     | 2.5MB 8.3MB/s eta 0:00:01\r\u001b[K     |███████████████████████████     | 2.5MB 8.3MB/s eta 0:00:01\r\u001b[K     |███████████████████████████     | 2.5MB 8.3MB/s eta 0:00:01\r\u001b[K     |███████████████████████████▏    | 2.5MB 8.3MB/s eta 0:00:01\r\u001b[K     |███████████████████████████▎    | 2.5MB 8.3MB/s eta 0:00:01\r\u001b[K     |███████████████████████████▍    | 2.5MB 8.3MB/s eta 0:00:01\r\u001b[K     |███████████████████████████▌    | 2.5MB 8.3MB/s eta 0:00:01\r\u001b[K     |███████████████████████████▋    | 2.6MB 8.3MB/s eta 0:00:01\r\u001b[K     |███████████████████████████▊    | 2.6MB 8.3MB/s eta 0:00:01\r\u001b[K     |███████████████████████████▉    | 2.6MB 8.3MB/s eta 0:00:01\r\u001b[K     |████████████████████████████    | 2.6MB 8.3MB/s eta 0:00:01\r\u001b[K     |████████████████████████████    | 2.6MB 8.3MB/s eta 0:00:01\r\u001b[K     |████████████████████████████▏   | 2.6MB 8.3MB/s eta 0:00:01\r\u001b[K     |████████████████████████████▎   | 2.6MB 8.3MB/s eta 0:00:01\r\u001b[K     |████████████████████████████▍   | 2.6MB 8.3MB/s eta 0:00:01\r\u001b[K     |████████████████████████████▌   | 2.6MB 8.3MB/s eta 0:00:01\r\u001b[K     |████████████████████████████▋   | 2.7MB 8.3MB/s eta 0:00:01\r\u001b[K     |████████████████████████████▊   | 2.7MB 8.3MB/s eta 0:00:01\r\u001b[K     |████████████████████████████▉   | 2.7MB 8.3MB/s eta 0:00:01\r\u001b[K     |█████████████████████████████   | 2.7MB 8.3MB/s eta 0:00:01\r\u001b[K     |█████████████████████████████   | 2.7MB 8.3MB/s eta 0:00:01\r\u001b[K     |█████████████████████████████▏  | 2.7MB 8.3MB/s eta 0:00:01\r\u001b[K     |█████████████████████████████▎  | 2.7MB 8.3MB/s eta 0:00:01\r\u001b[K     |█████████████████████████████▍  | 2.7MB 8.3MB/s eta 0:00:01\r\u001b[K     |█████████████████████████████▌  | 2.7MB 8.3MB/s eta 0:00:01\r\u001b[K     |█████████████████████████████▋  | 2.7MB 8.3MB/s eta 0:00:01\r\u001b[K     |█████████████████████████████▊  | 2.8MB 8.3MB/s eta 0:00:01\r\u001b[K     |█████████████████████████████▉  | 2.8MB 8.3MB/s eta 0:00:01\r\u001b[K     |██████████████████████████████  | 2.8MB 8.3MB/s eta 0:00:01\r\u001b[K     |██████████████████████████████  | 2.8MB 8.3MB/s eta 0:00:01\r\u001b[K     |██████████████████████████████▏ | 2.8MB 8.3MB/s eta 0:00:01\r\u001b[K     |██████████████████████████████▎ | 2.8MB 8.3MB/s eta 0:00:01\r\u001b[K     |██████████████████████████████▍ | 2.8MB 8.3MB/s eta 0:00:01\r\u001b[K     |██████████████████████████████▌ | 2.8MB 8.3MB/s eta 0:00:01\r\u001b[K     |██████████████████████████████▋ | 2.8MB 8.3MB/s eta 0:00:01\r\u001b[K     |██████████████████████████████▊ | 2.8MB 8.3MB/s eta 0:00:01\r\u001b[K     |██████████████████████████████▉ | 2.9MB 8.3MB/s eta 0:00:01\r\u001b[K     |███████████████████████████████ | 2.9MB 8.3MB/s eta 0:00:01\r\u001b[K     |███████████████████████████████ | 2.9MB 8.3MB/s eta 0:00:01\r\u001b[K     |███████████████████████████████▏| 2.9MB 8.3MB/s eta 0:00:01\r\u001b[K     |███████████████████████████████▎| 2.9MB 8.3MB/s eta 0:00:01\r\u001b[K     |███████████████████████████████▍| 2.9MB 8.3MB/s eta 0:00:01\r\u001b[K     |███████████████████████████████▌| 2.9MB 8.3MB/s eta 0:00:01\r\u001b[K     |███████████████████████████████▋| 2.9MB 8.3MB/s eta 0:00:01\r\u001b[K     |███████████████████████████████▊| 2.9MB 8.3MB/s eta 0:00:01\r\u001b[K     |███████████████████████████████▉| 2.9MB 8.3MB/s eta 0:00:01\r\u001b[K     |████████████████████████████████| 3.0MB 8.3MB/s eta 0:00:01\r\u001b[K     |████████████████████████████████| 3.0MB 8.3MB/s \n",
            "\u001b[?25hRequirement already satisfied: numpy>=1.14.0 in /usr/local/lib/python3.6/dist-packages (from dgl) (1.18.5)\n",
            "Requirement already satisfied: requests>=2.19.0 in /usr/local/lib/python3.6/dist-packages (from dgl) (2.23.0)\n",
            "Requirement already satisfied: scipy>=1.1.0 in /usr/local/lib/python3.6/dist-packages (from dgl) (1.4.1)\n",
            "Requirement already satisfied: networkx>=2.1 in /usr/local/lib/python3.6/dist-packages (from dgl) (2.4)\n",
            "Requirement already satisfied: urllib3!=1.25.0,!=1.25.1,<1.26,>=1.21.1 in /usr/local/lib/python3.6/dist-packages (from requests>=2.19.0->dgl) (1.24.3)\n",
            "Requirement already satisfied: idna<3,>=2.5 in /usr/local/lib/python3.6/dist-packages (from requests>=2.19.0->dgl) (2.9)\n",
            "Requirement already satisfied: certifi>=2017.4.17 in /usr/local/lib/python3.6/dist-packages (from requests>=2.19.0->dgl) (2020.6.20)\n",
            "Requirement already satisfied: chardet<4,>=3.0.2 in /usr/local/lib/python3.6/dist-packages (from requests>=2.19.0->dgl) (3.0.4)\n",
            "Requirement already satisfied: decorator>=4.3.0 in /usr/local/lib/python3.6/dist-packages (from networkx>=2.1->dgl) (4.4.2)\n",
            "Installing collected packages: dgl\n",
            "Successfully installed dgl-0.4.3.post2\n"
          ],
          "name": "stdout"
        }
      ]
    },
    {
      "cell_type": "code",
      "metadata": {
        "id": "_0W1GbrtTZHe",
        "colab_type": "code",
        "colab": {
          "base_uri": "https://localhost:8080/",
          "height": 68
        },
        "outputId": "51e34920-3606-43ef-d9bd-48639be7010e"
      },
      "source": [
        "import dgl\n",
        "import torch as th\n",
        "import torch.nn as nn\n",
        "import torch.nn.functional as F\n",
        "from dgl import DGLGraph"
      ],
      "execution_count": 13,
      "outputs": [
        {
          "output_type": "stream",
          "text": [
            "DGL backend not selected or invalid.  Assuming PyTorch for now.\n",
            "Using backend: pytorch\n"
          ],
          "name": "stderr"
        },
        {
          "output_type": "stream",
          "text": [
            "Setting the default backend to \"pytorch\". You can change it in the ~/.dgl/config.json file or export the DGLBACKEND environment variable.  Valid options are: pytorch, mxnet, tensorflow (all lowercase)\n"
          ],
          "name": "stdout"
        }
      ]
    },
    {
      "cell_type": "code",
      "metadata": {
        "id": "zBKKNUHNTZHi",
        "colab_type": "code",
        "colab": {}
      },
      "source": [
        "from dgl.nn.pytorch.conv import GraphConv"
      ],
      "execution_count": 14,
      "outputs": []
    },
    {
      "cell_type": "code",
      "metadata": {
        "id": "97Zl7fP0TZHm",
        "colab_type": "code",
        "colab": {
          "base_uri": "https://localhost:8080/",
          "height": 85
        },
        "outputId": "f7dba8eb-653d-4674-f1f9-cfa3fbd3d947"
      },
      "source": [
        "class Net(nn.Module):\n",
        "    def __init__(self):\n",
        "        super(Net, self).__init__()\n",
        "        self.layer1 = GraphConv(in_feats=6526,out_feats=502)\n",
        "        self.layer2 = GraphConv(in_feats=502,out_feats=2)\n",
        "\n",
        "    def forward(self, g, features):\n",
        "        x = F.relu(self.layer1(g, features))\n",
        "        x = self.layer2(g, x)\n",
        "        return x\n",
        "net = Net()\n",
        "print(net)"
      ],
      "execution_count": 16,
      "outputs": [
        {
          "output_type": "stream",
          "text": [
            "Net(\n",
            "  (layer1): GraphConv(in=6526, out=502, normalization=both, activation=None)\n",
            "  (layer2): GraphConv(in=502, out=2, normalization=both, activation=None)\n",
            ")\n"
          ],
          "name": "stdout"
        }
      ]
    },
    {
      "cell_type": "code",
      "metadata": {
        "id": "prgNRuMxTZHq",
        "colab_type": "code",
        "colab": {}
      },
      "source": [
        "features = np.identity(len(graph_train.nodes))"
      ],
      "execution_count": null,
      "outputs": []
    },
    {
      "cell_type": "code",
      "metadata": {
        "id": "M4PFNrvCTZHu",
        "colab_type": "code",
        "colab": {
          "base_uri": "https://localhost:8080/",
          "height": 34
        },
        "outputId": "cb0616c9-9779-4677-a8a8-f45ae4588a6b"
      },
      "source": [
        "features.shape"
      ],
      "execution_count": null,
      "outputs": [
        {
          "output_type": "execute_result",
          "data": {
            "text/plain": [
              "(6526, 6526)"
            ]
          },
          "metadata": {
            "tags": []
          },
          "execution_count": 37
        }
      ]
    },
    {
      "cell_type": "code",
      "metadata": {
        "id": "wLANxToaTZHy",
        "colab_type": "code",
        "colab": {}
      },
      "source": [
        "dgl_graph_train = DGLGraph()\n",
        "dgl_graph_train.from_networkx(graph_train)"
      ],
      "execution_count": null,
      "outputs": []
    },
    {
      "cell_type": "code",
      "metadata": {
        "id": "L_QSnQRaljup",
        "colab_type": "code",
        "colab": {}
      },
      "source": [
        "generator = sg.mapper.PaddedGraphGenerator(graphs)"
      ],
      "execution_count": null,
      "outputs": []
    },
    {
      "cell_type": "code",
      "metadata": {
        "id": "fm5IRjomlAe0",
        "colab_type": "code",
        "colab": {}
      },
      "source": [
        "def graph_distance(graph1, graph2):\n",
        "    spec1 = nx.laplacian_spectrum(graph1.to_networkx(feature_attr=None))\n",
        "    spec2 = nx.laplacian_spectrum(graph2.to_networkx(feature_attr=None))\n",
        "    k = min(len(spec1), len(spec2))\n",
        "    return np.linalg.norm(spec1[:k] - spec2[:k])"
      ],
      "execution_count": null,
      "outputs": []
    },
    {
      "cell_type": "code",
      "metadata": {
        "id": "kPZ7MiCxTZH1",
        "colab_type": "code",
        "colab": {}
      },
      "source": [
        "net.train()\n",
        "logits = net(dgl_graph_train, th.FloatTensor(features))"
      ],
      "execution_count": null,
      "outputs": []
    },
    {
      "cell_type": "code",
      "metadata": {
        "id": "ED8i92-ETZH5",
        "colab_type": "code",
        "colab": {}
      },
      "source": [
        "emb = logits.detach().numpy()"
      ],
      "execution_count": null,
      "outputs": []
    },
    {
      "cell_type": "code",
      "metadata": {
        "id": "aEr1H5eNTZH9",
        "colab_type": "code",
        "colab": {}
      },
      "source": [
        "def return_embedding_of_node(node_name):\n",
        "    #nodes are maintained in adjacency matrix in the same order as G.nodes\n",
        "    nodes = np.asarray(G.nodes)\n",
        "    index = np.where(nodes==node_name)\n",
        "    return emb[index]"
      ],
      "execution_count": null,
      "outputs": []
    },
    {
      "cell_type": "code",
      "metadata": {
        "id": "DdBwHU62TZIB",
        "colab_type": "code",
        "colab": {}
      },
      "source": [
        "from sklearn.pipeline import Pipeline\n",
        "from sklearn.linear_model import LogisticRegressionCV\n",
        "from sklearn.metrics import roc_auc_score\n",
        "from sklearn.preprocessing import StandardScaler\n",
        "\n",
        "\n",
        "# 1. link embeddings\n",
        "def link_examples_to_features(link_examples, binary_operator):\n",
        "    feat =  [binary_operator(return_embedding_of_node(src), return_embedding_of_node(dst))\n",
        "             for src, dst in link_examples]\n",
        "    features = np.asarray(feat)\n",
        "    features = np.reshape(features,(features.shape[0],features.shape[2]))\n",
        "    return features\n",
        "    \n",
        "\n",
        "\n",
        "# 2. training classifier\n",
        "def train_link_prediction_model(link_examples, link_labels, binary_operator):\n",
        "    clf = link_prediction_classifier()\n",
        "    link_features = link_examples_to_features(link_examples, binary_operator)\n",
        "    clf.fit(link_features, link_labels)\n",
        "    return clf\n",
        "\n",
        "\n",
        "def link_prediction_classifier(max_iter=2000):\n",
        "    lr_clf = LogisticRegressionCV(Cs=10, cv=10, scoring=\"roc_auc\", max_iter=max_iter)\n",
        "    return Pipeline(steps=[(\"sc\", StandardScaler()), (\"clf\", lr_clf)])\n",
        "\n",
        "\n",
        "# 3. and 4. evaluate classifier\n",
        "def evaluate_link_prediction_model(clf, link_examples_test, link_labels_test, binary_operator):\n",
        "    link_features_test = link_examples_to_features(link_examples_test, binary_operator)\n",
        "    score = evaluate_roc_auc(clf, link_features_test, link_labels_test)\n",
        "    return score\n",
        "\n",
        "\n",
        "def evaluate_roc_auc(clf, link_features, link_labels):\n",
        "    predicted = clf.predict_proba(link_features)\n",
        "\n",
        "    # check which class corresponds to positive links\n",
        "    positive_column = list(clf.classes_).index(1)\n",
        "    return roc_auc_score(link_labels, predicted[:, positive_column])"
      ],
      "execution_count": null,
      "outputs": []
    },
    {
      "cell_type": "code",
      "metadata": {
        "id": "cKGwtOqrTZIE",
        "colab_type": "code",
        "colab": {}
      },
      "source": [
        "def operator_hadamard(u, v):\n",
        "    return u * v\n",
        "\n",
        "\n",
        "def operator_l1(u, v):\n",
        "    return np.abs(u - v)\n",
        "\n",
        "\n",
        "def operator_l2(u, v):\n",
        "    return (u - v) ** 2\n",
        "\n",
        "\n",
        "def operator_avg(u, v):\n",
        "    return (u + v) / 2.0\n",
        "\n",
        "def run_link_prediction(binary_operator):\n",
        "    clf = train_link_prediction_model(examples_train, link_labels_train, binary_operator)\n",
        "    score = evaluate_link_prediction_model(\n",
        "        clf,\n",
        "        examples_val,\n",
        "        link_label_val,\n",
        "        binary_operator,\n",
        "    )\n",
        "    return {\n",
        "        \"classifier\": clf,\n",
        "        \"binary_operator\": binary_operator,\n",
        "        \"score\": score,\n",
        "    }\n",
        "\n",
        "\n",
        "binary_operators = [operator_hadamard, operator_l1, operator_l2, operator_avg]"
      ],
      "execution_count": null,
      "outputs": []
    },
    {
      "cell_type": "code",
      "metadata": {
        "id": "-D2KLuf4TZIT",
        "colab_type": "code",
        "colab": {}
      },
      "source": [
        "results = [run_link_prediction(op) for op in binary_operators]"
      ],
      "execution_count": null,
      "outputs": []
    },
    {
      "cell_type": "code",
      "metadata": {
        "id": "i2q2d6v8TZIW",
        "colab_type": "code",
        "colab": {
          "base_uri": "https://localhost:8080/",
          "height": 221
        },
        "outputId": "8b3663b1-a5fe-434d-b6c8-f7378d57a5da"
      },
      "source": [
        "import pandas as pd\n",
        "best_result = max(results, key=lambda result: result[\"score\"])\n",
        "\n",
        "print(f\"Best result from '{best_result['binary_operator'].__name__}'\")\n",
        "\n",
        "pd.DataFrame(\n",
        "    [(result[\"binary_operator\"].__name__, result[\"score\"]) for result in results],\n",
        "    columns=(\"name\", \"ROC AUC score\"),\n",
        ").set_index(\"name\")"
      ],
      "execution_count": null,
      "outputs": [
        {
          "output_type": "stream",
          "text": [
            "Best result from 'operator_avg'\n"
          ],
          "name": "stdout"
        },
        {
          "output_type": "execute_result",
          "data": {
            "text/html": [
              "<div>\n",
              "<style scoped>\n",
              "    .dataframe tbody tr th:only-of-type {\n",
              "        vertical-align: middle;\n",
              "    }\n",
              "\n",
              "    .dataframe tbody tr th {\n",
              "        vertical-align: top;\n",
              "    }\n",
              "\n",
              "    .dataframe thead th {\n",
              "        text-align: right;\n",
              "    }\n",
              "</style>\n",
              "<table border=\"1\" class=\"dataframe\">\n",
              "  <thead>\n",
              "    <tr style=\"text-align: right;\">\n",
              "      <th></th>\n",
              "      <th>ROC AUC score</th>\n",
              "    </tr>\n",
              "    <tr>\n",
              "      <th>name</th>\n",
              "      <th></th>\n",
              "    </tr>\n",
              "  </thead>\n",
              "  <tbody>\n",
              "    <tr>\n",
              "      <th>operator_hadamard</th>\n",
              "      <td>0.547837</td>\n",
              "    </tr>\n",
              "    <tr>\n",
              "      <th>operator_l1</th>\n",
              "      <td>0.524061</td>\n",
              "    </tr>\n",
              "    <tr>\n",
              "      <th>operator_l2</th>\n",
              "      <td>0.517573</td>\n",
              "    </tr>\n",
              "    <tr>\n",
              "      <th>operator_avg</th>\n",
              "      <td>0.554613</td>\n",
              "    </tr>\n",
              "  </tbody>\n",
              "</table>\n",
              "</div>"
            ],
            "text/plain": [
              "                   ROC AUC score\n",
              "name                            \n",
              "operator_hadamard       0.547837\n",
              "operator_l1             0.524061\n",
              "operator_l2             0.517573\n",
              "operator_avg            0.554613"
            ]
          },
          "metadata": {
            "tags": []
          },
          "execution_count": 45
        }
      ]
    },
    {
      "cell_type": "code",
      "metadata": {
        "id": "dhNsoWXnTZIZ",
        "colab_type": "code",
        "colab": {
          "base_uri": "https://localhost:8080/",
          "height": 34
        },
        "outputId": "b786c4c6-19eb-44a5-8781-2b4081d22e5b"
      },
      "source": [
        "test_score = evaluate_link_prediction_model(\n",
        "    best_result[\"classifier\"],\n",
        "    node_pairs,\n",
        "    link_labels_test,\n",
        "    best_result[\"binary_operator\"],\n",
        ")\n",
        "print(\n",
        "    f\"ROC AUC score on test set using '{best_result['binary_operator'].__name__}': {test_score}\"\n",
        ")"
      ],
      "execution_count": null,
      "outputs": [
        {
          "output_type": "stream",
          "text": [
            "ROC AUC score on test set using 'operator_avg': 0.56039620926023\n"
          ],
          "name": "stdout"
        }
      ]
    },
    {
      "cell_type": "code",
      "metadata": {
        "id": "W5NJhHfvTZIe",
        "colab_type": "code",
        "colab": {}
      },
      "source": [
        ""
      ],
      "execution_count": null,
      "outputs": []
    },
    {
      "cell_type": "code",
      "metadata": {
        "id": "VabFiKlGTZIh",
        "colab_type": "code",
        "colab": {}
      },
      "source": [
        ""
      ],
      "execution_count": null,
      "outputs": []
    },
    {
      "cell_type": "code",
      "metadata": {
        "id": "Widl4WEXTZIl",
        "colab_type": "code",
        "colab": {}
      },
      "source": [
        ""
      ],
      "execution_count": null,
      "outputs": []
    },
    {
      "cell_type": "code",
      "metadata": {
        "id": "ezZJG4XQTZIp",
        "colab_type": "code",
        "colab": {}
      },
      "source": [
        ""
      ],
      "execution_count": null,
      "outputs": []
    },
    {
      "cell_type": "code",
      "metadata": {
        "id": "XtLhLbaMTZIu",
        "colab_type": "code",
        "colab": {}
      },
      "source": [
        ""
      ],
      "execution_count": null,
      "outputs": []
    },
    {
      "cell_type": "code",
      "metadata": {
        "id": "h3lLuKtITZIy",
        "colab_type": "code",
        "colab": {}
      },
      "source": [
        ""
      ],
      "execution_count": null,
      "outputs": []
    },
    {
      "cell_type": "code",
      "metadata": {
        "id": "2NlLwW0XTZI0",
        "colab_type": "code",
        "colab": {}
      },
      "source": [
        ""
      ],
      "execution_count": null,
      "outputs": []
    },
    {
      "cell_type": "code",
      "metadata": {
        "id": "-e7iJLc0TZI3",
        "colab_type": "code",
        "colab": {}
      },
      "source": [
        ""
      ],
      "execution_count": null,
      "outputs": []
    },
    {
      "cell_type": "code",
      "metadata": {
        "id": "AVBmPgRKTZI7",
        "colab_type": "code",
        "colab": {}
      },
      "source": [
        ""
      ],
      "execution_count": null,
      "outputs": []
    },
    {
      "cell_type": "code",
      "metadata": {
        "id": "C8dhPkvjTZI_",
        "colab_type": "code",
        "colab": {}
      },
      "source": [
        ""
      ],
      "execution_count": null,
      "outputs": []
    },
    {
      "cell_type": "code",
      "metadata": {
        "id": "q3cRGZjbTZJC",
        "colab_type": "code",
        "colab": {}
      },
      "source": [
        ""
      ],
      "execution_count": null,
      "outputs": []
    },
    {
      "cell_type": "code",
      "metadata": {
        "id": "TXw2KLb9TZJG",
        "colab_type": "code",
        "colab": {}
      },
      "source": [
        ""
      ],
      "execution_count": null,
      "outputs": []
    },
    {
      "cell_type": "code",
      "metadata": {
        "id": "JjIBU07wTZJJ",
        "colab_type": "code",
        "colab": {}
      },
      "source": [
        ""
      ],
      "execution_count": null,
      "outputs": []
    },
    {
      "cell_type": "code",
      "metadata": {
        "id": "DivULjzuTZJM",
        "colab_type": "code",
        "colab": {}
      },
      "source": [
        ""
      ],
      "execution_count": null,
      "outputs": []
    },
    {
      "cell_type": "code",
      "metadata": {
        "id": "4IhtoEOzTZJP",
        "colab_type": "code",
        "colab": {}
      },
      "source": [
        ""
      ],
      "execution_count": null,
      "outputs": []
    },
    {
      "cell_type": "code",
      "metadata": {
        "id": "rUBj65RhTZJS",
        "colab_type": "code",
        "colab": {}
      },
      "source": [
        ""
      ],
      "execution_count": null,
      "outputs": []
    },
    {
      "cell_type": "code",
      "metadata": {
        "id": "xNFGVeNnTZJV",
        "colab_type": "code",
        "colab": {}
      },
      "source": [
        ""
      ],
      "execution_count": null,
      "outputs": []
    },
    {
      "cell_type": "code",
      "metadata": {
        "id": "vk3kY5vYTZJY",
        "colab_type": "code",
        "colab": {}
      },
      "source": [
        ""
      ],
      "execution_count": null,
      "outputs": []
    },
    {
      "cell_type": "code",
      "metadata": {
        "id": "hgIlI0J1TZJb",
        "colab_type": "code",
        "colab": {}
      },
      "source": [
        "#Graph Visualization\n",
        "\n",
        "def visualize_graph(file_name, graph):\n",
        "    title = file_name\n",
        "    plt.figure(figsize=(20,20))\n",
        "    node_size = 15\n",
        "    node_alpha = .6\n",
        "\n",
        "    edge_color = '#483D8B'\n",
        "    edge_alpha = 0.15\n",
        "    edge_style = 'dashed'\n",
        "    edge_width = 2\n",
        "\n",
        "    protein_node_color = \"#F08080\"\n",
        "    rna_node_color = \"#1E90FF\"\n",
        "\n",
        "    pos = nx.drawing.nx_agraph.graphviz_layout(graph)\n",
        "    nx.draw_networkx_nodes(graph, pos, node_size=node_size, node_color=rna_node_color, alpha=node_alpha)\n",
        "    nx.draw_networkx_edges(graph, pos, width=edge_width, alpha=edge_alpha)\n",
        "    plt.axis('off')\n",
        "    plt.savefig(\"images/{}.png\".format(title))\n",
        "    plt.title(\"{} / Blue - Protein\".format(title))\n",
        "    plt.show()"
      ],
      "execution_count": null,
      "outputs": []
    },
    {
      "cell_type": "code",
      "metadata": {
        "id": "qIkS7zcCTZJe",
        "colab_type": "code",
        "colab": {}
      },
      "source": [
        "adj = nx.adjacency_matrix(G)\n",
        "adj.todense()"
      ],
      "execution_count": null,
      "outputs": []
    },
    {
      "cell_type": "code",
      "metadata": {
        "id": "E-DeWVr2TZJi",
        "colab_type": "code",
        "colab": {}
      },
      "source": [
        "#Remove self-edges\n",
        "adj = adj - sp.dia_matrix((adj.diagonal()[np.newaxis, :], [0]), shape=adj.shape)\n",
        "adj.eliminate_zeros()\n",
        "adj.todense()"
      ],
      "execution_count": null,
      "outputs": []
    },
    {
      "cell_type": "code",
      "metadata": {
        "id": "rr-a8ilBTZJn",
        "colab_type": "code",
        "colab": {}
      },
      "source": [
        "def sparse_to_tuple(sparse_mx):\n",
        "    if not sp.isspmatrix_coo(sparse_mx):\n",
        "        sparse_mx = sparse_mx.tocoo()\n",
        "    coords = np.vstack((sparse_mx.row, sparse_mx.col)).transpose()\n",
        "    values = sparse_mx.data\n",
        "    shape = sparse_mx.shape\n",
        "    return coords, values, shape"
      ],
      "execution_count": null,
      "outputs": []
    },
    {
      "cell_type": "code",
      "metadata": {
        "id": "-cDbEdNvTZJr",
        "colab_type": "code",
        "colab": {}
      },
      "source": [
        "a = sparse_to_tuple(adj)[0]\n",
        "np.random.shuffle(a)"
      ],
      "execution_count": null,
      "outputs": []
    },
    {
      "cell_type": "code",
      "metadata": {
        "id": "xUUZYV0lTZJv",
        "colab_type": "code",
        "colab": {}
      },
      "source": [
        "#Number of edges required in train, test and validation set\n",
        "num_edges = a.shape[0]\n",
        "num_val_edges = math.floor(num_edges * 0.02)\n",
        "num_test_edges = math.floor(num_edges * 0.18)\n",
        "num_train_edges = num_edges - (num_val_edges + num_test_edges)"
      ],
      "execution_count": null,
      "outputs": []
    },
    {
      "cell_type": "code",
      "metadata": {
        "id": "j_iqfFNDTZJz",
        "colab_type": "code",
        "colab": {}
      },
      "source": [
        "#put 80% of the edges into train set, 18% into test set and 2% in validation set\n",
        "train_edges_true = a[:num_train_edges]\n",
        "test_edges_true = a[num_train_edges:]"
      ],
      "execution_count": null,
      "outputs": []
    },
    {
      "cell_type": "code",
      "metadata": {
        "id": "e2Y8tN5VTZJ2",
        "colab_type": "code",
        "colab": {}
      },
      "source": [
        "#prepare validation set\n",
        "val_edges_true = test_edges_true[:num_val_edges]\n",
        "test_edges_true = test_edges_true[num_val_edges:]"
      ],
      "execution_count": null,
      "outputs": []
    },
    {
      "cell_type": "code",
      "metadata": {
        "id": "f_54Q4uSTZJ4",
        "colab_type": "code",
        "colab": {}
      },
      "source": [
        "test_edges_true"
      ],
      "execution_count": null,
      "outputs": []
    },
    {
      "cell_type": "code",
      "metadata": {
        "id": "bcEBErPYTZJ7",
        "colab_type": "code",
        "colab": {}
      },
      "source": [
        ""
      ],
      "execution_count": null,
      "outputs": []
    },
    {
      "cell_type": "code",
      "metadata": {
        "id": "CMRbMOxUTZJ9",
        "colab_type": "code",
        "colab": {}
      },
      "source": [
        ""
      ],
      "execution_count": null,
      "outputs": []
    },
    {
      "cell_type": "code",
      "metadata": {
        "id": "DBvuIpIpTZJ_",
        "colab_type": "code",
        "colab": {}
      },
      "source": [
        "def sample_non_edges(num_of_edges,true_edges,adjmat):\n",
        "    adj_dense = adjmat.todense()\n",
        "    uniq_nodes = np.unique(true_edges)\n",
        "    edges_false = []\n",
        "    while(len(edges_false) < num_of_edges):\n",
        "        rand_ind = np.random.choice(uniq_nodes, 1,replace=True)\n",
        "        row_in_adj = adj_dense[rand_ind]\n",
        "        non_edges = np.where(row_in_adj[0] == row_in_adj.min())[1]\n",
        "        for i in non_edges:\n",
        "            if i in uniq_nodes:\n",
        "                arr = [rand_ind[0],i]\n",
        "                edges_false.append(arr)\n",
        "        np.delete(uniq_nodes,rand_ind)\n",
        "    return edges_false"
      ],
      "execution_count": null,
      "outputs": []
    },
    {
      "cell_type": "code",
      "metadata": {
        "id": "Na82hgQRTZKE",
        "colab_type": "code",
        "colab": {}
      },
      "source": [
        "train_edges_false = sample_non_edges(num_train_edges,train_edges_true,adj)\n",
        "test_edges_false = sample_non_edges(num_test_edges,test_edges_true,adj)\n",
        "val_edges_false = sample_non_edges(num_val_edges,val_edges_true,adj)"
      ],
      "execution_count": null,
      "outputs": []
    },
    {
      "cell_type": "code",
      "metadata": {
        "id": "LjN8Y6VITZKJ",
        "colab_type": "code",
        "colab": {}
      },
      "source": [
        "train_G = nx.Graph()\n",
        "train_G."
      ],
      "execution_count": null,
      "outputs": []
    },
    {
      "cell_type": "code",
      "metadata": {
        "id": "z3jkZm02TZKM",
        "colab_type": "code",
        "colab": {}
      },
      "source": [
        ""
      ],
      "execution_count": null,
      "outputs": []
    },
    {
      "cell_type": "code",
      "metadata": {
        "id": "Bv8yyPauTZKS",
        "colab_type": "code",
        "colab": {}
      },
      "source": [
        ""
      ],
      "execution_count": null,
      "outputs": []
    },
    {
      "cell_type": "code",
      "metadata": {
        "id": "kXhZfU89TZKV",
        "colab_type": "code",
        "colab": {}
      },
      "source": [
        ""
      ],
      "execution_count": null,
      "outputs": []
    },
    {
      "cell_type": "code",
      "metadata": {
        "id": "R1z17YFaTZKb",
        "colab_type": "code",
        "colab": {}
      },
      "source": [
        ""
      ],
      "execution_count": null,
      "outputs": []
    },
    {
      "cell_type": "code",
      "metadata": {
        "id": "XTf8SK2CTZKd",
        "colab_type": "code",
        "colab": {}
      },
      "source": [
        ""
      ],
      "execution_count": null,
      "outputs": []
    },
    {
      "cell_type": "code",
      "metadata": {
        "id": "GsKsZc9zTZKi",
        "colab_type": "code",
        "colab": {}
      },
      "source": [
        ""
      ],
      "execution_count": null,
      "outputs": []
    },
    {
      "cell_type": "code",
      "metadata": {
        "id": "jnQL3ahwTZKk",
        "colab_type": "code",
        "colab": {}
      },
      "source": [
        ""
      ],
      "execution_count": null,
      "outputs": []
    },
    {
      "cell_type": "code",
      "metadata": {
        "id": "TkYTFs3iTZKn",
        "colab_type": "code",
        "colab": {}
      },
      "source": [
        ""
      ],
      "execution_count": null,
      "outputs": []
    },
    {
      "cell_type": "code",
      "metadata": {
        "id": "My2y4ZBxTZKr",
        "colab_type": "code",
        "colab": {}
      },
      "source": [
        ""
      ],
      "execution_count": null,
      "outputs": []
    },
    {
      "cell_type": "markdown",
      "metadata": {
        "id": "TJjbLYJXTZKt",
        "colab_type": "text"
      },
      "source": [
        "Following cells are also doing partitioning of the dataset but by dividing the edges array rather picking them up from adjacency matrix. I will train GCN model for both approaches and will see which one would be the best split."
      ]
    },
    {
      "cell_type": "code",
      "metadata": {
        "id": "rKxheJaGTZKu",
        "colab_type": "code",
        "colab": {}
      },
      "source": [
        "#Prepare train graph\n",
        "random_train_edge_ind = np.random.choice(arr_edges.shape[0],num_train_edges,replace=False)\n",
        "train_arr = arr_edges[random_train_edge_ind,:]\n",
        "g_train = nx.Graph()\n",
        "g_train.add_edges_from(train_arr)\n",
        "visualize_graph(\"\",g_train)"
      ],
      "execution_count": null,
      "outputs": []
    },
    {
      "cell_type": "code",
      "metadata": {
        "id": "1Sb-LyuJTZKw",
        "colab_type": "code",
        "colab": {}
      },
      "source": [
        "#Prepare test graph\n",
        "random_test_edge_ind = np.random.choice(arr_edges.shape[0],num_test_edges,replace=False)\n",
        "test_arr = arr_edges[random_test_edge_ind,:]\n",
        "g_test = nx.Graph()\n",
        "g_test.add_edges_from(test_arr)\n",
        "visualize_graph(\"\",g_test)"
      ],
      "execution_count": null,
      "outputs": []
    },
    {
      "cell_type": "code",
      "metadata": {
        "id": "rFbLfvcHTZK1",
        "colab_type": "code",
        "colab": {}
      },
      "source": [
        "#prepare validation graph\n",
        "random_val_edge_ind = np.random.choice(arr_edges.shape[0],num_val_edges,replace=False)\n",
        "val_arr = arr_edges[random_val_edge_ind,:]\n",
        "g_val = nx.Graph()\n",
        "g_val.add_edges_from(val_arr)\n",
        "visualize_graph(\"\",g_val)"
      ],
      "execution_count": null,
      "outputs": []
    },
    {
      "cell_type": "code",
      "metadata": {
        "id": "4zaxAMtOTZK4",
        "colab_type": "code",
        "colab": {}
      },
      "source": [
        "plt.imshow(adj, cmap='hot', interpolation='nearest')\n",
        "plt.show()\n"
      ],
      "execution_count": null,
      "outputs": []
    },
    {
      "cell_type": "code",
      "metadata": {
        "id": "4ux8pdxPTZK6",
        "colab_type": "code",
        "colab": {}
      },
      "source": [
        ""
      ],
      "execution_count": null,
      "outputs": []
    }
  ]
}