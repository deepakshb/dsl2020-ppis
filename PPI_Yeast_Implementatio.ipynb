{
  "nbformat": 4,
  "nbformat_minor": 0,
  "metadata": {
    "kernelspec": {
      "display_name": "Python 3",
      "language": "python",
      "name": "python3"
    },
    "language_info": {
      "codemirror_mode": {
        "name": "ipython",
        "version": 3
      },
      "file_extension": ".py",
      "mimetype": "text/x-python",
      "name": "python",
      "nbconvert_exporter": "python",
      "pygments_lexer": "ipython3",
      "version": "3.7.4"
    },
    "colab": {
      "name": "PPI_Yeast_Implementation_u.ipynb",
      "provenance": [],
      "collapsed_sections": [],
      "toc_visible": true
    },
    "accelerator": "GPU"
  },
  "cells": [
    {
      "cell_type": "markdown",
      "metadata": {
        "id": "5nzZBac30SHF",
        "colab_type": "text"
      },
      "source": [
        "### **Team -11, Predicting Protein Interaction using GCNs on Yeast Dataset**"
      ]
    },
    {
      "cell_type": "markdown",
      "metadata": {
        "id": "7bt1ZQ300oPa",
        "colab_type": "text"
      },
      "source": [
        "**Note:** This notebook uses CUDA v.10.1. If your PC is not supported, run this notebook on Colab with GPU settings turned on."
      ]
    },
    {
      "cell_type": "code",
      "metadata": {
        "id": "xgs48TGW1-6e",
        "colab_type": "code",
        "colab": {
          "base_uri": "https://localhost:8080/",
          "height": 1000
        },
        "outputId": "553d0416-7bf9-4b7b-f2d8-696d2cdbad73"
      },
      "source": [
        "!pip install stellargraph"
      ],
      "execution_count": 1,
      "outputs": [
        {
          "output_type": "stream",
          "text": [
            "Requirement already satisfied: stellargraph in /usr/local/lib/python3.6/dist-packages (1.2.1)\n",
            "Requirement already satisfied: numpy>=1.14 in /usr/local/lib/python3.6/dist-packages (from stellargraph) (1.18.5)\n",
            "Requirement already satisfied: scikit-learn>=0.20 in /usr/local/lib/python3.6/dist-packages (from stellargraph) (0.22.2.post1)\n",
            "Requirement already satisfied: pandas>=0.24 in /usr/local/lib/python3.6/dist-packages (from stellargraph) (1.0.5)\n",
            "Requirement already satisfied: matplotlib>=2.2 in /usr/local/lib/python3.6/dist-packages (from stellargraph) (3.2.2)\n",
            "Requirement already satisfied: networkx>=2.2 in /usr/local/lib/python3.6/dist-packages (from stellargraph) (2.4)\n",
            "Requirement already satisfied: gensim>=3.4.0 in /usr/local/lib/python3.6/dist-packages (from stellargraph) (3.6.0)\n",
            "Requirement already satisfied: scipy>=1.1.0 in /usr/local/lib/python3.6/dist-packages (from stellargraph) (1.4.1)\n",
            "Requirement already satisfied: tensorflow>=2.1.0 in /usr/local/lib/python3.6/dist-packages (from stellargraph) (2.2.0)\n",
            "Requirement already satisfied: joblib>=0.11 in /usr/local/lib/python3.6/dist-packages (from scikit-learn>=0.20->stellargraph) (0.16.0)\n",
            "Requirement already satisfied: pytz>=2017.2 in /usr/local/lib/python3.6/dist-packages (from pandas>=0.24->stellargraph) (2018.9)\n",
            "Requirement already satisfied: python-dateutil>=2.6.1 in /usr/local/lib/python3.6/dist-packages (from pandas>=0.24->stellargraph) (2.8.1)\n",
            "Requirement already satisfied: pyparsing!=2.0.4,!=2.1.2,!=2.1.6,>=2.0.1 in /usr/local/lib/python3.6/dist-packages (from matplotlib>=2.2->stellargraph) (2.4.7)\n",
            "Requirement already satisfied: cycler>=0.10 in /usr/local/lib/python3.6/dist-packages (from matplotlib>=2.2->stellargraph) (0.10.0)\n",
            "Requirement already satisfied: kiwisolver>=1.0.1 in /usr/local/lib/python3.6/dist-packages (from matplotlib>=2.2->stellargraph) (1.2.0)\n",
            "Requirement already satisfied: decorator>=4.3.0 in /usr/local/lib/python3.6/dist-packages (from networkx>=2.2->stellargraph) (4.4.2)\n",
            "Requirement already satisfied: six>=1.5.0 in /usr/local/lib/python3.6/dist-packages (from gensim>=3.4.0->stellargraph) (1.12.0)\n",
            "Requirement already satisfied: smart-open>=1.2.1 in /usr/local/lib/python3.6/dist-packages (from gensim>=3.4.0->stellargraph) (2.1.0)\n",
            "Requirement already satisfied: google-pasta>=0.1.8 in /usr/local/lib/python3.6/dist-packages (from tensorflow>=2.1.0->stellargraph) (0.2.0)\n",
            "Requirement already satisfied: astunparse==1.6.3 in /usr/local/lib/python3.6/dist-packages (from tensorflow>=2.1.0->stellargraph) (1.6.3)\n",
            "Requirement already satisfied: h5py<2.11.0,>=2.10.0 in /usr/local/lib/python3.6/dist-packages (from tensorflow>=2.1.0->stellargraph) (2.10.0)\n",
            "Requirement already satisfied: tensorboard<2.3.0,>=2.2.0 in /usr/local/lib/python3.6/dist-packages (from tensorflow>=2.1.0->stellargraph) (2.2.2)\n",
            "Requirement already satisfied: wheel>=0.26; python_version >= \"3\" in /usr/local/lib/python3.6/dist-packages (from tensorflow>=2.1.0->stellargraph) (0.34.2)\n",
            "Requirement already satisfied: gast==0.3.3 in /usr/local/lib/python3.6/dist-packages (from tensorflow>=2.1.0->stellargraph) (0.3.3)\n",
            "Requirement already satisfied: grpcio>=1.8.6 in /usr/local/lib/python3.6/dist-packages (from tensorflow>=2.1.0->stellargraph) (1.30.0)\n",
            "Requirement already satisfied: opt-einsum>=2.3.2 in /usr/local/lib/python3.6/dist-packages (from tensorflow>=2.1.0->stellargraph) (3.2.1)\n",
            "Requirement already satisfied: termcolor>=1.1.0 in /usr/local/lib/python3.6/dist-packages (from tensorflow>=2.1.0->stellargraph) (1.1.0)\n",
            "Requirement already satisfied: absl-py>=0.7.0 in /usr/local/lib/python3.6/dist-packages (from tensorflow>=2.1.0->stellargraph) (0.9.0)\n",
            "Requirement already satisfied: wrapt>=1.11.1 in /usr/local/lib/python3.6/dist-packages (from tensorflow>=2.1.0->stellargraph) (1.12.1)\n",
            "Requirement already satisfied: keras-preprocessing>=1.1.0 in /usr/local/lib/python3.6/dist-packages (from tensorflow>=2.1.0->stellargraph) (1.1.2)\n",
            "Requirement already satisfied: protobuf>=3.8.0 in /usr/local/lib/python3.6/dist-packages (from tensorflow>=2.1.0->stellargraph) (3.12.2)\n",
            "Requirement already satisfied: tensorflow-estimator<2.3.0,>=2.2.0 in /usr/local/lib/python3.6/dist-packages (from tensorflow>=2.1.0->stellargraph) (2.2.0)\n",
            "Requirement already satisfied: boto in /usr/local/lib/python3.6/dist-packages (from smart-open>=1.2.1->gensim>=3.4.0->stellargraph) (2.49.0)\n",
            "Requirement already satisfied: requests in /usr/local/lib/python3.6/dist-packages (from smart-open>=1.2.1->gensim>=3.4.0->stellargraph) (2.23.0)\n",
            "Requirement already satisfied: boto3 in /usr/local/lib/python3.6/dist-packages (from smart-open>=1.2.1->gensim>=3.4.0->stellargraph) (1.14.20)\n",
            "Requirement already satisfied: werkzeug>=0.11.15 in /usr/local/lib/python3.6/dist-packages (from tensorboard<2.3.0,>=2.2.0->tensorflow>=2.1.0->stellargraph) (1.0.1)\n",
            "Requirement already satisfied: tensorboard-plugin-wit>=1.6.0 in /usr/local/lib/python3.6/dist-packages (from tensorboard<2.3.0,>=2.2.0->tensorflow>=2.1.0->stellargraph) (1.7.0)\n",
            "Requirement already satisfied: google-auth-oauthlib<0.5,>=0.4.1 in /usr/local/lib/python3.6/dist-packages (from tensorboard<2.3.0,>=2.2.0->tensorflow>=2.1.0->stellargraph) (0.4.1)\n",
            "Requirement already satisfied: markdown>=2.6.8 in /usr/local/lib/python3.6/dist-packages (from tensorboard<2.3.0,>=2.2.0->tensorflow>=2.1.0->stellargraph) (3.2.2)\n",
            "Requirement already satisfied: setuptools>=41.0.0 in /usr/local/lib/python3.6/dist-packages (from tensorboard<2.3.0,>=2.2.0->tensorflow>=2.1.0->stellargraph) (49.1.0)\n",
            "Requirement already satisfied: google-auth<2,>=1.6.3 in /usr/local/lib/python3.6/dist-packages (from tensorboard<2.3.0,>=2.2.0->tensorflow>=2.1.0->stellargraph) (1.17.2)\n",
            "Requirement already satisfied: chardet<4,>=3.0.2 in /usr/local/lib/python3.6/dist-packages (from requests->smart-open>=1.2.1->gensim>=3.4.0->stellargraph) (3.0.4)\n",
            "Requirement already satisfied: idna<3,>=2.5 in /usr/local/lib/python3.6/dist-packages (from requests->smart-open>=1.2.1->gensim>=3.4.0->stellargraph) (2.10)\n",
            "Requirement already satisfied: certifi>=2017.4.17 in /usr/local/lib/python3.6/dist-packages (from requests->smart-open>=1.2.1->gensim>=3.4.0->stellargraph) (2020.6.20)\n",
            "Requirement already satisfied: urllib3!=1.25.0,!=1.25.1,<1.26,>=1.21.1 in /usr/local/lib/python3.6/dist-packages (from requests->smart-open>=1.2.1->gensim>=3.4.0->stellargraph) (1.24.3)\n",
            "Requirement already satisfied: jmespath<1.0.0,>=0.7.1 in /usr/local/lib/python3.6/dist-packages (from boto3->smart-open>=1.2.1->gensim>=3.4.0->stellargraph) (0.10.0)\n",
            "Requirement already satisfied: s3transfer<0.4.0,>=0.3.0 in /usr/local/lib/python3.6/dist-packages (from boto3->smart-open>=1.2.1->gensim>=3.4.0->stellargraph) (0.3.3)\n",
            "Requirement already satisfied: botocore<1.18.0,>=1.17.20 in /usr/local/lib/python3.6/dist-packages (from boto3->smart-open>=1.2.1->gensim>=3.4.0->stellargraph) (1.17.20)\n",
            "Requirement already satisfied: requests-oauthlib>=0.7.0 in /usr/local/lib/python3.6/dist-packages (from google-auth-oauthlib<0.5,>=0.4.1->tensorboard<2.3.0,>=2.2.0->tensorflow>=2.1.0->stellargraph) (1.3.0)\n",
            "Requirement already satisfied: importlib-metadata; python_version < \"3.8\" in /usr/local/lib/python3.6/dist-packages (from markdown>=2.6.8->tensorboard<2.3.0,>=2.2.0->tensorflow>=2.1.0->stellargraph) (1.7.0)\n",
            "Requirement already satisfied: pyasn1-modules>=0.2.1 in /usr/local/lib/python3.6/dist-packages (from google-auth<2,>=1.6.3->tensorboard<2.3.0,>=2.2.0->tensorflow>=2.1.0->stellargraph) (0.2.8)\n",
            "Requirement already satisfied: rsa<5,>=3.1.4; python_version >= \"3\" in /usr/local/lib/python3.6/dist-packages (from google-auth<2,>=1.6.3->tensorboard<2.3.0,>=2.2.0->tensorflow>=2.1.0->stellargraph) (4.6)\n",
            "Requirement already satisfied: cachetools<5.0,>=2.0.0 in /usr/local/lib/python3.6/dist-packages (from google-auth<2,>=1.6.3->tensorboard<2.3.0,>=2.2.0->tensorflow>=2.1.0->stellargraph) (4.1.1)\n",
            "Requirement already satisfied: docutils<0.16,>=0.10 in /usr/local/lib/python3.6/dist-packages (from botocore<1.18.0,>=1.17.20->boto3->smart-open>=1.2.1->gensim>=3.4.0->stellargraph) (0.15.2)\n",
            "Requirement already satisfied: oauthlib>=3.0.0 in /usr/local/lib/python3.6/dist-packages (from requests-oauthlib>=0.7.0->google-auth-oauthlib<0.5,>=0.4.1->tensorboard<2.3.0,>=2.2.0->tensorflow>=2.1.0->stellargraph) (3.1.0)\n",
            "Requirement already satisfied: zipp>=0.5 in /usr/local/lib/python3.6/dist-packages (from importlib-metadata; python_version < \"3.8\"->markdown>=2.6.8->tensorboard<2.3.0,>=2.2.0->tensorflow>=2.1.0->stellargraph) (3.1.0)\n",
            "Requirement already satisfied: pyasn1<0.5.0,>=0.4.6 in /usr/local/lib/python3.6/dist-packages (from pyasn1-modules>=0.2.1->google-auth<2,>=1.6.3->tensorboard<2.3.0,>=2.2.0->tensorflow>=2.1.0->stellargraph) (0.4.8)\n"
          ],
          "name": "stdout"
        }
      ]
    },
    {
      "cell_type": "code",
      "metadata": {
        "id": "Sl0ZN_0_gvxT",
        "colab_type": "code",
        "colab": {}
      },
      "source": [
        "from stellargraph.data import EdgeSplitter"
      ],
      "execution_count": 2,
      "outputs": []
    },
    {
      "cell_type": "code",
      "metadata": {
        "id": "GTsfJl_3FdHY",
        "colab_type": "code",
        "colab": {}
      },
      "source": [
        "import torch\n",
        "import torch.nn as nn\n",
        "import torch.nn.functional as F\n",
        "from sklearn.metrics import accuracy_score,roc_auc_score,average_precision_score\n",
        "from sklearn.model_selection import train_test_split\n",
        "import scipy.sparse as sp\n",
        "import numpy as np\n",
        "import pandas as pd\n",
        "import networkx as nx\n",
        "import os\n",
        "import time"
      ],
      "execution_count": 3,
      "outputs": []
    },
    {
      "cell_type": "code",
      "metadata": {
        "id": "-8cVeBbdf9gD",
        "colab_type": "code",
        "colab": {
          "base_uri": "https://localhost:8080/",
          "height": 187
        },
        "outputId": "26d4daea-a635-422d-dec1-b99a0cc6b9c7"
      },
      "source": [
        "!pip install dgl-cu101"
      ],
      "execution_count": 4,
      "outputs": [
        {
          "output_type": "stream",
          "text": [
            "Requirement already satisfied: dgl-cu101 in /usr/local/lib/python3.6/dist-packages (0.4.3.post2)\n",
            "Requirement already satisfied: numpy>=1.14.0 in /usr/local/lib/python3.6/dist-packages (from dgl-cu101) (1.18.5)\n",
            "Requirement already satisfied: requests>=2.19.0 in /usr/local/lib/python3.6/dist-packages (from dgl-cu101) (2.23.0)\n",
            "Requirement already satisfied: scipy>=1.1.0 in /usr/local/lib/python3.6/dist-packages (from dgl-cu101) (1.4.1)\n",
            "Requirement already satisfied: networkx>=2.1 in /usr/local/lib/python3.6/dist-packages (from dgl-cu101) (2.4)\n",
            "Requirement already satisfied: certifi>=2017.4.17 in /usr/local/lib/python3.6/dist-packages (from requests>=2.19.0->dgl-cu101) (2020.6.20)\n",
            "Requirement already satisfied: chardet<4,>=3.0.2 in /usr/local/lib/python3.6/dist-packages (from requests>=2.19.0->dgl-cu101) (3.0.4)\n",
            "Requirement already satisfied: urllib3!=1.25.0,!=1.25.1,<1.26,>=1.21.1 in /usr/local/lib/python3.6/dist-packages (from requests>=2.19.0->dgl-cu101) (1.24.3)\n",
            "Requirement already satisfied: idna<3,>=2.5 in /usr/local/lib/python3.6/dist-packages (from requests>=2.19.0->dgl-cu101) (2.10)\n",
            "Requirement already satisfied: decorator>=4.3.0 in /usr/local/lib/python3.6/dist-packages (from networkx>=2.1->dgl-cu101) (4.4.2)\n"
          ],
          "name": "stdout"
        }
      ]
    },
    {
      "cell_type": "code",
      "metadata": {
        "id": "0sRHjQv0mH0h",
        "colab_type": "code",
        "colab": {
          "base_uri": "https://localhost:8080/",
          "height": 51
        },
        "outputId": "cfe76d8e-0200-4eec-8a28-bd83f1757e30"
      },
      "source": [
        "import dgl\n",
        "from dgl import DGLGraph\n",
        "dgl.load_backend('pytorch')\n",
        "from dgl.nn.pytorch import conv as dgl_conv"
      ],
      "execution_count": 5,
      "outputs": [
        {
          "output_type": "stream",
          "text": [
            "Using backend: pytorch\n",
            "Using backend: pytorch\n"
          ],
          "name": "stderr"
        }
      ]
    },
    {
      "cell_type": "code",
      "metadata": {
        "id": "LCcx4SZCFdHs",
        "colab_type": "code",
        "colab": {}
      },
      "source": [
        "class GCNModel(nn.Module):\n",
        "    def __init__(self,in_feats,n_hidden,out_dim,layer_dim,hidden_layer_dim):\n",
        "        super(GCNModel, self).__init__()\n",
        "        \n",
        "\n",
        "        self.gcn_layer_1 = dgl_conv.GraphConv(in_feats, n_hidden)\n",
        "\n",
        "        self.gcn_layer_2 = dgl_conv.GraphConv(n_hidden, out_dim)\n",
        "\n",
        "        self.lin_layer_1 = nn.Linear(out_dim, hidden_layer_dim)\n",
        "\n",
        "        self.lin_layer_2 = nn.Linear(hidden_layer_dim,1)\n",
        "\n",
        "    def forward(self, g, features, node_pairs, link_labels):\n",
        "        x = features\n",
        "        x = self.gcn_layer_1(g, features)\n",
        "        x = F.relu(x)\n",
        "\n",
        "        x = self.gcn_layer_2(g,x)\n",
        "        x = F.relu(x)\n",
        "\n",
        "        src = node_pairs[:,0]\n",
        "        dst = node_pairs[:,1]\n",
        "\n",
        "        emb_src = x[src]\n",
        "        emb_dst = x[dst]\n",
        "\n",
        "        z_tensor = torch.mul(emb_src,emb_dst)\n",
        "        z_tensor = self.lin_layer_1(z_tensor)\n",
        "        z_tensor = F.relu(z_tensor)\n",
        "        z_tensor = self.lin_layer_2(z_tensor)\n",
        "        sigm = nn.Sigmoid()\n",
        "        z_tensor = sigm(z_tensor)\n",
        "        return z_tensor.view(-1)\n",
        "    \n",
        "    def predict(self, features, g, node_pairs, link_labels):\n",
        "        pred = self.forward(features, g, node_pairs, link_labels)\n",
        "        loss = nn.BCELoss()(pred, link_labels)\n",
        "        return loss, pred\n"
      ],
      "execution_count": 27,
      "outputs": []
    },
    {
      "cell_type": "code",
      "metadata": {
        "id": "s-mNqC6_JDSK",
        "colab_type": "code",
        "colab": {
          "base_uri": "https://localhost:8080/",
          "height": 122
        },
        "outputId": "3f2aa577-5332-4e98-a824-93be6a5395d8"
      },
      "source": [
        "from google.colab import drive\n",
        "drive.mount('/content/drive')"
      ],
      "execution_count": 7,
      "outputs": [
        {
          "output_type": "stream",
          "text": [
            "Go to this URL in a browser: https://accounts.google.com/o/oauth2/auth?client_id=947318989803-6bn6qk8qdgf4n4g3pfee6491hc0brc4i.apps.googleusercontent.com&redirect_uri=urn%3aietf%3awg%3aoauth%3a2.0%3aoob&response_type=code&scope=email%20https%3a%2f%2fwww.googleapis.com%2fauth%2fdocs.test%20https%3a%2f%2fwww.googleapis.com%2fauth%2fdrive%20https%3a%2f%2fwww.googleapis.com%2fauth%2fdrive.photos.readonly%20https%3a%2f%2fwww.googleapis.com%2fauth%2fpeopleapi.readonly\n",
            "\n",
            "Enter your authorization code:\n",
            "··········\n",
            "Mounted at /content/drive\n"
          ],
          "name": "stdout"
        }
      ]
    },
    {
      "cell_type": "code",
      "metadata": {
        "id": "RMv1vzXQI83O",
        "colab_type": "code",
        "colab": {
          "base_uri": "https://localhost:8080/",
          "height": 34
        },
        "outputId": "34d08fb0-7e7b-4e89-9800-5206cb6c2903"
      },
      "source": [
        "raw_edge_list = open('/content/drive/My Drive/Colab Notebooks/DSLab/yeast.edgelist','r')\n",
        "G = nx.Graph()\n",
        "G = nx.parse_edgelist(raw_edge_list, delimiter='\\t', create_using=G,nodetype=str, data=(('weight', float),))\n",
        "# Get graph edges and nodes from networkx graph object\n",
        "nodes = G.nodes\n",
        "edges = G.edges\n",
        "\n",
        "print(\"Graph's Nodes : {} / Edges : {}\".format(len(nodes), len(edges)))"
      ],
      "execution_count": 7,
      "outputs": [
        {
          "output_type": "stream",
          "text": [
            "Graph's Nodes : 6526 / Edges : 532180\n"
          ],
          "name": "stdout"
        }
      ]
    },
    {
      "cell_type": "code",
      "metadata": {
        "id": "0ymGmp_LFdH7",
        "colab_type": "code",
        "colab": {}
      },
      "source": [
        "G.remove_edges_from(nx.selfloop_edges(G))"
      ],
      "execution_count": 8,
      "outputs": []
    },
    {
      "cell_type": "code",
      "metadata": {
        "id": "-UtTPC8suuve",
        "colab_type": "code",
        "colab": {}
      },
      "source": [
        "G = nx.relabel.convert_node_labels_to_integers(G, first_label=0, ordering='default', label_attribute=None)"
      ],
      "execution_count": 9,
      "outputs": []
    },
    {
      "cell_type": "code",
      "metadata": {
        "id": "DwrJ4mGW6IgQ",
        "colab_type": "code",
        "colab": {
          "base_uri": "https://localhost:8080/",
          "height": 34
        },
        "outputId": "81ec80da-f062-48f8-b3b2-5f6332763dda"
      },
      "source": [
        "es_test = EdgeSplitter(G)\n",
        "graph_test, examples_test, link_labels_test = es_test.train_test_split(p=0.1, method=\"global\")"
      ],
      "execution_count": 10,
      "outputs": [
        {
          "output_type": "stream",
          "text": [
            "** Sampled 53049 positive and 53049 negative edges. **\n"
          ],
          "name": "stdout"
        }
      ]
    },
    {
      "cell_type": "code",
      "metadata": {
        "id": "yBqlzReX6M_f",
        "colab_type": "code",
        "colab": {
          "base_uri": "https://localhost:8080/",
          "height": 34
        },
        "outputId": "b38bfec9-5852-4046-8bae-f292d64a96c8"
      },
      "source": [
        "es_train = EdgeSplitter(graph_test, G)\n",
        "graph_train, examples_train, link_labels_train = es_train.train_test_split(\n",
        "    p=0.7, method=\"global\")\n",
        "examples_train,examples_val, link_labels_train, link_label_val = train_test_split(examples_train,link_labels_train,test_size=0.033)"
      ],
      "execution_count": 11,
      "outputs": [
        {
          "output_type": "stream",
          "text": [
            "** Sampled 334212 positive and 334212 negative edges. **\n"
          ],
          "name": "stdout"
        }
      ]
    },
    {
      "cell_type": "code",
      "metadata": {
        "id": "dR-Goe2i-e0c",
        "colab_type": "code",
        "colab": {}
      },
      "source": [
        "def preprocess_graph(adj):\n",
        "  adj = sp.coo_matrix(adj)\n",
        "  adj_ = adj + sp.eye(adj.shape[0])\n",
        "  rowsum = np.array(adj_.sum(1))\n",
        "  degree_mat_inv_sqrt = sp.diags(np.power(rowsum, -0.5).flatten())\n",
        "  features = adj_.dot(degree_mat_inv_sqrt).transpose().dot(degree_mat_inv_sqrt).tocoo() \n",
        "  print(features.shape)\n",
        "\n",
        "  print(type(features))\n",
        "\n",
        "  indices = np.vstack((features.row, features.col))\n",
        "  values = features.data\n",
        "  shape = features.shape\n",
        "  i = torch.LongTensor(indices)\n",
        "  v = torch.FloatTensor(values)\n",
        "\n",
        "  features = torch.sparse.FloatTensor(i, v, torch.Size(shape)).to_dense()\n",
        "  return features"
      ],
      "execution_count": 12,
      "outputs": []
    },
    {
      "cell_type": "code",
      "metadata": {
        "id": "HOB104U9gldp",
        "colab_type": "code",
        "colab": {
          "base_uri": "https://localhost:8080/",
          "height": 51
        },
        "outputId": "a3cc6f37-515e-4d95-81a1-e9df834e25d9"
      },
      "source": [
        "# #features =np.matrix([[i, i] for i in range(adj.shape[0])])\n",
        "features = preprocess_graph(nx.adjacency_matrix(graph_train))\n",
        "# #features = Variable(torch.FloatTensor(features), requires_grad=True)\n",
        "# features"
      ],
      "execution_count": 13,
      "outputs": [
        {
          "output_type": "stream",
          "text": [
            "(6526, 6526)\n",
            "<class 'scipy.sparse.coo.coo_matrix'>\n"
          ],
          "name": "stdout"
        }
      ]
    },
    {
      "cell_type": "code",
      "metadata": {
        "id": "Pt0aRyUPvfQ-",
        "colab_type": "code",
        "colab": {}
      },
      "source": [
        ""
      ],
      "execution_count": null,
      "outputs": []
    },
    {
      "cell_type": "markdown",
      "metadata": {
        "id": "c2Ph3lnAYBo3",
        "colab_type": "text"
      },
      "source": [
        "RandomsearchCV"
      ]
    },
    {
      "cell_type": "code",
      "metadata": {
        "id": "8mN214p0Ti7v",
        "colab_type": "code",
        "colab": {}
      },
      "source": [
        "# from sklearn.model_selection import RandomizedSearchCV\n",
        "\n",
        "# param_dist = {\"n_hidden\": [32, 64, 128, 256],\n",
        "#               \"epochs\": np.range(5, 21),\n",
        "#               \"lr\": [0.1, 0.01, 0.001],\n",
        "#               \"batch_size\": [64, 128, 256]}\n",
        "\n",
        "# gs = GridSearchCV(net, params, refit=False, scoring='r2', verbose=1, cv=10)\n",
        "\n",
        "# gs.fit(X_trf, y_trf)"
      ],
      "execution_count": null,
      "outputs": []
    },
    {
      "cell_type": "code",
      "metadata": {
        "id": "ggg4bGSnnHtJ",
        "colab_type": "code",
        "colab": {}
      },
      "source": [
        "from torch.utils.data import Dataset,DataLoader"
      ],
      "execution_count": 14,
      "outputs": []
    },
    {
      "cell_type": "code",
      "metadata": {
        "id": "JtxwdwacnCyI",
        "colab_type": "code",
        "colab": {}
      },
      "source": [
        "class EdgeDataset(Dataset):\n",
        "    def __init__(self, x, y):\n",
        "        super(EdgeDataset, self).__init__()\n",
        "        assert x.shape[0] == y.shape[0] # assuming shape[0] = dataset size\n",
        "        self.x = x\n",
        "        self.y = y\n",
        "    def __len__(self):\n",
        "        return self.y.shape[0]\n",
        "\n",
        "    def __getitem__(self, index):\n",
        "        return self.x[index], self.y[index]"
      ],
      "execution_count": 15,
      "outputs": []
    },
    {
      "cell_type": "code",
      "metadata": {
        "id": "lrCrpkRri0o-",
        "colab_type": "code",
        "colab": {}
      },
      "source": [
        "use_cuda = torch.cuda.is_available()\n",
        "device = torch.device(\"cuda\" if use_cuda else \"cpu\")"
      ],
      "execution_count": 16,
      "outputs": []
    },
    {
      "cell_type": "code",
      "metadata": {
        "id": "-qEXiAGnOmK6",
        "colab_type": "code",
        "colab": {}
      },
      "source": [
        "from torch.autograd import Variable"
      ],
      "execution_count": 17,
      "outputs": []
    },
    {
      "cell_type": "code",
      "metadata": {
        "id": "PRjLgLq2mve9",
        "colab_type": "code",
        "colab": {}
      },
      "source": [
        "def create_model_and_train(lr,batch_size,n_hidden,hidden_layer_dim):\n",
        "  g = DGLGraph()\n",
        "  g.from_networkx(graph_train)\n",
        "  g.readonly()\n",
        "  n_epochs=20\n",
        "  out_dim = 80\n",
        "  model = GCNModel(in_feats = features.shape[0],n_hidden=n_hidden,out_dim=out_dim,layer_dim=out_dim,hidden_layer_dim=hidden_layer_dim)\n",
        "  model.to(device)\n",
        "  optimizer = torch.optim.Adam(model.parameters(), lr=lr)\n",
        "  traindata = EdgeDataset(examples_train, link_labels_train)\n",
        "  edge_loader = DataLoader(traindata, batch_size=batch_size, shuffle=True)\n",
        "  print(\"Training for {} epochs.\".format(n_epochs))\n",
        "\n",
        "  eval_report = {\n",
        "      'train_losses':[],\n",
        "      'train_rocs':[],\n",
        "      'train_aps':[],\n",
        "      'val_losses':[],\n",
        "      'val_rocs':[],\n",
        "      'val_aps':[],\n",
        "      'times_per_epoch':[],\n",
        "      'epochs':[],\n",
        "      'learning_rate': list(np.full((n_epochs,),lr)),\n",
        "      'batch_size':list(np.full((n_epochs,),batch_size)),\n",
        "      'hidden1_dim':list(np.full((n_epochs,),n_hidden)) ,\n",
        "      'hidden_layer_dim':list(np.full((n_epochs,),hidden_layer_dim))\n",
        "  }\n",
        "\n",
        "  sigm_val_pred = []\n",
        "  for epoch in range(n_epochs):\n",
        "    eval_report['epochs'].append(epoch+1)\n",
        "    t = time.time()\n",
        "    print('\\n', end='')\n",
        "    \n",
        "    loss = 0.0\n",
        "    train_roc = 0.0\n",
        "    train_ap = 0.0\n",
        "    for i,data in enumerate(edge_loader):\n",
        "      #print(\"Step {}/{}......\".format(i+1,))\n",
        "      pairs, edges = data\n",
        "      pairs = Variable(pairs).cuda()\n",
        "      edges = Variable(edges.float()).cuda()\n",
        "      \n",
        "      optimizer.zero_grad()\n",
        "      loss, pred = model.predict(g.to(device),torch.FloatTensor(features).cuda(), pairs, edges)\n",
        "      loss.backward()\n",
        "      optimizer.step()\n",
        "\n",
        "      #pred = F.log_softmax(pred, dim=1)\n",
        "\n",
        "      pred = pred.detach().to(\"cpu\").numpy()\n",
        "      #pred = 1*(pred>0.25)\n",
        "      #pred = np.argmax(pred, axis=1)\n",
        "      y_pred = []\n",
        "      y_pred = np.append(y_pred, pred)\n",
        "      train_roc = roc_auc_score(edges.detach().to(\"cpu\").numpy(), y_pred)\n",
        "      train_ap = average_precision_score(edges.detach().to(\"cpu\").numpy(), y_pred)\n",
        "      print(\"\\repoch = {}/{} ({}/{}) - loss = {:.4f} roc_auc_score = {:.4f}\"\n",
        "      .format(epoch+1,n_epochs,i+1,int(examples_train.shape[0]/batch_size),\n",
        "              loss,train_roc),end='',flush=True)\n",
        "  \n",
        "    eval_report['train_losses'].append(float(loss.detach().to('cpu').numpy()))\n",
        "    eval_report['train_rocs'].append(train_roc)\n",
        "    eval_report['train_aps'].append(train_ap)\n",
        "    \n",
        "\n",
        "\n",
        "    #validation scores\n",
        "    val_loss, val_pred = model.predict(g.to(device),torch.FloatTensor(features).cuda(), \n",
        "                                      torch.tensor(examples_val).cuda(), \n",
        "                                      torch.FloatTensor(link_label_val).cuda())\n",
        "    #val_pred = F.log_softmax(val_pred, dim=1)\n",
        "    val_pred = val_pred.detach().to(\"cpu\").numpy()\n",
        "    sigm_val_pred = val_pred\n",
        "    #val_pred = np.argmax(val_pred, axis=1)\n",
        "    #val_pred = 1*(val_pred>0.5)\n",
        "    val_y_pred = []\n",
        "    val_y_pred = np.append(val_y_pred, val_pred)\n",
        "    val_roc = roc_auc_score(link_label_val, val_y_pred)\n",
        "    val_ap = average_precision_score(link_label_val,val_y_pred)\n",
        "\n",
        "    \n",
        "    eval_report['val_losses'].append(float(val_loss.detach().to('cpu').numpy()))\n",
        "    eval_report['val_rocs'].append(val_roc)\n",
        "    eval_report['val_aps'].append(val_ap)\n",
        "    eval_report['times_per_epoch'].append(float(time.time()-t))\n",
        "\n",
        "    print(\"\\repoch = {}/{} - loss = {:.4f} roc_auc_score = {:.4f} val_loss = {:.4f} val_roc_auc_score = {:.4f} val_avg_precision = {:.4f} time= {:.5f}\"\n",
        "    .format(epoch+1,n_epochs,loss,train_roc,val_loss,val_roc,val_ap, time.time()-t),end='',flush=False)\n",
        "  return model,eval_report,sigm_val_pred"
      ],
      "execution_count": 122,
      "outputs": []
    },
    {
      "cell_type": "code",
      "metadata": {
        "id": "GrAH1X_LwxCi",
        "colab_type": "code",
        "colab": {}
      },
      "source": [
        "|#generate a new csv (do not run every time)\n",
        "\n",
        "#import pandas as pd\n",
        "#df = pd.DataFrame(columns=['epochs','learning_rate','batch_size','hidden1_dim',\n",
        "#                           'hidden_layer_dim','train_losses','train_rocs',\n",
        "#                           'train_aps','val_losses','val_rocs','val_aps',\n",
        "#                           'times_per_epoch'])\n",
        "#df.to_csv('/content/drive/My Drive/Colab Notebooks/DSLab/eval_report.csv')"
      ],
      "execution_count": null,
      "outputs": []
    },
    {
      "cell_type": "code",
      "metadata": {
        "id": "qd7TQ7spwxA0",
        "colab_type": "code",
        "colab": {}
      },
      "source": [
        "#Appending evaluation results to the CSV file\n",
        "\n",
        "def append_to_csv(eval_report):\n",
        "  df = pd.read_csv('/content/drive/My Drive/Colab Notebooks/DSLab/eval_report.csv', index_col=0)\n",
        "  df2 = pd.DataFrame({\n",
        "    'epochs':eval_report['epochs'],\n",
        "    'learning_rate':eval_report['learning_rate'],\n",
        "    'batch_size':eval_report['batch_size'],\n",
        "    'hidden1_dim':eval_report['hidden1_dim'],\n",
        "    'hidden_layer_dim':eval_report['hidden_layer_dim'],\n",
        "    'train_losses':eval_report['train_losses'],\n",
        "    'train_rocs':eval_report['train_rocs'],\n",
        "    'train_aps':eval_report['train_aps'],\n",
        "    'val_losses':eval_report['val_losses'],\n",
        "    'val_rocs':eval_report['val_rocs'],\n",
        "    'val_aps':eval_report['val_aps'],\n",
        "    'times_per_epoch':eval_report['times_per_epoch'],\n",
        "  })\n",
        "  df = pd.concat([df,df2],ignore_index=True)\n",
        "  df.to_csv('/content/drive/My Drive/Colab Notebooks/DSLab/eval_report.csv')"
      ],
      "execution_count": null,
      "outputs": []
    },
    {
      "cell_type": "markdown",
      "metadata": {
        "id": "mckYJO8B57yD",
        "colab_type": "text"
      },
      "source": [
        "###**Start Evaluation**"
      ]
    },
    {
      "cell_type": "code",
      "metadata": {
        "id": "p3rErTt-56cn",
        "colab_type": "code",
        "colab": {
          "base_uri": "https://localhost:8080/",
          "height": 391
        },
        "outputId": "500819db-6444-44a0-fda6-5d2ffa0d9822"
      },
      "source": [
        "batch_s = 256\n",
        "model,eval_report,sigmoid_val_pred = create_model_and_train(lr=0.01,batch_size=batch_s,n_hidden=256,hidden_layer_dim=16)\n",
        "#append_to_csv(eval_report)"
      ],
      "execution_count": 123,
      "outputs": [
        {
          "output_type": "stream",
          "text": [
            "Training for 20 epochs.\n",
            "\n",
            "epoch = 1/20 - loss = 0.4374 roc_auc_score = 0.8820 val_loss = 0.4453 val_roc_auc_score = 0.8792 val_avg_precision = 0.8664 time= 138.13435\n",
            "epoch = 2/20 - loss = 0.4503 roc_auc_score = 0.8687 val_loss = 0.4295 val_roc_auc_score = 0.8812 val_avg_precision = 0.8688 time= 137.49864\n",
            "epoch = 3/20 - loss = 0.4134 roc_auc_score = 0.8897 val_loss = 0.4275 val_roc_auc_score = 0.8829 val_avg_precision = 0.8707 time= 138.26634\n",
            "epoch = 4/20 - loss = 0.3959 roc_auc_score = 0.9065 val_loss = 0.4226 val_roc_auc_score = 0.8862 val_avg_precision = 0.8734 time= 139.95765\n",
            "epoch = 5/20 - loss = 0.3787 roc_auc_score = 0.9237 val_loss = 0.4167 val_roc_auc_score = 0.8886 val_avg_precision = 0.8761 time= 140.16044\n",
            "epoch = 6/20 - loss = 0.3897 roc_auc_score = 0.8980 val_loss = 0.4234 val_roc_auc_score = 0.8891 val_avg_precision = 0.8757 time= 140.06258\n",
            "epoch = 7/20 - loss = 0.3383 roc_auc_score = 0.9256 val_loss = 0.4144 val_roc_auc_score = 0.8903 val_avg_precision = 0.8780 time= 139.37955\n",
            "epoch = 8/20 - loss = 0.3848 roc_auc_score = 0.9101 val_loss = 0.4247 val_roc_auc_score = 0.8922 val_avg_precision = 0.8803 time= 139.01476\n",
            "epoch = 9/20 - loss = 0.4346 roc_auc_score = 0.8756 val_loss = 0.4100 val_roc_auc_score = 0.8932 val_avg_precision = 0.8818 time= 138.05431\n",
            "epoch = 10/20 - loss = 0.4948 roc_auc_score = 0.8305 val_loss = 0.4134 val_roc_auc_score = 0.8930 val_avg_precision = 0.8814 time= 137.68743\n",
            "epoch = 11/20 - loss = 0.3907 roc_auc_score = 0.9047 val_loss = 0.4107 val_roc_auc_score = 0.8934 val_avg_precision = 0.8817 time= 137.87177\n",
            "epoch = 12/20 - loss = 0.4241 roc_auc_score = 0.8888 val_loss = 0.4144 val_roc_auc_score = 0.8937 val_avg_precision = 0.8818 time= 137.42707\n",
            "epoch = 13/20 - loss = 0.4079 roc_auc_score = 0.8908 val_loss = 0.4078 val_roc_auc_score = 0.8943 val_avg_precision = 0.8831 time= 137.98731\n",
            "epoch = 14/20 - loss = 0.3512 roc_auc_score = 0.9265 val_loss = 0.4082 val_roc_auc_score = 0.8943 val_avg_precision = 0.8830 time= 137.30434\n",
            "epoch = 15/20 - loss = 0.4082 roc_auc_score = 0.8969 val_loss = 0.4089 val_roc_auc_score = 0.8947 val_avg_precision = 0.8836 time= 136.60547\n",
            "epoch = 16/20 - loss = 0.4014 roc_auc_score = 0.8928 val_loss = 0.4078 val_roc_auc_score = 0.8946 val_avg_precision = 0.8829 time= 138.06937\n",
            "epoch = 17/20 - loss = 0.4935 roc_auc_score = 0.8387 val_loss = 0.4098 val_roc_auc_score = 0.8941 val_avg_precision = 0.8830 time= 138.88805\n",
            "epoch = 18/20 - loss = 0.4015 roc_auc_score = 0.9032 val_loss = 0.4057 val_roc_auc_score = 0.8951 val_avg_precision = 0.8838 time= 139.37590\n",
            "epoch = 19/20 - loss = 0.4351 roc_auc_score = 0.8820 val_loss = 0.4068 val_roc_auc_score = 0.8948 val_avg_precision = 0.8835 time= 140.01917\n",
            "epoch = 20/20 - loss = 0.3705 roc_auc_score = 0.9164 val_loss = 0.4069 val_roc_auc_score = 0.8949 val_avg_precision = 0.8834 time= 139.75982"
          ],
          "name": "stdout"
        }
      ]
    },
    {
      "cell_type": "markdown",
      "metadata": {
        "id": "se-r85Tu0yvT",
        "colab_type": "text"
      },
      "source": [
        "###**Make ROC curve**"
      ]
    },
    {
      "cell_type": "code",
      "metadata": {
        "id": "hckyESGEwwxi",
        "colab_type": "code",
        "colab": {}
      },
      "source": [
        "from sklearn.metrics import roc_curve,auc\n",
        "import matplotlib.pyplot as plt"
      ],
      "execution_count": 124,
      "outputs": []
    },
    {
      "cell_type": "code",
      "metadata": {
        "id": "q2ZcUhRYwwwG",
        "colab_type": "code",
        "colab": {}
      },
      "source": [
        "def plot_roc_curve(y_true,y_pred):\n",
        "  fpr, tpr, thresholds = roc_curve(y_true,y_pred, pos_label=1)\n",
        "  auc_roc = auc(fpr, tpr)\n",
        "\n",
        "  plt.title('Receiver Operating Characteristic on Validation Set')\n",
        "  plt.plot(fpr, tpr, 'b', label = 'AUC = %0.2f' % auc_roc)\n",
        "  plt.legend(loc = 'lower right')\n",
        "  plt.plot([0, 1.1], [0, 1.1],'r--')\n",
        "  plt.xlim([0, 1.1])\n",
        "  plt.ylim([0, 1.1])\n",
        "  plt.ylabel('True Positive Rate')\n",
        "  plt.xlabel('False Positive Rate')\n",
        "  plt.show()"
      ],
      "execution_count": 143,
      "outputs": []
    },
    {
      "cell_type": "code",
      "metadata": {
        "id": "gi6b4nFT9irU",
        "colab_type": "code",
        "colab": {
          "base_uri": "https://localhost:8080/",
          "height": 295
        },
        "outputId": "e6a8ae86-70a7-41ae-a472-9d60ee5381ff"
      },
      "source": [
        "plot_roc_curve(link_label_val,sigmoid_val_pred)"
      ],
      "execution_count": 126,
      "outputs": [
        {
          "output_type": "display_data",
          "data": {
            "image/png": "[encoded data removed]",
            "text/plain": [
              "<Figure size 432x288 with 1 Axes>"
            ]
          },
          "metadata": {
            "tags": [],
            "needs_background": "light"
          }
        }
      ]
    },
    {
      "cell_type": "code",
      "metadata": {
        "id": "XQVM3G7P84Pj",
        "colab_type": "code",
        "colab": {}
      },
      "source": [
        "testdata = EdgeDataset(examples_test,link_labels_test)\n",
        "test_loader = DataLoader(testdata, batch_size=batch_s, shuffle=False)"
      ],
      "execution_count": 127,
      "outputs": []
    },
    {
      "cell_type": "code",
      "metadata": {
        "id": "H7TnBGWwWmpX",
        "colab_type": "code",
        "colab": {
          "base_uri": "https://localhost:8080/",
          "height": 71
        },
        "outputId": "4c6e13b0-6807-4d53-b5f1-0466dc0195aa"
      },
      "source": [
        "g_test = DGLGraph()\n",
        "g_test.from_networkx(graph_test)\n",
        "g_test.readonly()\n",
        "test_preds = []\n",
        "test_true = []\n",
        "test_losses = []\n",
        "for i,Data in enumerate(test_loader):\n",
        "  node_pairs, labels_test = Data\n",
        "  with torch.no_grad():\n",
        "    test_loss, test_pred = model.predict(g_test.to(device),torch.FloatTensor(features).cuda(), torch.tensor(node_pairs).cuda(), labels_test.float().cuda())\n",
        "    \n",
        "    test_losses.append(test_loss)\n",
        "    test_pred = test_pred.detach().to(\"cpu\").numpy()\n",
        "    #test_pred = 1*(test_pred>0.5)\n",
        "    \n",
        "    test_preds = np.append(test_preds, test_pred)\n",
        "    test_true = np.append(test_true,labels_test)"
      ],
      "execution_count": 128,
      "outputs": [
        {
          "output_type": "stream",
          "text": [
            "/usr/local/lib/python3.6/dist-packages/ipykernel_launcher.py:10: UserWarning: To copy construct from a tensor, it is recommended to use sourceTensor.clone().detach() or sourceTensor.clone().detach().requires_grad_(True), rather than torch.tensor(sourceTensor).\n",
            "  # Remove the CWD from sys.path while we load stuff.\n"
          ],
          "name": "stderr"
        }
      ]
    },
    {
      "cell_type": "code",
      "metadata": {
        "id": "TF6qa-OvP3vG",
        "colab_type": "code",
        "colab": {
          "base_uri": "https://localhost:8080/",
          "height": 51
        },
        "outputId": "ec6a0cb6-13d1-4b1e-8619-49357e259e69"
      },
      "source": [
        "test_roc = roc_auc_score(test_true, test_preds)\n",
        "test_ap = average_precision_score(test_true,test_preds)\n",
        "print(\"Test ROC AUC Score = {:.4f}\\nTest Average Precision Score = {:.4f}\".format(test_roc,test_ap))"
      ],
      "execution_count": 129,
      "outputs": [
        {
          "output_type": "stream",
          "text": [
            "Test ROC AUC Score = 0.8943\n",
            "Test Average Precision Score = 0.8833\n"
          ],
          "name": "stdout"
        }
      ]
    },
    {
      "cell_type": "code",
      "metadata": {
        "id": "FJAfqSKihC0m",
        "colab_type": "code",
        "colab": {
          "base_uri": "https://localhost:8080/",
          "height": 295
        },
        "outputId": "035240b8-3ae9-4bcc-c88a-8c99fae569d4"
      },
      "source": [
        "plot_roc_curve(test_true,test_preds)"
      ],
      "execution_count": 144,
      "outputs": [
        {
          "output_type": "display_data",
          "data": {
            "image/png": "[encoded data removed]",
            "text/plain": [
              "<Figure size 432x288 with 1 Axes>"
            ]
          },
          "metadata": {
            "tags": [],
            "needs_background": "light"
          }
        }
      ]
    },
    {
      "cell_type": "code",
      "metadata": {
        "id": "emy0JRdsGK_u",
        "colab_type": "code",
        "colab": {}
      },
      "source": [
        "from sklearn.metrics import precision_recall_curve\n",
        "precision, recall, thresholds = precision_recall_curve(test_true, test_preds)"
      ],
      "execution_count": 132,
      "outputs": []
    },
    {
      "cell_type": "code",
      "metadata": {
        "id": "_V6vwQs2UnQa",
        "colab_type": "code",
        "colab": {
          "base_uri": "https://localhost:8080/",
          "height": 34
        },
        "outputId": "fb797e5e-2704-429a-967b-cc2cf1b55550"
      },
      "source": [
        "np.max(precision)"
      ],
      "execution_count": 134,
      "outputs": [
        {
          "output_type": "execute_result",
          "data": {
            "text/plain": [
              "1.0"
            ]
          },
          "metadata": {
            "tags": []
          },
          "execution_count": 134
        }
      ]
    },
    {
      "cell_type": "code",
      "metadata": {
        "id": "5U23b22HU43y",
        "colab_type": "code",
        "colab": {
          "base_uri": "https://localhost:8080/",
          "height": 295
        },
        "outputId": "09135770-8c62-41a2-b534-3b7cb70108a7"
      },
      "source": [
        "plt.title('Precision-Recall Curve')\n",
        "plt.plot(precision,recall, 'b')\n",
        "plt.xlim([0, 1.1])\n",
        "plt.ylim([0, 1.1])\n",
        "plt.ylabel('Recall')\n",
        "plt.xlabel('Precision')\n",
        "plt.show()"
      ],
      "execution_count": 147,
      "outputs": [
        {
          "output_type": "display_data",
          "data": {
            "image/png": "[encoded data removed]",
            "text/plain": [
              "<Figure size 432x288 with 1 Axes>"
            ]
          },
          "metadata": {
            "tags": [],
            "needs_background": "light"
          }
        }
      ]
    },
    {
      "cell_type": "code",
      "metadata": {
        "id": "gdxGlGh8XZkj",
        "colab_type": "code",
        "colab": {}
      },
      "source": [
        ""
      ],
      "execution_count": null,
      "outputs": []
    }
  ]
}