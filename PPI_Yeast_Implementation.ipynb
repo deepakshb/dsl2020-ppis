{
  "nbformat": 4,
  "nbformat_minor": 0,
  "metadata": {
    "kernelspec": {
      "display_name": "Python 3",
      "language": "python",
      "name": "python3"
    },
    "language_info": {
      "codemirror_mode": {
        "name": "ipython",
        "version": 3
      },
      "file_extension": ".py",
      "mimetype": "text/x-python",
      "name": "python",
      "nbconvert_exporter": "python",
      "pygments_lexer": "ipython3",
      "version": "3.7.4"
    },
    "colab": {
      "name": "PPI_Yeast-Implementation.ipynb",
      "provenance": [],
      "collapsed_sections": []
    },
    "accelerator": "TPU"
  },
  "cells": [
    {
      "cell_type": "code",
      "metadata": {
        "id": "GTsfJl_3FdHY",
        "colab_type": "code",
        "colab": {
          "base_uri": "https://localhost:8080/",
          "height": 51
        },
        "outputId": "06a2a848-404c-41d7-b288-5a6f55132f6e"
      },
      "source": [
        "import torch\n",
        "import torch.nn as nn\n",
        "import torch.nn.functional as F\n",
        "from sklearn.metrics import accuracy_score\n",
        "from sklearn.model_selection import train_test_split\n",
        "import numpy as np\n",
        "import networkx as nx\n",
        "import os\n",
        "\n",
        "try:\n",
        "  import dgl\n",
        "  from dgl import DGLGraph\n",
        "  dgl.load_backend('pytorch')\n",
        "  from dgl.nn.pytorch import conv as dgl_conv\n",
        "except ImportError as e:\n",
        "  os.system('pip install dgl')\n",
        "\n",
        "try:\n",
        "  from stellargraph import StellarGraph\n",
        "  from stellargraph.data import EdgeSplitter\n",
        "except ImportError as e:\n",
        "  os.system('pip install stellargraph')\n",
        "\n",
        "try:\n",
        "  import numpy_indexed as npi\n",
        "except ImportError as e:\n",
        "  os.system('pip install numpy_indexed')"
      ],
      "execution_count": 1,
      "outputs": [
        {
          "output_type": "stream",
          "text": [
            "Using backend: pytorch\n",
            "Using backend: pytorch\n"
          ],
          "name": "stderr"
        }
      ]
    },
    {
      "cell_type": "code",
      "metadata": {
        "id": "LCcx4SZCFdHs",
        "colab_type": "code",
        "colab": {}
      },
      "source": [
        "class GCNModel(nn.Module):\n",
        "    def __init__(self,in_feats,n_hidden,out_dim,layer_dim,hidden_layer_dim):\n",
        "        super(GCNModel, self).__init__()\n",
        "        \n",
        "\n",
        "        self.gcn_layer_1 = dgl_conv.GraphConv(in_feats, n_hidden)\n",
        "\n",
        "        self.gcn_layer_2 = dgl_conv.GraphConv(n_hidden, out_dim)\n",
        "\n",
        "        self.lin_layer_1 = nn.Linear(layer_dim,hidden_layer_dim)\n",
        "\n",
        "        self.lin_layer_2 = nn.Linear(hidden_layer_dim,2)\n",
        "\n",
        "    def forward(self, g, features, node_pairs, link_labels):\n",
        "        x = features\n",
        "        x = self.gcn_layer_1(g, features)\n",
        "        x = F.relu(x)\n",
        "\n",
        "        x = self.gcn_layer_2(g,x)\n",
        "        x = F.relu(x)\n",
        "\n",
        "        src = node_pairs[:,0]\n",
        "        dst = node_pairs[:,1]\n",
        "\n",
        "        emb_src = x[src]\n",
        "        emb_dst = x[dst]\n",
        "\n",
        "        z_tensor = torch.mul(emb_src,emb_dst)\n",
        "        z_tensor = self.lin_layer_1(z_tensor)\n",
        "        z_tensor = F.relu(z_tensor)\n",
        "        z_tensor = self.lin_layer_2(z_tensor)\n",
        "\n",
        "        return z_tensor\n",
        "    \n",
        "    def calculate_loss(self, features, g, node_pairs, link_labels):\n",
        "      pred = self.forward(features, g, node_pairs, link_labels)\n",
        "      return F.cross_entropy(pred,link_labels)\n",
        "    \n",
        "    def predict(self, features, g, node_pairs, link_labels):\n",
        "        pred = self.forward(features, g, node_pairs, link_labels)\n",
        "        loss = F.cross_entropy(pred, link_labels)\n",
        "        return loss, pred\n"
      ],
      "execution_count": 2,
      "outputs": []
    },
    {
      "cell_type": "code",
      "metadata": {
        "id": "s-mNqC6_JDSK",
        "colab_type": "code",
        "colab": {
          "base_uri": "https://localhost:8080/",
          "height": 34
        },
        "outputId": "25796390-ae32-4546-fe73-fb88ee9b030a"
      },
      "source": [
        "from google.colab import drive\n",
        "drive.mount('/content/drive')"
      ],
      "execution_count": 3,
      "outputs": [
        {
          "output_type": "stream",
          "text": [
            "Drive already mounted at /content/drive; to attempt to forcibly remount, call drive.mount(\"/content/drive\", force_remount=True).\n"
          ],
          "name": "stdout"
        }
      ]
    },
    {
      "cell_type": "code",
      "metadata": {
        "id": "RMv1vzXQI83O",
        "colab_type": "code",
        "colab": {
          "base_uri": "https://localhost:8080/",
          "height": 34
        },
        "outputId": "7d0873d7-81ff-451f-b1e0-b4c592dd4ff3"
      },
      "source": [
        "raw_edge_list = open('/content/drive/My Drive/Colab Notebooks/DSLab/yeast.edgelist','r')\n",
        "G = nx.Graph()\n",
        "G = nx.parse_edgelist(raw_edge_list, delimiter='\\t', create_using=G,nodetype=str, data=(('weight', float),))\n",
        "# Get graph edges and nodes from networkx graph object\n",
        "nodes = G.nodes\n",
        "edges = G.edges\n",
        "\n",
        "print(\"Graph's Nodes : {} / Edges : {}\".format(len(nodes), len(edges)))"
      ],
      "execution_count": 4,
      "outputs": [
        {
          "output_type": "stream",
          "text": [
            "Graph's Nodes : 6526 / Edges : 532180\n"
          ],
          "name": "stdout"
        }
      ]
    },
    {
      "cell_type": "code",
      "metadata": {
        "id": "0ymGmp_LFdH7",
        "colab_type": "code",
        "colab": {}
      },
      "source": [
        "G.remove_edges_from(nx.selfloop_edges(G))"
      ],
      "execution_count": 5,
      "outputs": []
    },
    {
      "cell_type": "code",
      "metadata": {
        "id": "-UtTPC8suuve",
        "colab_type": "code",
        "colab": {}
      },
      "source": [
        "G = nx.relabel.convert_node_labels_to_integers(G, first_label=0, ordering='default', label_attribute=None)"
      ],
      "execution_count": 6,
      "outputs": []
    },
    {
      "cell_type": "code",
      "metadata": {
        "id": "DwrJ4mGW6IgQ",
        "colab_type": "code",
        "colab": {
          "base_uri": "https://localhost:8080/",
          "height": 34
        },
        "outputId": "50c0c09a-fb48-4902-f624-c3e5f62dcff0"
      },
      "source": [
        "es_test = EdgeSplitter(G)\n",
        "graph_test, examples_test, link_labels_test = es_test.train_test_split(p=0.25, method=\"global\")"
      ],
      "execution_count": 7,
      "outputs": [
        {
          "output_type": "stream",
          "text": [
            "** Sampled 132623 positive and 132623 negative edges. **\n"
          ],
          "name": "stdout"
        }
      ]
    },
    {
      "cell_type": "code",
      "metadata": {
        "id": "yBqlzReX6M_f",
        "colab_type": "code",
        "colab": {
          "base_uri": "https://localhost:8080/",
          "height": 34
        },
        "outputId": "c452ab28-5e3a-4b43-ed57-04a026daf757"
      },
      "source": [
        "es_train = EdgeSplitter(graph_test, G)\n",
        "graph_train, examples_train, link_labels_train = es_train.train_test_split(\n",
        "    p=0.25, method=\"global\")\n",
        "examples_train,examples_val, link_labels_train, link_label_val = train_test_split(examples_train,link_labels_train,test_size=0.033)"
      ],
      "execution_count": 8,
      "outputs": [
        {
          "output_type": "stream",
          "text": [
            "** Sampled 99468 positive and 99468 negative edges. **\n"
          ],
          "name": "stdout"
        }
      ]
    },
    {
      "cell_type": "code",
      "metadata": {
        "id": "t04tuxzSFdIA",
        "colab_type": "code",
        "colab": {}
      },
      "source": [
        "train_nodes = list(graph_train.nodes)"
      ],
      "execution_count": 9,
      "outputs": []
    },
    {
      "cell_type": "code",
      "metadata": {
        "id": "1tXVR7RnGVx2",
        "colab_type": "code",
        "colab": {}
      },
      "source": [
        "adj = nx.adjacency_matrix(graph_train)"
      ],
      "execution_count": 10,
      "outputs": []
    },
    {
      "cell_type": "code",
      "metadata": {
        "id": "HOB104U9gldp",
        "colab_type": "code",
        "colab": {
          "base_uri": "https://localhost:8080/",
          "height": 136
        },
        "outputId": "2a4f4d63-24ce-4ccd-ba5f-84d9d9774ba6"
      },
      "source": [
        "#features =np.matrix([[i, i] for i in range(adj.shape[0])])\n",
        "features = np.identity(adj.shape[0])\n",
        "#features = Variable(torch.FloatTensor(features), requires_grad=True)\n",
        "features"
      ],
      "execution_count": 11,
      "outputs": [
        {
          "output_type": "execute_result",
          "data": {
            "text/plain": [
              "array([[1., 0., 0., ..., 0., 0., 0.],\n",
              "       [0., 1., 0., ..., 0., 0., 0.],\n",
              "       [0., 0., 1., ..., 0., 0., 0.],\n",
              "       ...,\n",
              "       [0., 0., 0., ..., 1., 0., 0.],\n",
              "       [0., 0., 0., ..., 0., 1., 0.],\n",
              "       [0., 0., 0., ..., 0., 0., 1.]])"
            ]
          },
          "metadata": {
            "tags": []
          },
          "execution_count": 11
        }
      ]
    },
    {
      "cell_type": "code",
      "metadata": {
        "id": "y3UNA3HeKPeK",
        "colab_type": "code",
        "colab": {}
      },
      "source": [
        "in_feats = features.shape[0]\n",
        "n_hidden = 502\n",
        "out_dim =  50\n",
        "weight_decay = 5e-4\n",
        "n_epochs = 30\n",
        "lr = 0.01\n",
        "layer_dim = 50\n",
        "hidden_layer_dim = 32"
      ],
      "execution_count": 12,
      "outputs": []
    },
    {
      "cell_type": "code",
      "metadata": {
        "id": "ggg4bGSnnHtJ",
        "colab_type": "code",
        "colab": {}
      },
      "source": [
        "from torch.utils.data import Dataset,DataLoader"
      ],
      "execution_count": 13,
      "outputs": []
    },
    {
      "cell_type": "code",
      "metadata": {
        "id": "JtxwdwacnCyI",
        "colab_type": "code",
        "colab": {}
      },
      "source": [
        "class EdgeDataset(Dataset):\n",
        "    def __init__(self, x, y):\n",
        "        super(EdgeDataset, self).__init__()\n",
        "        assert x.shape[0] == y.shape[0] # assuming shape[0] = dataset size\n",
        "        self.x = x\n",
        "        self.y = y\n",
        "    def __len__(self):\n",
        "        return self.y.shape[0]\n",
        "\n",
        "    def __getitem__(self, index):\n",
        "        return self.x[index], self.y[index]"
      ],
      "execution_count": 14,
      "outputs": []
    },
    {
      "cell_type": "code",
      "metadata": {
        "id": "Htu1Pt43qe8Y",
        "colab_type": "code",
        "colab": {
          "base_uri": "https://localhost:8080/",
          "height": 34
        },
        "outputId": "d9ceabc8-0d56-4b25-b5ef-586ad82cff39"
      },
      "source": [
        "type(examples_train)"
      ],
      "execution_count": 15,
      "outputs": [
        {
          "output_type": "execute_result",
          "data": {
            "text/plain": [
              "numpy.ndarray"
            ]
          },
          "metadata": {
            "tags": []
          },
          "execution_count": 15
        }
      ]
    },
    {
      "cell_type": "code",
      "metadata": {
        "id": "S-g5bZqYnX8E",
        "colab_type": "code",
        "colab": {}
      },
      "source": [
        "traindata = EdgeDataset(examples_train, link_labels_train)\n",
        "edge_loader = DataLoader(traindata, batch_size=6500, shuffle=True)"
      ],
      "execution_count": 16,
      "outputs": []
    },
    {
      "cell_type": "code",
      "metadata": {
        "id": "E4HFqdHA6C36",
        "colab_type": "code",
        "colab": {}
      },
      "source": [
        "def get_edge_batch(loader=edge_loader):\n",
        "  samples = []\n",
        "  for i,data in enumerate(loader):\n",
        "    samples.append(data)\n",
        "  num_batches = len(samples)\n",
        "  return num_batches,samples"
      ],
      "execution_count": 17,
      "outputs": []
    },
    {
      "cell_type": "code",
      "metadata": {
        "id": "RJkVcL-2Q8Qn",
        "colab_type": "code",
        "colab": {
          "base_uri": "https://localhost:8080/",
          "height": 340
        },
        "outputId": "04f081cb-bc4f-4545-b9e9-22dcf3911808"
      },
      "source": [
        "from torch.autograd import Variable\n",
        "g = DGLGraph()\n",
        "g.from_networkx(graph_train)\n",
        "g.readonly()\n",
        "model = GCNModel(in_feats,n_hidden, out_dim,layer_dim,hidden_layer_dim)\n",
        "optimizer = torch.optim.Adam(model.parameters(), lr=lr)\n",
        "num_epochs,data_batches = get_edge_batch()\n",
        "print(\"Training for {} epochs.\".format(num_epochs))\n",
        "\n",
        "\n",
        "losses = []\n",
        "train_accs = []\n",
        "val_losses = []\n",
        "val_accs = []\n",
        "\n",
        "for epoch in range(num_epochs):\n",
        "  \n",
        "\n",
        "  pairs, edges = data_batches[epoch]\n",
        "  pairs = Variable(pairs)\n",
        "  edges = Variable(edges)\n",
        "  optimizer.zero_grad()\n",
        "  loss, pred = model.predict(g,torch.FloatTensor(features), pairs, edges)\n",
        "  losses.append(loss)\n",
        "  \n",
        "  loss.backward()\n",
        "  optimizer.step()\n",
        "\n",
        "  pred = F.log_softmax(pred, dim=1)\n",
        "  pred = pred.detach().to(\"cpu\").numpy()\n",
        "  pred = np.argmax(pred, axis=1)\n",
        "  y_pred = []\n",
        "  y_pred = np.append(y_pred, pred)\n",
        "  train_acc = accuracy_score(edges.detach().to(\"cpu\").numpy(), y_pred)\n",
        "  train_accs.append(train_acc)\n",
        "\n",
        "  #validation scores\n",
        "  #val_loss, val_pred = model.predict(g,torch.FloatTensor(features), examples_val, torch.Tensor(link_label_val))\n",
        "  #val_pred = F.log_softmax(val_pred, dim=1)\n",
        "  #val_pred = val_pred.detach().to(\"cpu\").numpy()\n",
        "  #val_pred = np.argmax(val_pred, axis=1)\n",
        "  #val_y_pred = []\n",
        "  #val_y_pred = np.append(val_y_pred, val_pred)\n",
        "  #val_acc = accuracy_score(link_label_val, val_y_pred)\n",
        "  #val_accs.append(val_acc)\n",
        "\n",
        "\n",
        "\n",
        "  print(\"epoch = {} train_loss = {:.4f} train_accuracy = {:.4f}\".format(epoch+1,loss,train_acc))"
      ],
      "execution_count": null,
      "outputs": [
        {
          "output_type": "stream",
          "text": [
            "Training for 30 epochs.\n",
            "epoch = 1 train_loss = 0.6940 train_accuracy = 0.4934\n",
            "epoch = 2 train_loss = 0.6927 train_accuracy = 0.5009\n",
            "epoch = 3 train_loss = 0.6890 train_accuracy = 0.5009\n",
            "epoch = 4 train_loss = 0.6756 train_accuracy = 0.4934\n",
            "epoch = 5 train_loss = 0.6424 train_accuracy = 0.4969\n",
            "epoch = 6 train_loss = 0.6399 train_accuracy = 0.4968\n",
            "epoch = 7 train_loss = 0.6152 train_accuracy = 0.5232\n",
            "epoch = 8 train_loss = 0.6109 train_accuracy = 0.5657\n",
            "epoch = 9 train_loss = 0.6049 train_accuracy = 0.6252\n",
            "epoch = 10 train_loss = 0.5970 train_accuracy = 0.6751\n",
            "epoch = 11 train_loss = 0.5849 train_accuracy = 0.6680\n",
            "epoch = 12 train_loss = 0.5849 train_accuracy = 0.6660\n",
            "epoch = 13 train_loss = 0.5719 train_accuracy = 0.7077\n",
            "epoch = 14 train_loss = 0.5560 train_accuracy = 0.7632\n",
            "epoch = 15 train_loss = 0.5588 train_accuracy = 0.7795\n",
            "epoch = 16 train_loss = 0.5403 train_accuracy = 0.7797\n",
            "epoch = 17 train_loss = 0.5236 train_accuracy = 0.7792\n",
            "epoch = 18 train_loss = 0.5365 train_accuracy = 0.7711\n"
          ],
          "name": "stdout"
        }
      ]
    },
    {
      "cell_type": "code",
      "metadata": {
        "id": "wHFOMhNQCgIq",
        "colab_type": "code",
        "colab": {}
      },
      "source": [
        ""
      ],
      "execution_count": null,
      "outputs": []
    }
  ]
}