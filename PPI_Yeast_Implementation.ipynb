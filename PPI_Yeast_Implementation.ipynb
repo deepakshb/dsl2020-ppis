{
  "nbformat": 4,
  "nbformat_minor": 0,
  "metadata": {
    "kernelspec": {
      "display_name": "Python 3",
      "language": "python",
      "name": "python3"
    },
    "language_info": {
      "codemirror_mode": {
        "name": "ipython",
        "version": 3
      },
      "file_extension": ".py",
      "mimetype": "text/x-python",
      "name": "python",
      "nbconvert_exporter": "python",
      "pygments_lexer": "ipython3",
      "version": "3.7.4"
    },
    "colab": {
      "name": "PPI_Yeast-Implementation.ipynb",
      "provenance": [],
      "collapsed_sections": []
    },
    "accelerator": "GPU"
  },
  "cells": [
    {
      "cell_type": "markdown",
      "metadata": {
        "id": "5nzZBac30SHF",
        "colab_type": "text"
      },
      "source": [
        "### **Team -11, Predicting Protein Interaction using GCNs on Yeast Dataset**"
      ]
    },
    {
      "cell_type": "markdown",
      "metadata": {
        "id": "7bt1ZQ300oPa",
        "colab_type": "text"
      },
      "source": [
        "**Note:** This notebook uses CUDA v.10.1. If your PC is not supported, run this notebook on Colab with GPU settings turned on."
      ]
    },
    {
      "cell_type": "code",
      "metadata": {
        "id": "xgs48TGW1-6e",
        "colab_type": "code",
        "colab": {
          "base_uri": "https://localhost:8080/",
          "height": 1000
        },
        "outputId": "8167cb6e-c6a1-411f-afa7-63325c50ea55"
      },
      "source": [
        "!pip install stellargraph"
      ],
      "execution_count": 1,
      "outputs": [
        {
          "output_type": "stream",
          "text": [
            "Requirement already satisfied: stellargraph in /usr/local/lib/python3.6/dist-packages (1.2.1)\n",
            "Requirement already satisfied: scikit-learn>=0.20 in /usr/local/lib/python3.6/dist-packages (from stellargraph) (0.22.2.post1)\n",
            "Requirement already satisfied: networkx>=2.2 in /usr/local/lib/python3.6/dist-packages (from stellargraph) (2.4)\n",
            "Requirement already satisfied: tensorflow>=2.1.0 in /usr/local/lib/python3.6/dist-packages (from stellargraph) (2.2.0)\n",
            "Requirement already satisfied: scipy>=1.1.0 in /usr/local/lib/python3.6/dist-packages (from stellargraph) (1.4.1)\n",
            "Requirement already satisfied: matplotlib>=2.2 in /usr/local/lib/python3.6/dist-packages (from stellargraph) (3.2.2)\n",
            "Requirement already satisfied: pandas>=0.24 in /usr/local/lib/python3.6/dist-packages (from stellargraph) (1.0.5)\n",
            "Requirement already satisfied: gensim>=3.4.0 in /usr/local/lib/python3.6/dist-packages (from stellargraph) (3.6.0)\n",
            "Requirement already satisfied: numpy>=1.14 in /usr/local/lib/python3.6/dist-packages (from stellargraph) (1.18.5)\n",
            "Requirement already satisfied: joblib>=0.11 in /usr/local/lib/python3.6/dist-packages (from scikit-learn>=0.20->stellargraph) (0.16.0)\n",
            "Requirement already satisfied: decorator>=4.3.0 in /usr/local/lib/python3.6/dist-packages (from networkx>=2.2->stellargraph) (4.4.2)\n",
            "Requirement already satisfied: h5py<2.11.0,>=2.10.0 in /usr/local/lib/python3.6/dist-packages (from tensorflow>=2.1.0->stellargraph) (2.10.0)\n",
            "Requirement already satisfied: opt-einsum>=2.3.2 in /usr/local/lib/python3.6/dist-packages (from tensorflow>=2.1.0->stellargraph) (3.2.1)\n",
            "Requirement already satisfied: tensorboard<2.3.0,>=2.2.0 in /usr/local/lib/python3.6/dist-packages (from tensorflow>=2.1.0->stellargraph) (2.2.2)\n",
            "Requirement already satisfied: grpcio>=1.8.6 in /usr/local/lib/python3.6/dist-packages (from tensorflow>=2.1.0->stellargraph) (1.30.0)\n",
            "Requirement already satisfied: gast==0.3.3 in /usr/local/lib/python3.6/dist-packages (from tensorflow>=2.1.0->stellargraph) (0.3.3)\n",
            "Requirement already satisfied: wheel>=0.26; python_version >= \"3\" in /usr/local/lib/python3.6/dist-packages (from tensorflow>=2.1.0->stellargraph) (0.34.2)\n",
            "Requirement already satisfied: google-pasta>=0.1.8 in /usr/local/lib/python3.6/dist-packages (from tensorflow>=2.1.0->stellargraph) (0.2.0)\n",
            "Requirement already satisfied: protobuf>=3.8.0 in /usr/local/lib/python3.6/dist-packages (from tensorflow>=2.1.0->stellargraph) (3.10.0)\n",
            "Requirement already satisfied: keras-preprocessing>=1.1.0 in /usr/local/lib/python3.6/dist-packages (from tensorflow>=2.1.0->stellargraph) (1.1.2)\n",
            "Requirement already satisfied: tensorflow-estimator<2.3.0,>=2.2.0 in /usr/local/lib/python3.6/dist-packages (from tensorflow>=2.1.0->stellargraph) (2.2.0)\n",
            "Requirement already satisfied: termcolor>=1.1.0 in /usr/local/lib/python3.6/dist-packages (from tensorflow>=2.1.0->stellargraph) (1.1.0)\n",
            "Requirement already satisfied: six>=1.12.0 in /usr/local/lib/python3.6/dist-packages (from tensorflow>=2.1.0->stellargraph) (1.12.0)\n",
            "Requirement already satisfied: wrapt>=1.11.1 in /usr/local/lib/python3.6/dist-packages (from tensorflow>=2.1.0->stellargraph) (1.12.1)\n",
            "Requirement already satisfied: absl-py>=0.7.0 in /usr/local/lib/python3.6/dist-packages (from tensorflow>=2.1.0->stellargraph) (0.9.0)\n",
            "Requirement already satisfied: astunparse==1.6.3 in /usr/local/lib/python3.6/dist-packages (from tensorflow>=2.1.0->stellargraph) (1.6.3)\n",
            "Requirement already satisfied: kiwisolver>=1.0.1 in /usr/local/lib/python3.6/dist-packages (from matplotlib>=2.2->stellargraph) (1.2.0)\n",
            "Requirement already satisfied: pyparsing!=2.0.4,!=2.1.2,!=2.1.6,>=2.0.1 in /usr/local/lib/python3.6/dist-packages (from matplotlib>=2.2->stellargraph) (2.4.7)\n",
            "Requirement already satisfied: python-dateutil>=2.1 in /usr/local/lib/python3.6/dist-packages (from matplotlib>=2.2->stellargraph) (2.8.1)\n",
            "Requirement already satisfied: cycler>=0.10 in /usr/local/lib/python3.6/dist-packages (from matplotlib>=2.2->stellargraph) (0.10.0)\n",
            "Requirement already satisfied: pytz>=2017.2 in /usr/local/lib/python3.6/dist-packages (from pandas>=0.24->stellargraph) (2018.9)\n",
            "Requirement already satisfied: smart-open>=1.2.1 in /usr/local/lib/python3.6/dist-packages (from gensim>=3.4.0->stellargraph) (2.1.0)\n",
            "Requirement already satisfied: werkzeug>=0.11.15 in /usr/local/lib/python3.6/dist-packages (from tensorboard<2.3.0,>=2.2.0->tensorflow>=2.1.0->stellargraph) (1.0.1)\n",
            "Requirement already satisfied: requests<3,>=2.21.0 in /usr/local/lib/python3.6/dist-packages (from tensorboard<2.3.0,>=2.2.0->tensorflow>=2.1.0->stellargraph) (2.23.0)\n",
            "Requirement already satisfied: setuptools>=41.0.0 in /usr/local/lib/python3.6/dist-packages (from tensorboard<2.3.0,>=2.2.0->tensorflow>=2.1.0->stellargraph) (49.1.0)\n",
            "Requirement already satisfied: tensorboard-plugin-wit>=1.6.0 in /usr/local/lib/python3.6/dist-packages (from tensorboard<2.3.0,>=2.2.0->tensorflow>=2.1.0->stellargraph) (1.7.0)\n",
            "Requirement already satisfied: markdown>=2.6.8 in /usr/local/lib/python3.6/dist-packages (from tensorboard<2.3.0,>=2.2.0->tensorflow>=2.1.0->stellargraph) (3.2.2)\n",
            "Requirement already satisfied: google-auth-oauthlib<0.5,>=0.4.1 in /usr/local/lib/python3.6/dist-packages (from tensorboard<2.3.0,>=2.2.0->tensorflow>=2.1.0->stellargraph) (0.4.1)\n",
            "Requirement already satisfied: google-auth<2,>=1.6.3 in /usr/local/lib/python3.6/dist-packages (from tensorboard<2.3.0,>=2.2.0->tensorflow>=2.1.0->stellargraph) (1.17.2)\n",
            "Requirement already satisfied: boto in /usr/local/lib/python3.6/dist-packages (from smart-open>=1.2.1->gensim>=3.4.0->stellargraph) (2.49.0)\n",
            "Requirement already satisfied: boto3 in /usr/local/lib/python3.6/dist-packages (from smart-open>=1.2.1->gensim>=3.4.0->stellargraph) (1.14.18)\n",
            "Requirement already satisfied: chardet<4,>=3.0.2 in /usr/local/lib/python3.6/dist-packages (from requests<3,>=2.21.0->tensorboard<2.3.0,>=2.2.0->tensorflow>=2.1.0->stellargraph) (3.0.4)\n",
            "Requirement already satisfied: certifi>=2017.4.17 in /usr/local/lib/python3.6/dist-packages (from requests<3,>=2.21.0->tensorboard<2.3.0,>=2.2.0->tensorflow>=2.1.0->stellargraph) (2020.6.20)\n",
            "Requirement already satisfied: idna<3,>=2.5 in /usr/local/lib/python3.6/dist-packages (from requests<3,>=2.21.0->tensorboard<2.3.0,>=2.2.0->tensorflow>=2.1.0->stellargraph) (2.10)\n",
            "Requirement already satisfied: urllib3!=1.25.0,!=1.25.1,<1.26,>=1.21.1 in /usr/local/lib/python3.6/dist-packages (from requests<3,>=2.21.0->tensorboard<2.3.0,>=2.2.0->tensorflow>=2.1.0->stellargraph) (1.24.3)\n",
            "Requirement already satisfied: importlib-metadata; python_version < \"3.8\" in /usr/local/lib/python3.6/dist-packages (from markdown>=2.6.8->tensorboard<2.3.0,>=2.2.0->tensorflow>=2.1.0->stellargraph) (1.7.0)\n",
            "Requirement already satisfied: requests-oauthlib>=0.7.0 in /usr/local/lib/python3.6/dist-packages (from google-auth-oauthlib<0.5,>=0.4.1->tensorboard<2.3.0,>=2.2.0->tensorflow>=2.1.0->stellargraph) (1.3.0)\n",
            "Requirement already satisfied: pyasn1-modules>=0.2.1 in /usr/local/lib/python3.6/dist-packages (from google-auth<2,>=1.6.3->tensorboard<2.3.0,>=2.2.0->tensorflow>=2.1.0->stellargraph) (0.2.8)\n",
            "Requirement already satisfied: cachetools<5.0,>=2.0.0 in /usr/local/lib/python3.6/dist-packages (from google-auth<2,>=1.6.3->tensorboard<2.3.0,>=2.2.0->tensorflow>=2.1.0->stellargraph) (4.1.1)\n",
            "Requirement already satisfied: rsa<5,>=3.1.4; python_version >= \"3\" in /usr/local/lib/python3.6/dist-packages (from google-auth<2,>=1.6.3->tensorboard<2.3.0,>=2.2.0->tensorflow>=2.1.0->stellargraph) (4.6)\n",
            "Requirement already satisfied: jmespath<1.0.0,>=0.7.1 in /usr/local/lib/python3.6/dist-packages (from boto3->smart-open>=1.2.1->gensim>=3.4.0->stellargraph) (0.10.0)\n",
            "Requirement already satisfied: botocore<1.18.0,>=1.17.18 in /usr/local/lib/python3.6/dist-packages (from boto3->smart-open>=1.2.1->gensim>=3.4.0->stellargraph) (1.17.18)\n",
            "Requirement already satisfied: s3transfer<0.4.0,>=0.3.0 in /usr/local/lib/python3.6/dist-packages (from boto3->smart-open>=1.2.1->gensim>=3.4.0->stellargraph) (0.3.3)\n",
            "Requirement already satisfied: zipp>=0.5 in /usr/local/lib/python3.6/dist-packages (from importlib-metadata; python_version < \"3.8\"->markdown>=2.6.8->tensorboard<2.3.0,>=2.2.0->tensorflow>=2.1.0->stellargraph) (3.1.0)\n",
            "Requirement already satisfied: oauthlib>=3.0.0 in /usr/local/lib/python3.6/dist-packages (from requests-oauthlib>=0.7.0->google-auth-oauthlib<0.5,>=0.4.1->tensorboard<2.3.0,>=2.2.0->tensorflow>=2.1.0->stellargraph) (3.1.0)\n",
            "Requirement already satisfied: pyasn1<0.5.0,>=0.4.6 in /usr/local/lib/python3.6/dist-packages (from pyasn1-modules>=0.2.1->google-auth<2,>=1.6.3->tensorboard<2.3.0,>=2.2.0->tensorflow>=2.1.0->stellargraph) (0.4.8)\n",
            "Requirement already satisfied: docutils<0.16,>=0.10 in /usr/local/lib/python3.6/dist-packages (from botocore<1.18.0,>=1.17.18->boto3->smart-open>=1.2.1->gensim>=3.4.0->stellargraph) (0.15.2)\n"
          ],
          "name": "stdout"
        }
      ]
    },
    {
      "cell_type": "code",
      "metadata": {
        "id": "Sl0ZN_0_gvxT",
        "colab_type": "code",
        "colab": {}
      },
      "source": [
        "from stellargraph.data import EdgeSplitter"
      ],
      "execution_count": 2,
      "outputs": []
    },
    {
      "cell_type": "code",
      "metadata": {
        "id": "GTsfJl_3FdHY",
        "colab_type": "code",
        "colab": {}
      },
      "source": [
        "import torch\n",
        "import torch.nn as nn\n",
        "import torch.nn.functional as F\n",
        "from sklearn.metrics import accuracy_score,roc_auc_score,average_precision_score\n",
        "from sklearn.model_selection import train_test_split\n",
        "import numpy as np\n",
        "import networkx as nx\n",
        "import os"
      ],
      "execution_count": 3,
      "outputs": []
    },
    {
      "cell_type": "code",
      "metadata": {
        "id": "-8cVeBbdf9gD",
        "colab_type": "code",
        "colab": {
          "base_uri": "https://localhost:8080/",
          "height": 275
        },
        "outputId": "89b015d9-2e4b-43d3-a630-8ff4bf170cde"
      },
      "source": [
        "!pip install dgl-cu101"
      ],
      "execution_count": null,
      "outputs": [
        {
          "output_type": "stream",
          "text": [
            "Collecting dgl-cu101\n",
            "\u001b[?25l  Downloading https://files.pythonhosted.org/packages/b9/02/9eba53d81b4eff438cd306775f07f164bdb8708f0fe5175cb122852e50e0/dgl_cu101-0.4.3.post2-cp36-cp36m-manylinux1_x86_64.whl (16.9MB)\n",
            "\u001b[K     |████████████████████████████████| 16.9MB 1.8MB/s \n",
            "\u001b[?25hRequirement already satisfied: scipy>=1.1.0 in /usr/local/lib/python3.6/dist-packages (from dgl-cu101) (1.4.1)\n",
            "Requirement already satisfied: requests>=2.19.0 in /usr/local/lib/python3.6/dist-packages (from dgl-cu101) (2.23.0)\n",
            "Requirement already satisfied: networkx>=2.1 in /usr/local/lib/python3.6/dist-packages (from dgl-cu101) (2.4)\n",
            "Requirement already satisfied: numpy>=1.14.0 in /usr/local/lib/python3.6/dist-packages (from dgl-cu101) (1.18.5)\n",
            "Requirement already satisfied: chardet<4,>=3.0.2 in /usr/local/lib/python3.6/dist-packages (from requests>=2.19.0->dgl-cu101) (3.0.4)\n",
            "Requirement already satisfied: idna<3,>=2.5 in /usr/local/lib/python3.6/dist-packages (from requests>=2.19.0->dgl-cu101) (2.10)\n",
            "Requirement already satisfied: certifi>=2017.4.17 in /usr/local/lib/python3.6/dist-packages (from requests>=2.19.0->dgl-cu101) (2020.6.20)\n",
            "Requirement already satisfied: urllib3!=1.25.0,!=1.25.1,<1.26,>=1.21.1 in /usr/local/lib/python3.6/dist-packages (from requests>=2.19.0->dgl-cu101) (1.24.3)\n",
            "Requirement already satisfied: decorator>=4.3.0 in /usr/local/lib/python3.6/dist-packages (from networkx>=2.1->dgl-cu101) (4.4.2)\n",
            "Installing collected packages: dgl-cu101\n",
            "Successfully installed dgl-cu101-0.4.3.post2\n"
          ],
          "name": "stdout"
        }
      ]
    },
    {
      "cell_type": "code",
      "metadata": {
        "id": "0sRHjQv0mH0h",
        "colab_type": "code",
        "colab": {
          "base_uri": "https://localhost:8080/",
          "height": 51
        },
        "outputId": "982e8f07-3673-4c49-f626-a6c1b0b541d8"
      },
      "source": [
        "import dgl\n",
        "from dgl import DGLGraph\n",
        "dgl.load_backend('pytorch')\n",
        "from dgl.nn.pytorch import conv as dgl_conv"
      ],
      "execution_count": 4,
      "outputs": [
        {
          "output_type": "stream",
          "text": [
            "Using backend: pytorch\n",
            "Using backend: pytorch\n"
          ],
          "name": "stderr"
        }
      ]
    },
    {
      "cell_type": "code",
      "metadata": {
        "id": "LCcx4SZCFdHs",
        "colab_type": "code",
        "colab": {}
      },
      "source": [
        "class GCNModel(nn.Module):\n",
        "    def __init__(self,in_feats,n_hidden,out_dim,layer_dim,hidden_layer_dim):\n",
        "        super(GCNModel, self).__init__()\n",
        "        \n",
        "\n",
        "        self.gcn_layer_1 = dgl_conv.GraphConv(in_feats, n_hidden)\n",
        "\n",
        "        self.gcn_layer_2 = dgl_conv.GraphConv(n_hidden, out_dim)\n",
        "\n",
        "        self.lin_layer_1 = nn.Linear(layer_dim,hidden_layer_dim)\n",
        "\n",
        "        self.lin_layer_2 = nn.Linear(hidden_layer_dim,2)\n",
        "\n",
        "    def forward(self, g, features, node_pairs, link_labels):\n",
        "        x = features\n",
        "        x = self.gcn_layer_1(g, features)\n",
        "        x = F.relu(x)\n",
        "\n",
        "        x = self.gcn_layer_2(g,x)\n",
        "        x = F.relu(x)\n",
        "\n",
        "        src = node_pairs[:,0]\n",
        "        dst = node_pairs[:,1]\n",
        "\n",
        "        emb_src = x[src]\n",
        "        emb_dst = x[dst]\n",
        "\n",
        "        z_tensor = torch.mul(emb_src,emb_dst)\n",
        "        z_tensor = self.lin_layer_1(z_tensor)\n",
        "        z_tensor = F.relu(z_tensor)\n",
        "        z_tensor = self.lin_layer_2(z_tensor)\n",
        "\n",
        "        return z_tensor\n",
        "    \n",
        "    def calculate_loss(self, features, g, node_pairs, link_labels):\n",
        "      pred = self.forward(features, g, node_pairs, link_labels)\n",
        "      return F.cross_entropy(pred,link_labels)\n",
        "    \n",
        "    def predict(self, features, g, node_pairs, link_labels):\n",
        "        pred = self.forward(features, g, node_pairs, link_labels)\n",
        "        loss = F.cross_entropy(pred, link_labels)\n",
        "        return loss, pred\n"
      ],
      "execution_count": 5,
      "outputs": []
    },
    {
      "cell_type": "code",
      "metadata": {
        "id": "s-mNqC6_JDSK",
        "colab_type": "code",
        "colab": {
          "base_uri": "https://localhost:8080/",
          "height": 122
        },
        "outputId": "86aa620a-4b41-4298-8b72-959eb430a4b2"
      },
      "source": [
        "from google.colab import drive\n",
        "drive.mount('/content/drive')"
      ],
      "execution_count": null,
      "outputs": [
        {
          "output_type": "stream",
          "text": [
            "Go to this URL in a browser: https://accounts.google.com/o/oauth2/auth?client_id=947318989803-6bn6qk8qdgf4n4g3pfee6491hc0brc4i.apps.googleusercontent.com&redirect_uri=urn%3aietf%3awg%3aoauth%3a2.0%3aoob&response_type=code&scope=email%20https%3a%2f%2fwww.googleapis.com%2fauth%2fdocs.test%20https%3a%2f%2fwww.googleapis.com%2fauth%2fdrive%20https%3a%2f%2fwww.googleapis.com%2fauth%2fdrive.photos.readonly%20https%3a%2f%2fwww.googleapis.com%2fauth%2fpeopleapi.readonly\n",
            "\n",
            "Enter your authorization code:\n",
            "··········\n",
            "Mounted at /content/drive\n"
          ],
          "name": "stdout"
        }
      ]
    },
    {
      "cell_type": "code",
      "metadata": {
        "id": "RMv1vzXQI83O",
        "colab_type": "code",
        "colab": {
          "base_uri": "https://localhost:8080/",
          "height": 34
        },
        "outputId": "3e13b470-7c21-4191-c296-93263b691e41"
      },
      "source": [
        "raw_edge_list = open('/content/drive/My Drive/Colab Notebooks/DSLab/yeast.edgelist','r')\n",
        "G = nx.Graph()\n",
        "G = nx.parse_edgelist(raw_edge_list, delimiter='\\t', create_using=G,nodetype=str, data=(('weight', float),))\n",
        "# Get graph edges and nodes from networkx graph object\n",
        "nodes = G.nodes\n",
        "edges = G.edges\n",
        "\n",
        "print(\"Graph's Nodes : {} / Edges : {}\".format(len(nodes), len(edges)))"
      ],
      "execution_count": 6,
      "outputs": [
        {
          "output_type": "stream",
          "text": [
            "Graph's Nodes : 6526 / Edges : 532180\n"
          ],
          "name": "stdout"
        }
      ]
    },
    {
      "cell_type": "code",
      "metadata": {
        "id": "0ymGmp_LFdH7",
        "colab_type": "code",
        "colab": {}
      },
      "source": [
        "G.remove_edges_from(nx.selfloop_edges(G))"
      ],
      "execution_count": 7,
      "outputs": []
    },
    {
      "cell_type": "code",
      "metadata": {
        "id": "-UtTPC8suuve",
        "colab_type": "code",
        "colab": {}
      },
      "source": [
        "G = nx.relabel.convert_node_labels_to_integers(G, first_label=0, ordering='default', label_attribute=None)"
      ],
      "execution_count": 8,
      "outputs": []
    },
    {
      "cell_type": "code",
      "metadata": {
        "id": "DwrJ4mGW6IgQ",
        "colab_type": "code",
        "colab": {
          "base_uri": "https://localhost:8080/",
          "height": 34
        },
        "outputId": "4b990c04-e738-4609-d9a6-c00f4ecd56fb"
      },
      "source": [
        "es_test = EdgeSplitter(G)\n",
        "graph_test, examples_test, link_labels_test = es_test.train_test_split(p=0.25, method=\"global\")"
      ],
      "execution_count": 9,
      "outputs": [
        {
          "output_type": "stream",
          "text": [
            "** Sampled 132623 positive and 132623 negative edges. **\n"
          ],
          "name": "stdout"
        }
      ]
    },
    {
      "cell_type": "code",
      "metadata": {
        "id": "yBqlzReX6M_f",
        "colab_type": "code",
        "colab": {
          "base_uri": "https://localhost:8080/",
          "height": 34
        },
        "outputId": "aefd27aa-6c52-48d5-cfd2-5c1c617943c8"
      },
      "source": [
        "es_train = EdgeSplitter(graph_test, G)\n",
        "graph_train, examples_train, link_labels_train = es_train.train_test_split(\n",
        "    p=0.25, method=\"global\")\n",
        "examples_train,examples_val, link_labels_train, link_label_val = train_test_split(examples_train,link_labels_train,test_size=0.033)"
      ],
      "execution_count": 10,
      "outputs": [
        {
          "output_type": "stream",
          "text": [
            "** Sampled 99468 positive and 99468 negative edges. **\n"
          ],
          "name": "stdout"
        }
      ]
    },
    {
      "cell_type": "code",
      "metadata": {
        "id": "t04tuxzSFdIA",
        "colab_type": "code",
        "colab": {}
      },
      "source": [
        "train_nodes = list(graph_train.nodes)"
      ],
      "execution_count": 11,
      "outputs": []
    },
    {
      "cell_type": "code",
      "metadata": {
        "id": "1tXVR7RnGVx2",
        "colab_type": "code",
        "colab": {}
      },
      "source": [
        "adj = nx.adjacency_matrix(graph_train)"
      ],
      "execution_count": 12,
      "outputs": []
    },
    {
      "cell_type": "code",
      "metadata": {
        "id": "HOB104U9gldp",
        "colab_type": "code",
        "colab": {
          "base_uri": "https://localhost:8080/",
          "height": 136
        },
        "outputId": "45b8767c-91d7-47eb-8ee6-05db4d2c5476"
      },
      "source": [
        "#features =np.matrix([[i, i] for i in range(adj.shape[0])])\n",
        "features = np.identity(adj.shape[0])\n",
        "#features = Variable(torch.FloatTensor(features), requires_grad=True)\n",
        "features"
      ],
      "execution_count": 13,
      "outputs": [
        {
          "output_type": "execute_result",
          "data": {
            "text/plain": [
              "array([[1., 0., 0., ..., 0., 0., 0.],\n",
              "       [0., 1., 0., ..., 0., 0., 0.],\n",
              "       [0., 0., 1., ..., 0., 0., 0.],\n",
              "       ...,\n",
              "       [0., 0., 0., ..., 1., 0., 0.],\n",
              "       [0., 0., 0., ..., 0., 1., 0.],\n",
              "       [0., 0., 0., ..., 0., 0., 1.]])"
            ]
          },
          "metadata": {
            "tags": []
          },
          "execution_count": 13
        }
      ]
    },
    {
      "cell_type": "code",
      "metadata": {
        "id": "y3UNA3HeKPeK",
        "colab_type": "code",
        "colab": {}
      },
      "source": [
        "in_feats = features.shape[0]\n",
        "n_hidden = 502   #evaluate for 256, 128, 64, 32\n",
        "out_dim =  50\n",
        "weight_decay = 5e-4\n",
        "n_epochs = 5    #evaluate for 5 to 20\n",
        "lr = 0.01        #evaluate for  0.001, 0.01, and 0.1\n",
        "layer_dim = 50      \n",
        "hidden_layer_dim = 32\n",
        "batch_size = 128  #evaluate for 64, 128 and 256 "
      ],
      "execution_count": 14,
      "outputs": []
    },
    {
      "cell_type": "code",
      "metadata": {
        "id": "ggg4bGSnnHtJ",
        "colab_type": "code",
        "colab": {}
      },
      "source": [
        "from torch.utils.data import Dataset,DataLoader"
      ],
      "execution_count": 15,
      "outputs": []
    },
    {
      "cell_type": "code",
      "metadata": {
        "id": "JtxwdwacnCyI",
        "colab_type": "code",
        "colab": {}
      },
      "source": [
        "class EdgeDataset(Dataset):\n",
        "    def __init__(self, x, y):\n",
        "        super(EdgeDataset, self).__init__()\n",
        "        assert x.shape[0] == y.shape[0] # assuming shape[0] = dataset size\n",
        "        self.x = x\n",
        "        self.y = y\n",
        "    def __len__(self):\n",
        "        return self.y.shape[0]\n",
        "\n",
        "    def __getitem__(self, index):\n",
        "        return self.x[index], self.y[index]"
      ],
      "execution_count": 16,
      "outputs": []
    },
    {
      "cell_type": "code",
      "metadata": {
        "id": "S-g5bZqYnX8E",
        "colab_type": "code",
        "colab": {}
      },
      "source": [
        "traindata = EdgeDataset(examples_train, link_labels_train)\n",
        "testdata = EdgeDataset(examples_test,link_labels_test)\n",
        "edge_loader = DataLoader(traindata, batch_size=batch_size, shuffle=True)"
      ],
      "execution_count": 17,
      "outputs": []
    },
    {
      "cell_type": "code",
      "metadata": {
        "id": "E4HFqdHA6C36",
        "colab_type": "code",
        "colab": {
          "base_uri": "https://localhost:8080/",
          "height": 52
        },
        "outputId": "9d3489dd-cc4d-46c3-e6b1-c2700a175ce8"
      },
      "source": [
        "'''def get_edge_batch(loader=edge_loader):\n",
        "  samples = []\n",
        "  for i,data in enumerate(loader):\n",
        "    samples.append(data)\n",
        "  num_batches = len(samples)\n",
        "  return num_batches,samples'''"
      ],
      "execution_count": 18,
      "outputs": [
        {
          "output_type": "execute_result",
          "data": {
            "application/vnd.google.colaboratory.intrinsic": {
              "type": "string"
            },
            "text/plain": [
              "'def get_edge_batch(loader=edge_loader):\\n  samples = []\\n  for i,data in enumerate(loader):\\n    samples.append(data)\\n  num_batches = len(samples)\\n  return num_batches,samples'"
            ]
          },
          "metadata": {
            "tags": []
          },
          "execution_count": 18
        }
      ]
    },
    {
      "cell_type": "code",
      "metadata": {
        "id": "jUgExkTpjcYS",
        "colab_type": "code",
        "colab": {
          "base_uri": "https://localhost:8080/",
          "height": 85
        },
        "outputId": "933e3add-0677-4dad-e593-9c81f5cc5987"
      },
      "source": [
        "!nvcc --version"
      ],
      "execution_count": 19,
      "outputs": [
        {
          "output_type": "stream",
          "text": [
            "nvcc: NVIDIA (R) Cuda compiler driver\n",
            "Copyright (c) 2005-2019 NVIDIA Corporation\n",
            "Built on Sun_Jul_28_19:07:16_PDT_2019\n",
            "Cuda compilation tools, release 10.1, V10.1.243\n"
          ],
          "name": "stdout"
        }
      ]
    },
    {
      "cell_type": "code",
      "metadata": {
        "id": "lrCrpkRri0o-",
        "colab_type": "code",
        "colab": {}
      },
      "source": [
        "use_cuda = torch.cuda.is_available()\n",
        "device = torch.device(\"cuda\" if use_cuda else \"cpu\")"
      ],
      "execution_count": 20,
      "outputs": []
    },
    {
      "cell_type": "code",
      "metadata": {
        "id": "-qEXiAGnOmK6",
        "colab_type": "code",
        "colab": {}
      },
      "source": [
        "test_loader = DataLoader(testdata, batch_size=batch_size, shuffle=True)"
      ],
      "execution_count": 22,
      "outputs": []
    },
    {
      "cell_type": "code",
      "metadata": {
        "id": "PRjLgLq2mve9",
        "colab_type": "code",
        "colab": {
          "base_uri": "https://localhost:8080/",
          "height": 136
        },
        "outputId": "8a6e679f-9074-432e-9bfe-8ff6432874a2"
      },
      "source": [
        "from torch.autograd import Variable\n",
        "g = DGLGraph()\n",
        "g.from_networkx(graph_train)\n",
        "g.readonly()\n",
        "model = GCNModel(in_feats,n_hidden, out_dim,layer_dim,hidden_layer_dim)\n",
        "model.to(device)\n",
        "optimizer = torch.optim.Adam(model.parameters(), lr=lr)\n",
        "\n",
        "print(\"Training for {} epochs.\".format(n_epochs))\n",
        "\n",
        "\n",
        "losses = []\n",
        "train_rocs = []\n",
        "val_losses = []\n",
        "val_rocs = []\n",
        "train_acc = 0.0\n",
        "loss = 0.0\n",
        "for epoch in range(n_epochs):\n",
        "  print('\\n', end='')\n",
        "  for i,data in enumerate(edge_loader):\n",
        "    #print(\"Step {}/{}......\".format(i+1,))\n",
        "    pairs, edges = data\n",
        "    pairs = Variable(pairs).cuda()\n",
        "    edges = Variable(edges).cuda()\n",
        "    \n",
        "    optimizer.zero_grad()\n",
        "    loss, pred = model.predict(g.to(device),torch.FloatTensor(features).cuda(), pairs, edges)\n",
        "\n",
        "    losses.append(loss)\n",
        "    \n",
        "    loss.backward()\n",
        "    optimizer.step()\n",
        "\n",
        "    pred = F.log_softmax(pred, dim=1)\n",
        "    pred = pred.detach().to(\"cpu\").numpy()\n",
        "    pred = np.argmax(pred, axis=1)\n",
        "    y_pred = []\n",
        "    y_pred = np.append(y_pred, pred)\n",
        "    train_roc = roc_auc_score(edges.detach().to(\"cpu\").numpy(), y_pred)\n",
        "    train_rocs.append(train_roc)\n",
        "    print(\"\\repoch = {}/{} ({}/{}) - loss = {:.4f} roc_auc_score = {:.4f}\"\n",
        "    .format(epoch+1,n_epochs,i+1,int(examples_train.shape[0]/batch_size),\n",
        "            loss,train_roc),end='',flush=True)\n",
        "\n",
        "  #validation scores\n",
        "  val_loss, val_pred = model.predict(g.to(device),torch.FloatTensor(features).cuda(), \n",
        "                                     torch.tensor(examples_val).cuda(), \n",
        "                                     torch.tensor(link_label_val).cuda())\n",
        "  \n",
        "  val_pred = F.log_softmax(val_pred, dim=1)\n",
        "  val_pred = val_pred.detach().to(\"cpu\").numpy()\n",
        "  val_pred = np.argmax(val_pred, axis=1)\n",
        "  val_y_pred = []\n",
        "  val_y_pred = np.append(val_y_pred, val_pred)\n",
        "  val_roc = roc_auc_score(link_label_val, val_y_pred)\n",
        "  val_ap = average_precision_score(link_label_val,val_y_pred)\n",
        "  val_rocs.append(val_roc)\n",
        "  print(\"\\repoch = {}/{} - loss = {:.4f} roc_auc_score = {:.4f} val_loss = {:.4f} val_roc_auc_score = {:.4f} val_avg_precision = {:.4f}\"\n",
        "  .format(epoch+1,n_epochs,loss,train_roc,val_loss,val_roc,val_ap),end='',flush=True)"
      ],
      "execution_count": 23,
      "outputs": [
        {
          "output_type": "stream",
          "text": [
            "Training for 5 epochs.\n",
            "\n",
            "epoch = 1/5 - loss = 0.4875 roc_auc_score = 0.7557 val_loss = 0.4459 val_roc_auc_score = 0.7838 val_avg_precision = 0.7249\n",
            "epoch = 2/5 - loss = 0.4028 roc_auc_score = 0.7944 val_loss = 0.4491 val_roc_auc_score = 0.7825 val_avg_precision = 0.7402\n",
            "epoch = 3/5 - loss = 0.4153 roc_auc_score = 0.8008 val_loss = 0.4444 val_roc_auc_score = 0.7899 val_avg_precision = 0.7401\n",
            "epoch = 4/5 - loss = 0.3617 roc_auc_score = 0.8607 val_loss = 0.4575 val_roc_auc_score = 0.7858 val_avg_precision = 0.7418\n",
            "epoch = 5/5 - loss = 0.3969 roc_auc_score = 0.8094 val_loss = 0.4583 val_roc_auc_score = 0.7751 val_avg_precision = 0.7139"
          ],
          "name": "stdout"
        }
      ]
    },
    {
      "cell_type": "markdown",
      "metadata": {
        "id": "FOKdHgnEm1B9",
        "colab_type": "text"
      },
      "source": [
        "###Predict test set using the trained model"
      ]
    },
    {
      "cell_type": "code",
      "metadata": {
        "id": "4fOry00b0GY0",
        "colab_type": "code",
        "colab": {}
      },
      "source": [
        "test_features = np.identity(nx.adjacency_matrix(graph_train).shape[0])"
      ],
      "execution_count": 24,
      "outputs": []
    },
    {
      "cell_type": "code",
      "metadata": {
        "id": "A5ElaHrL3t8b",
        "colab_type": "code",
        "colab": {
          "base_uri": "https://localhost:8080/",
          "height": 34
        },
        "outputId": "ad2cfccc-5132-438b-bdda-af8cf9da801b"
      },
      "source": [
        "test_features.shape"
      ],
      "execution_count": 27,
      "outputs": [
        {
          "output_type": "execute_result",
          "data": {
            "text/plain": [
              "(6526, 6526)"
            ]
          },
          "metadata": {
            "tags": []
          },
          "execution_count": 27
        }
      ]
    },
    {
      "cell_type": "code",
      "metadata": {
        "id": "65GZaeY5zJIp",
        "colab_type": "code",
        "colab": {
          "base_uri": "https://localhost:8080/",
          "height": 71
        },
        "outputId": "c73b0f44-8e0e-406f-dca2-3936c3e0257d"
      },
      "source": [
        "g_test = DGLGraph()\n",
        "g_test.from_networkx(graph_test)\n",
        "g.readonly()\n",
        "test_losses = []\n",
        "test_preds = []\n",
        "test_true = []\n",
        "\n",
        "\n",
        "\n",
        "for i,Data in enumerate(test_loader):\n",
        "  node_pairs, labels_test = Data\n",
        "  with torch.no_grad():\n",
        "    test_loss, test_pred = model.predict(g_test.to(device),torch.FloatTensor(features).cuda(), torch.tensor(node_pairs).cuda(), torch.tensor(labels_test).cuda())\n",
        "    test_pred = F.log_softmax(test_pred, dim=1)\n",
        "    test_pred = test_pred.detach().to(\"cpu\").numpy()\n",
        "    test_pred = np.argmax(test_pred, axis=1)\n",
        "    \n",
        "    test_preds = np.append(test_preds, test_pred)\n",
        "    test_true = np.append(test_true,labels_test)"
      ],
      "execution_count": 28,
      "outputs": [
        {
          "output_type": "stream",
          "text": [
            "/usr/local/lib/python3.6/dist-packages/ipykernel_launcher.py:13: UserWarning: To copy construct from a tensor, it is recommended to use sourceTensor.clone().detach() or sourceTensor.clone().detach().requires_grad_(True), rather than torch.tensor(sourceTensor).\n",
            "  del sys.path[0]\n"
          ],
          "name": "stderr"
        }
      ]
    },
    {
      "cell_type": "code",
      "metadata": {
        "id": "vz48GvMJ5D5v",
        "colab_type": "code",
        "colab": {
          "base_uri": "https://localhost:8080/",
          "height": 51
        },
        "outputId": "3946eb5b-a426-44f5-91db-e911ed7ee16d"
      },
      "source": [
        "test_roc = roc_auc_score(test_true, test_preds)\n",
        "test_ap = average_precision_score(test_true,test_preds)\n",
        "print(\"Test ROC AUC Score = {:.4f}\\nTest Average Precision Score = {:.4f}\".format(test_roc,test_ap))"
      ],
      "execution_count": 34,
      "outputs": [
        {
          "output_type": "stream",
          "text": [
            "Test ROC AUC Score = 0.7802\n",
            "Test Average Precision Score = 0.7023\n"
          ],
          "name": "stdout"
        }
      ]
    },
    {
      "cell_type": "code",
      "metadata": {
        "id": "TF6qa-OvP3vG",
        "colab_type": "code",
        "colab": {}
      },
      "source": [
        ""
      ],
      "execution_count": null,
      "outputs": []
    },
    {
      "cell_type": "code",
      "metadata": {
        "id": "XBvWgIAj3kEr",
        "colab_type": "code",
        "colab": {}
      },
      "source": [
        ""
      ],
      "execution_count": null,
      "outputs": []
    }
  ]
}