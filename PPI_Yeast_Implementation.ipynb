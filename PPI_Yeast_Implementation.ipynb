{
  "nbformat": 4,
  "nbformat_minor": 0,
  "metadata": {
    "kernelspec": {
      "display_name": "Python 3",
      "language": "python",
      "name": "python3"
    },
    "language_info": {
      "codemirror_mode": {
        "name": "ipython",
        "version": 3
      },
      "file_extension": ".py",
      "mimetype": "text/x-python",
      "name": "python",
      "nbconvert_exporter": "python",
      "pygments_lexer": "ipython3",
      "version": "3.7.4"
    },
    "colab": {
      "name": "PPI_Yeast-Implementation.ipynb",
      "provenance": [],
      "collapsed_sections": []
    },
    "accelerator": "TPU"
  },
  "cells": [
    {
      "cell_type": "code",
      "metadata": {
        "id": "GTsfJl_3FdHY",
        "colab_type": "code",
        "colab": {
          "base_uri": "https://localhost:8080/",
          "height": 105
        },
        "outputId": "119028e0-d80c-42e7-8b2d-8ad588585a0c"
      },
      "source": [
        "import torch\n",
        "import torch.nn as nn\n",
        "import torch.nn.functional as F\n",
        "from sklearn.metrics import accuracy_score\n",
        "from sklearn.model_selection import train_test_split\n",
        "import numpy as np\n",
        "import networkx as nx\n",
        "import os\n",
        "\n",
        "try:\n",
        "  import dgl\n",
        "  from dgl import DGLGraph\n",
        "  dgl.load_backend('pytorch')\n",
        "  from dgl.nn.pytorch import conv as dgl_conv\n",
        "except ImportError as e:\n",
        "  os.system('pip install dgl')\n",
        "\n",
        "try:\n",
        "  from stellargraph import StellarGraph\n",
        "  from stellargraph.data import EdgeSplitter\n",
        "except ImportError as e:\n",
        "  os.system('pip install stellargraph')\n",
        "\n",
        "try:\n",
        "  import numpy_indexed as npi\n",
        "except ImportError as e:\n",
        "  os.system('pip install numpy_indexed')"
      ],
      "execution_count": 8,
      "outputs": [
        {
          "output_type": "stream",
          "text": [
            "DGL backend not selected or invalid.  Assuming PyTorch for now.\n",
            "Using backend: pytorch\n",
            "Using backend: pytorch\n"
          ],
          "name": "stderr"
        },
        {
          "output_type": "stream",
          "text": [
            "Setting the default backend to \"pytorch\". You can change it in the ~/.dgl/config.json file or export the DGLBACKEND environment variable.  Valid options are: pytorch, mxnet, tensorflow (all lowercase)\n"
          ],
          "name": "stdout"
        }
      ]
    },
    {
      "cell_type": "code",
      "metadata": {
        "id": "LCcx4SZCFdHs",
        "colab_type": "code",
        "colab": {}
      },
      "source": [
        "class GCNModel(nn.Module):\n",
        "    def __init__(self,in_feats,n_hidden,out_dim,layer_dim,hidden_layer_dim):\n",
        "        super(GCNModel, self).__init__()\n",
        "        \n",
        "\n",
        "        self.gcn_layer_1 = dgl_conv.GraphConv(in_feats, n_hidden)\n",
        "\n",
        "        self.gcn_layer_2 = dgl_conv.GraphConv(n_hidden, out_dim)\n",
        "\n",
        "        self.lin_layer_1 = nn.Linear(layer_dim,hidden_layer_dim)\n",
        "\n",
        "        self.lin_layer_2 = nn.Linear(hidden_layer_dim,2)\n",
        "\n",
        "    def forward(self, g, features, node_pairs, link_labels):\n",
        "        x = features\n",
        "        x = self.gcn_layer_1(g, features)\n",
        "        x = F.relu(x)\n",
        "\n",
        "        x = self.gcn_layer_2(g,x)\n",
        "        x = F.relu(x)\n",
        "\n",
        "        src = node_pairs[:,0]\n",
        "        dst = node_pairs[:,1]\n",
        "\n",
        "        emb_src = x[src]\n",
        "        emb_dst = x[dst]\n",
        "\n",
        "        z_tensor = torch.mul(emb_src,emb_dst)\n",
        "        z_tensor = self.lin_layer_1(z_tensor)\n",
        "        z_tensor = F.relu(z_tensor)\n",
        "        z_tensor = self.lin_layer_2(z_tensor)\n",
        "\n",
        "        return z_tensor\n",
        "    \n",
        "    def calculate_loss(self, features, g, node_pairs, link_labels):\n",
        "      pred = self.forward(features, g, node_pairs, link_labels)\n",
        "      return F.cross_entropy(pred,link_labels)\n",
        "    \n",
        "    def predict(self, features, g, node_pairs, link_labels):\n",
        "        pred = self.forward(features, g, node_pairs, link_labels)\n",
        "        loss = F.cross_entropy(pred, link_labels)\n",
        "        return loss, pred\n"
      ],
      "execution_count": 27,
      "outputs": []
    },
    {
      "cell_type": "code",
      "metadata": {
        "id": "s-mNqC6_JDSK",
        "colab_type": "code",
        "colab": {
          "base_uri": "https://localhost:8080/",
          "height": 122
        },
        "outputId": "cec4a8cb-587e-4c79-9488-87fc12fdde99"
      },
      "source": [
        "from google.colab import drive\n",
        "drive.mount('/content/drive')"
      ],
      "execution_count": 3,
      "outputs": [
        {
          "output_type": "stream",
          "text": [
            "Go to this URL in a browser: https://accounts.google.com/o/oauth2/auth?client_id=947318989803-6bn6qk8qdgf4n4g3pfee6491hc0brc4i.apps.googleusercontent.com&redirect_uri=urn%3aietf%3awg%3aoauth%3a2.0%3aoob&response_type=code&scope=email%20https%3a%2f%2fwww.googleapis.com%2fauth%2fdocs.test%20https%3a%2f%2fwww.googleapis.com%2fauth%2fdrive%20https%3a%2f%2fwww.googleapis.com%2fauth%2fdrive.photos.readonly%20https%3a%2f%2fwww.googleapis.com%2fauth%2fpeopleapi.readonly\n",
            "\n",
            "Enter your authorization code:\n",
            "··········\n",
            "Mounted at /content/drive\n"
          ],
          "name": "stdout"
        }
      ]
    },
    {
      "cell_type": "code",
      "metadata": {
        "id": "RMv1vzXQI83O",
        "colab_type": "code",
        "colab": {
          "base_uri": "https://localhost:8080/",
          "height": 34
        },
        "outputId": "705ea716-72e5-4e1b-b6b8-5f9b292a4cd2"
      },
      "source": [
        "raw_edge_list = open('/content/drive/My Drive/Colab Notebooks/DSLab/yeast.edgelist','r')\n",
        "G = nx.Graph()\n",
        "G = nx.parse_edgelist(raw_edge_list, delimiter='\\t', create_using=G,nodetype=str, data=(('weight', float),))\n",
        "# Get graph edges and nodes from networkx graph object\n",
        "nodes = G.nodes\n",
        "edges = G.edges\n",
        "\n",
        "print(\"Graph's Nodes : {} / Edges : {}\".format(len(nodes), len(edges)))"
      ],
      "execution_count": 4,
      "outputs": [
        {
          "output_type": "stream",
          "text": [
            "Graph's Nodes : 6526 / Edges : 532180\n"
          ],
          "name": "stdout"
        }
      ]
    },
    {
      "cell_type": "code",
      "metadata": {
        "id": "0ymGmp_LFdH7",
        "colab_type": "code",
        "colab": {}
      },
      "source": [
        "G.remove_edges_from(nx.selfloop_edges(G))"
      ],
      "execution_count": 5,
      "outputs": []
    },
    {
      "cell_type": "code",
      "metadata": {
        "id": "-UtTPC8suuve",
        "colab_type": "code",
        "colab": {}
      },
      "source": [
        "G = nx.relabel.convert_node_labels_to_integers(G, first_label=0, ordering='default', label_attribute=None)"
      ],
      "execution_count": 6,
      "outputs": []
    },
    {
      "cell_type": "code",
      "metadata": {
        "id": "DwrJ4mGW6IgQ",
        "colab_type": "code",
        "colab": {
          "base_uri": "https://localhost:8080/",
          "height": 34
        },
        "outputId": "5d7ad7de-125a-4e64-f70c-bc278d914afe"
      },
      "source": [
        "es_test = EdgeSplitter(G)\n",
        "graph_test, examples_test, link_labels_test = es_test.train_test_split(p=0.25, method=\"global\")"
      ],
      "execution_count": 9,
      "outputs": [
        {
          "output_type": "stream",
          "text": [
            "** Sampled 132623 positive and 132623 negative edges. **\n"
          ],
          "name": "stdout"
        }
      ]
    },
    {
      "cell_type": "code",
      "metadata": {
        "id": "yBqlzReX6M_f",
        "colab_type": "code",
        "colab": {
          "base_uri": "https://localhost:8080/",
          "height": 34
        },
        "outputId": "77c3e2db-895c-47e2-b209-433e52eb5ad6"
      },
      "source": [
        "es_train = EdgeSplitter(graph_test, G)\n",
        "graph_train, examples_train, link_labels_train = es_train.train_test_split(\n",
        "    p=0.25, method=\"global\")\n",
        "examples_train,examples_val, link_labels_train, link_label_val = train_test_split(examples_train,link_labels_train,test_size=0.033)"
      ],
      "execution_count": 10,
      "outputs": [
        {
          "output_type": "stream",
          "text": [
            "** Sampled 99468 positive and 99468 negative edges. **\n"
          ],
          "name": "stdout"
        }
      ]
    },
    {
      "cell_type": "code",
      "metadata": {
        "id": "t04tuxzSFdIA",
        "colab_type": "code",
        "colab": {}
      },
      "source": [
        "train_nodes = list(graph_train.nodes)"
      ],
      "execution_count": 11,
      "outputs": []
    },
    {
      "cell_type": "code",
      "metadata": {
        "id": "1tXVR7RnGVx2",
        "colab_type": "code",
        "colab": {}
      },
      "source": [
        "adj = nx.adjacency_matrix(graph_train)"
      ],
      "execution_count": 12,
      "outputs": []
    },
    {
      "cell_type": "code",
      "metadata": {
        "id": "HOB104U9gldp",
        "colab_type": "code",
        "colab": {
          "base_uri": "https://localhost:8080/",
          "height": 136
        },
        "outputId": "6d6e5ba3-f438-4423-a952-6a9046a8cd9a"
      },
      "source": [
        "#features =np.matrix([[i, i] for i in range(adj.shape[0])])\n",
        "features = np.identity(adj.shape[0])\n",
        "#features = Variable(torch.FloatTensor(features), requires_grad=True)\n",
        "features"
      ],
      "execution_count": 13,
      "outputs": [
        {
          "output_type": "execute_result",
          "data": {
            "text/plain": [
              "array([[1., 0., 0., ..., 0., 0., 0.],\n",
              "       [0., 1., 0., ..., 0., 0., 0.],\n",
              "       [0., 0., 1., ..., 0., 0., 0.],\n",
              "       ...,\n",
              "       [0., 0., 0., ..., 1., 0., 0.],\n",
              "       [0., 0., 0., ..., 0., 1., 0.],\n",
              "       [0., 0., 0., ..., 0., 0., 1.]])"
            ]
          },
          "metadata": {
            "tags": []
          },
          "execution_count": 13
        }
      ]
    },
    {
      "cell_type": "code",
      "metadata": {
        "id": "y3UNA3HeKPeK",
        "colab_type": "code",
        "colab": {}
      },
      "source": [
        "in_feats = features.shape[0]\n",
        "n_hidden = 502\n",
        "out_dim =  50\n",
        "weight_decay = 5e-4\n",
        "n_epochs = 30\n",
        "lr = 0.01\n",
        "layer_dim = 50\n",
        "hidden_layer_dim = 32"
      ],
      "execution_count": 14,
      "outputs": []
    },
    {
      "cell_type": "code",
      "metadata": {
        "id": "ggg4bGSnnHtJ",
        "colab_type": "code",
        "colab": {}
      },
      "source": [
        "from torch.utils.data import Dataset,DataLoader"
      ],
      "execution_count": 15,
      "outputs": []
    },
    {
      "cell_type": "code",
      "metadata": {
        "id": "JtxwdwacnCyI",
        "colab_type": "code",
        "colab": {}
      },
      "source": [
        "class EdgeDataset(Dataset):\n",
        "    def __init__(self, x, y):\n",
        "        super(EdgeDataset, self).__init__()\n",
        "        assert x.shape[0] == y.shape[0] # assuming shape[0] = dataset size\n",
        "        self.x = x\n",
        "        self.y = y\n",
        "    def __len__(self):\n",
        "        return self.y.shape[0]\n",
        "\n",
        "    def __getitem__(self, index):\n",
        "        return self.x[index], self.y[index]"
      ],
      "execution_count": 16,
      "outputs": []
    },
    {
      "cell_type": "code",
      "metadata": {
        "id": "Htu1Pt43qe8Y",
        "colab_type": "code",
        "colab": {
          "base_uri": "https://localhost:8080/",
          "height": 34
        },
        "outputId": "73ae3ebd-2e9f-422c-da22-75f34d3a4fd7"
      },
      "source": [
        "type(examples_train)"
      ],
      "execution_count": 17,
      "outputs": [
        {
          "output_type": "execute_result",
          "data": {
            "text/plain": [
              "numpy.ndarray"
            ]
          },
          "metadata": {
            "tags": []
          },
          "execution_count": 17
        }
      ]
    },
    {
      "cell_type": "code",
      "metadata": {
        "id": "S-g5bZqYnX8E",
        "colab_type": "code",
        "colab": {}
      },
      "source": [
        "traindata = EdgeDataset(examples_train, link_labels_train)\n",
        "edge_loader = DataLoader(traindata, batch_size=6500, shuffle=True)"
      ],
      "execution_count": 18,
      "outputs": []
    },
    {
      "cell_type": "code",
      "metadata": {
        "id": "E4HFqdHA6C36",
        "colab_type": "code",
        "colab": {}
      },
      "source": [
        "def get_edge_batch(loader=edge_loader):\n",
        "  samples = []\n",
        "  for i,data in enumerate(loader):\n",
        "    samples.append(data)\n",
        "  num_batches = len(samples)\n",
        "  return num_batches,samples"
      ],
      "execution_count": 19,
      "outputs": []
    },
    {
      "cell_type": "code",
      "metadata": {
        "id": "RJkVcL-2Q8Qn",
        "colab_type": "code",
        "colab": {
          "base_uri": "https://localhost:8080/",
          "height": 544
        },
        "outputId": "5e55def1-a4a2-46c2-e636-96c84fb89d15"
      },
      "source": [
        "from torch.autograd import Variable\n",
        "g = DGLGraph()\n",
        "g.from_networkx(graph_train)\n",
        "g.readonly()\n",
        "model = GCNModel(in_feats,n_hidden, out_dim,layer_dim,hidden_layer_dim)\n",
        "optimizer = torch.optim.Adam(model.parameters(), lr=lr)\n",
        "num_epochs,data_batches = get_edge_batch()\n",
        "print(\"Training for {} epochs.\".format(num_epochs))\n",
        "\n",
        "\n",
        "losses = []\n",
        "train_accs = []\n",
        "val_losses = []\n",
        "val_accs = []\n",
        "\n",
        "for epoch in range(num_epochs):\n",
        "  \n",
        "\n",
        "  pairs, edges = data_batches[epoch]\n",
        "  pairs = Variable(pairs)\n",
        "  edges = Variable(edges)\n",
        "  \n",
        "  optimizer.zero_grad()\n",
        "  loss, pred = model.predict(g,torch.FloatTensor(features), pairs, edges)\n",
        "\n",
        "  losses.append(loss)\n",
        "  \n",
        "  loss.backward()\n",
        "  optimizer.step()\n",
        "\n",
        "  pred = F.log_softmax(pred, dim=1)\n",
        "  pred = pred.detach().to(\"cpu\").numpy()\n",
        "  pred = np.argmax(pred, axis=1)\n",
        "  y_pred = []\n",
        "  y_pred = np.append(y_pred, pred)\n",
        "  train_acc = accuracy_score(edges.detach().to(\"cpu\").numpy(), y_pred)\n",
        "  train_accs.append(train_acc)\n",
        "\n",
        "  #validation scores\n",
        "  val_loss, val_pred = model.predict(g,torch.FloatTensor(features), torch.tensor(examples_val), torch.tensor(link_label_val))\n",
        "  val_pred = F.log_softmax(val_pred, dim=1)\n",
        "  val_pred = val_pred.detach().to(\"cpu\").numpy()\n",
        "  val_pred = np.argmax(val_pred, axis=1)\n",
        "  val_y_pred = []\n",
        "  val_y_pred = np.append(val_y_pred, val_pred)\n",
        "  val_acc = accuracy_score(link_label_val, val_y_pred)\n",
        "  val_accs.append(val_acc)\n",
        "\n",
        "\n",
        "\n",
        "  print(\"epoch = {} train_loss = {:.4f} train_accuracy = {:.4f} val_loss = {:.4f} val_accuracy = {:.4f}\".format(epoch+1,loss,train_acc,val_loss,val_acc))"
      ],
      "execution_count": 28,
      "outputs": [
        {
          "output_type": "stream",
          "text": [
            "Training for 30 epochs.\n",
            "epoch = 1 train_loss = 0.6937 train_accuracy = 0.4975 val_loss = 0.6929 val_accuracy = 0.4973\n",
            "epoch = 2 train_loss = 0.6929 train_accuracy = 0.5000 val_loss = 0.6900 val_accuracy = 0.5176\n",
            "epoch = 3 train_loss = 0.6902 train_accuracy = 0.5080 val_loss = 0.6783 val_accuracy = 0.7831\n",
            "epoch = 4 train_loss = 0.6779 train_accuracy = 0.7908 val_loss = 0.6625 val_accuracy = 0.6363\n",
            "epoch = 5 train_loss = 0.6629 train_accuracy = 0.6318 val_loss = 0.6375 val_accuracy = 0.5944\n",
            "epoch = 6 train_loss = 0.6365 train_accuracy = 0.5932 val_loss = 0.6213 val_accuracy = 0.5726\n",
            "epoch = 7 train_loss = 0.6169 train_accuracy = 0.5749 val_loss = 0.6305 val_accuracy = 0.5813\n",
            "epoch = 8 train_loss = 0.6334 train_accuracy = 0.5762 val_loss = 0.5979 val_accuracy = 0.6306\n",
            "epoch = 9 train_loss = 0.5931 train_accuracy = 0.6386 val_loss = 0.5851 val_accuracy = 0.7412\n",
            "epoch = 10 train_loss = 0.5809 train_accuracy = 0.7463 val_loss = 0.5860 val_accuracy = 0.7867\n",
            "epoch = 11 train_loss = 0.5865 train_accuracy = 0.7894 val_loss = 0.5705 val_accuracy = 0.7842\n",
            "epoch = 12 train_loss = 0.5604 train_accuracy = 0.8074 val_loss = 0.5438 val_accuracy = 0.7761\n",
            "epoch = 13 train_loss = 0.5405 train_accuracy = 0.7842 val_loss = 0.5392 val_accuracy = 0.7520\n",
            "epoch = 14 train_loss = 0.5280 train_accuracy = 0.7603 val_loss = 0.5321 val_accuracy = 0.7605\n",
            "epoch = 15 train_loss = 0.5337 train_accuracy = 0.7580 val_loss = 0.5091 val_accuracy = 0.7867\n",
            "epoch = 16 train_loss = 0.5047 train_accuracy = 0.7960 val_loss = 0.5177 val_accuracy = 0.7671\n",
            "epoch = 17 train_loss = 0.5138 train_accuracy = 0.7702 val_loss = 0.4914 val_accuracy = 0.7837\n",
            "epoch = 18 train_loss = 0.4819 train_accuracy = 0.7957 val_loss = 0.5024 val_accuracy = 0.7788\n",
            "epoch = 19 train_loss = 0.4946 train_accuracy = 0.7908 val_loss = 0.4882 val_accuracy = 0.7837\n",
            "epoch = 20 train_loss = 0.4712 train_accuracy = 0.7992 val_loss = 0.4764 val_accuracy = 0.7846\n",
            "epoch = 21 train_loss = 0.4709 train_accuracy = 0.7842 val_loss = 0.4833 val_accuracy = 0.7685\n",
            "epoch = 22 train_loss = 0.4693 train_accuracy = 0.7862 val_loss = 0.4687 val_accuracy = 0.7854\n",
            "epoch = 23 train_loss = 0.4576 train_accuracy = 0.7855 val_loss = 0.4734 val_accuracy = 0.7843\n",
            "epoch = 24 train_loss = 0.4652 train_accuracy = 0.7905 val_loss = 0.4718 val_accuracy = 0.7839\n",
            "epoch = 25 train_loss = 0.4690 train_accuracy = 0.7878 val_loss = 0.4597 val_accuracy = 0.7864\n",
            "epoch = 26 train_loss = 0.4654 train_accuracy = 0.7862 val_loss = 0.4646 val_accuracy = 0.7794\n",
            "epoch = 27 train_loss = 0.4560 train_accuracy = 0.7880 val_loss = 0.4613 val_accuracy = 0.7820\n",
            "epoch = 28 train_loss = 0.4612 train_accuracy = 0.7814 val_loss = 0.4545 val_accuracy = 0.7872\n",
            "epoch = 29 train_loss = 0.4592 train_accuracy = 0.7846 val_loss = 0.4585 val_accuracy = 0.7823\n",
            "epoch = 30 train_loss = 0.4447 train_accuracy = 0.7933 val_loss = 0.4533 val_accuracy = 0.7857\n"
          ],
          "name": "stdout"
        }
      ]
    },
    {
      "cell_type": "code",
      "metadata": {
        "id": "65GZaeY5zJIp",
        "colab_type": "code",
        "colab": {}
      },
      "source": [
        ""
      ],
      "execution_count": null,
      "outputs": []
    }
  ]
}