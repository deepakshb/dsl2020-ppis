{
  "nbformat": 4,
  "nbformat_minor": 0,
  "metadata": {
    "kernelspec": {
      "display_name": "Python 3",
      "language": "python",
      "name": "python3"
    },
    "language_info": {
      "codemirror_mode": {
        "name": "ipython",
        "version": 3
      },
      "file_extension": ".py",
      "mimetype": "text/x-python",
      "name": "python",
      "nbconvert_exporter": "python",
      "pygments_lexer": "ipython3",
      "version": "3.7.4"
    },
    "colab": {
      "name": "PPI_Yeast_Implementation_u.ipynb",
      "provenance": [],
      "collapsed_sections": [],
      "toc_visible": true
    },
    "accelerator": "GPU"
  },
  "cells": [
    {
      "cell_type": "markdown",
      "metadata": {
        "id": "5nzZBac30SHF",
        "colab_type": "text"
      },
      "source": [
        "### **Team -11, Predicting Protein Interaction using GCNs on Yeast Dataset**"
      ]
    },
    {
      "cell_type": "markdown",
      "metadata": {
        "id": "7bt1ZQ300oPa",
        "colab_type": "text"
      },
      "source": [
        "**Note:** This notebook uses CUDA v.10.1. If your PC is not supported, run this notebook on Colab with GPU settings turned on."
      ]
    },
    {
      "cell_type": "code",
      "metadata": {
        "id": "xgs48TGW1-6e",
        "colab_type": "code",
        "colab": {
          "base_uri": "https://localhost:8080/",
          "height": 1000
        },
        "outputId": "ba212e70-aa62-4cf7-b6f3-7a2bf2ef508d"
      },
      "source": [
        "!pip install stellargraph"
      ],
      "execution_count": null,
      "outputs": [
        {
          "output_type": "stream",
          "text": [
            "Collecting stellargraph\n",
            "\u001b[?25l  Downloading https://files.pythonhosted.org/packages/74/78/16b23ef04cf6fb24a7dea9fd0e03c8308a56681cc5efe29f16186210ba04/stellargraph-1.2.1-py3-none-any.whl (435kB)\n",
            "\r\u001b[K     |▊                               | 10kB 22.9MB/s eta 0:00:01\r\u001b[K     |█▌                              | 20kB 24.9MB/s eta 0:00:01\r\u001b[K     |██▎                             | 30kB 29.8MB/s eta 0:00:01\r\u001b[K     |███                             | 40kB 13.9MB/s eta 0:00:01\r\u001b[K     |███▊                            | 51kB 14.8MB/s eta 0:00:01\r\u001b[K     |████▌                           | 61kB 12.1MB/s eta 0:00:01\r\u001b[K     |█████▎                          | 71kB 12.5MB/s eta 0:00:01\r\u001b[K     |██████                          | 81kB 11.9MB/s eta 0:00:01\r\u001b[K     |██████▊                         | 92kB 11.3MB/s eta 0:00:01\r\u001b[K     |███████▌                        | 102kB 11.3MB/s eta 0:00:01\r\u001b[K     |████████▎                       | 112kB 11.3MB/s eta 0:00:01\r\u001b[K     |█████████                       | 122kB 11.3MB/s eta 0:00:01\r\u001b[K     |█████████▉                      | 133kB 11.3MB/s eta 0:00:01\r\u001b[K     |██████████▌                     | 143kB 11.3MB/s eta 0:00:01\r\u001b[K     |███████████▎                    | 153kB 11.3MB/s eta 0:00:01\r\u001b[K     |████████████                    | 163kB 11.3MB/s eta 0:00:01\r\u001b[K     |████████████▉                   | 174kB 11.3MB/s eta 0:00:01\r\u001b[K     |█████████████▌                  | 184kB 11.3MB/s eta 0:00:01\r\u001b[K     |██████████████▎                 | 194kB 11.3MB/s eta 0:00:01\r\u001b[K     |███████████████                 | 204kB 11.3MB/s eta 0:00:01\r\u001b[K     |███████████████▉                | 215kB 11.3MB/s eta 0:00:01\r\u001b[K     |████████████████▋               | 225kB 11.3MB/s eta 0:00:01\r\u001b[K     |█████████████████▎              | 235kB 11.3MB/s eta 0:00:01\r\u001b[K     |██████████████████              | 245kB 11.3MB/s eta 0:00:01\r\u001b[K     |██████████████████▉             | 256kB 11.3MB/s eta 0:00:01\r\u001b[K     |███████████████████▋            | 266kB 11.3MB/s eta 0:00:01\r\u001b[K     |████████████████████▎           | 276kB 11.3MB/s eta 0:00:01\r\u001b[K     |█████████████████████           | 286kB 11.3MB/s eta 0:00:01\r\u001b[K     |█████████████████████▉          | 296kB 11.3MB/s eta 0:00:01\r\u001b[K     |██████████████████████▋         | 307kB 11.3MB/s eta 0:00:01\r\u001b[K     |███████████████████████▍        | 317kB 11.3MB/s eta 0:00:01\r\u001b[K     |████████████████████████        | 327kB 11.3MB/s eta 0:00:01\r\u001b[K     |████████████████████████▉       | 337kB 11.3MB/s eta 0:00:01\r\u001b[K     |█████████████████████████▋      | 348kB 11.3MB/s eta 0:00:01\r\u001b[K     |██████████████████████████▍     | 358kB 11.3MB/s eta 0:00:01\r\u001b[K     |███████████████████████████     | 368kB 11.3MB/s eta 0:00:01\r\u001b[K     |███████████████████████████▉    | 378kB 11.3MB/s eta 0:00:01\r\u001b[K     |████████████████████████████▋   | 389kB 11.3MB/s eta 0:00:01\r\u001b[K     |█████████████████████████████▍  | 399kB 11.3MB/s eta 0:00:01\r\u001b[K     |██████████████████████████████▏ | 409kB 11.3MB/s eta 0:00:01\r\u001b[K     |██████████████████████████████▉ | 419kB 11.3MB/s eta 0:00:01\r\u001b[K     |███████████████████████████████▋| 430kB 11.3MB/s eta 0:00:01\r\u001b[K     |████████████████████████████████| 440kB 11.3MB/s \n",
            "\u001b[?25hRequirement already satisfied: matplotlib>=2.2 in /usr/local/lib/python3.6/dist-packages (from stellargraph) (3.2.2)\n",
            "Requirement already satisfied: gensim>=3.4.0 in /usr/local/lib/python3.6/dist-packages (from stellargraph) (3.6.0)\n",
            "Requirement already satisfied: pandas>=0.24 in /usr/local/lib/python3.6/dist-packages (from stellargraph) (1.0.5)\n",
            "Requirement already satisfied: tensorflow>=2.1.0 in /usr/local/lib/python3.6/dist-packages (from stellargraph) (2.2.0)\n",
            "Requirement already satisfied: scipy>=1.1.0 in /usr/local/lib/python3.6/dist-packages (from stellargraph) (1.4.1)\n",
            "Requirement already satisfied: networkx>=2.2 in /usr/local/lib/python3.6/dist-packages (from stellargraph) (2.4)\n",
            "Requirement already satisfied: scikit-learn>=0.20 in /usr/local/lib/python3.6/dist-packages (from stellargraph) (0.22.2.post1)\n",
            "Requirement already satisfied: numpy>=1.14 in /usr/local/lib/python3.6/dist-packages (from stellargraph) (1.18.5)\n",
            "Requirement already satisfied: cycler>=0.10 in /usr/local/lib/python3.6/dist-packages (from matplotlib>=2.2->stellargraph) (0.10.0)\n",
            "Requirement already satisfied: python-dateutil>=2.1 in /usr/local/lib/python3.6/dist-packages (from matplotlib>=2.2->stellargraph) (2.8.1)\n",
            "Requirement already satisfied: kiwisolver>=1.0.1 in /usr/local/lib/python3.6/dist-packages (from matplotlib>=2.2->stellargraph) (1.2.0)\n",
            "Requirement already satisfied: pyparsing!=2.0.4,!=2.1.2,!=2.1.6,>=2.0.1 in /usr/local/lib/python3.6/dist-packages (from matplotlib>=2.2->stellargraph) (2.4.7)\n",
            "Requirement already satisfied: smart-open>=1.2.1 in /usr/local/lib/python3.6/dist-packages (from gensim>=3.4.0->stellargraph) (2.1.0)\n",
            "Requirement already satisfied: six>=1.5.0 in /usr/local/lib/python3.6/dist-packages (from gensim>=3.4.0->stellargraph) (1.12.0)\n",
            "Requirement already satisfied: pytz>=2017.2 in /usr/local/lib/python3.6/dist-packages (from pandas>=0.24->stellargraph) (2018.9)\n",
            "Requirement already satisfied: grpcio>=1.8.6 in /usr/local/lib/python3.6/dist-packages (from tensorflow>=2.1.0->stellargraph) (1.30.0)\n",
            "Requirement already satisfied: absl-py>=0.7.0 in /usr/local/lib/python3.6/dist-packages (from tensorflow>=2.1.0->stellargraph) (0.9.0)\n",
            "Requirement already satisfied: tensorboard<2.3.0,>=2.2.0 in /usr/local/lib/python3.6/dist-packages (from tensorflow>=2.1.0->stellargraph) (2.2.2)\n",
            "Requirement already satisfied: termcolor>=1.1.0 in /usr/local/lib/python3.6/dist-packages (from tensorflow>=2.1.0->stellargraph) (1.1.0)\n",
            "Requirement already satisfied: gast==0.3.3 in /usr/local/lib/python3.6/dist-packages (from tensorflow>=2.1.0->stellargraph) (0.3.3)\n",
            "Requirement already satisfied: astunparse==1.6.3 in /usr/local/lib/python3.6/dist-packages (from tensorflow>=2.1.0->stellargraph) (1.6.3)\n",
            "Requirement already satisfied: protobuf>=3.8.0 in /usr/local/lib/python3.6/dist-packages (from tensorflow>=2.1.0->stellargraph) (3.12.2)\n",
            "Requirement already satisfied: wheel>=0.26; python_version >= \"3\" in /usr/local/lib/python3.6/dist-packages (from tensorflow>=2.1.0->stellargraph) (0.34.2)\n",
            "Requirement already satisfied: google-pasta>=0.1.8 in /usr/local/lib/python3.6/dist-packages (from tensorflow>=2.1.0->stellargraph) (0.2.0)\n",
            "Requirement already satisfied: wrapt>=1.11.1 in /usr/local/lib/python3.6/dist-packages (from tensorflow>=2.1.0->stellargraph) (1.12.1)\n",
            "Requirement already satisfied: keras-preprocessing>=1.1.0 in /usr/local/lib/python3.6/dist-packages (from tensorflow>=2.1.0->stellargraph) (1.1.2)\n",
            "Requirement already satisfied: h5py<2.11.0,>=2.10.0 in /usr/local/lib/python3.6/dist-packages (from tensorflow>=2.1.0->stellargraph) (2.10.0)\n",
            "Requirement already satisfied: tensorflow-estimator<2.3.0,>=2.2.0 in /usr/local/lib/python3.6/dist-packages (from tensorflow>=2.1.0->stellargraph) (2.2.0)\n",
            "Requirement already satisfied: opt-einsum>=2.3.2 in /usr/local/lib/python3.6/dist-packages (from tensorflow>=2.1.0->stellargraph) (3.2.1)\n",
            "Requirement already satisfied: decorator>=4.3.0 in /usr/local/lib/python3.6/dist-packages (from networkx>=2.2->stellargraph) (4.4.2)\n",
            "Requirement already satisfied: joblib>=0.11 in /usr/local/lib/python3.6/dist-packages (from scikit-learn>=0.20->stellargraph) (0.16.0)\n",
            "Requirement already satisfied: boto in /usr/local/lib/python3.6/dist-packages (from smart-open>=1.2.1->gensim>=3.4.0->stellargraph) (2.49.0)\n",
            "Requirement already satisfied: requests in /usr/local/lib/python3.6/dist-packages (from smart-open>=1.2.1->gensim>=3.4.0->stellargraph) (2.23.0)\n",
            "Requirement already satisfied: boto3 in /usr/local/lib/python3.6/dist-packages (from smart-open>=1.2.1->gensim>=3.4.0->stellargraph) (1.14.20)\n",
            "Requirement already satisfied: werkzeug>=0.11.15 in /usr/local/lib/python3.6/dist-packages (from tensorboard<2.3.0,>=2.2.0->tensorflow>=2.1.0->stellargraph) (1.0.1)\n",
            "Requirement already satisfied: setuptools>=41.0.0 in /usr/local/lib/python3.6/dist-packages (from tensorboard<2.3.0,>=2.2.0->tensorflow>=2.1.0->stellargraph) (49.1.0)\n",
            "Requirement already satisfied: google-auth-oauthlib<0.5,>=0.4.1 in /usr/local/lib/python3.6/dist-packages (from tensorboard<2.3.0,>=2.2.0->tensorflow>=2.1.0->stellargraph) (0.4.1)\n",
            "Requirement already satisfied: tensorboard-plugin-wit>=1.6.0 in /usr/local/lib/python3.6/dist-packages (from tensorboard<2.3.0,>=2.2.0->tensorflow>=2.1.0->stellargraph) (1.7.0)\n",
            "Requirement already satisfied: markdown>=2.6.8 in /usr/local/lib/python3.6/dist-packages (from tensorboard<2.3.0,>=2.2.0->tensorflow>=2.1.0->stellargraph) (3.2.2)\n",
            "Requirement already satisfied: google-auth<2,>=1.6.3 in /usr/local/lib/python3.6/dist-packages (from tensorboard<2.3.0,>=2.2.0->tensorflow>=2.1.0->stellargraph) (1.17.2)\n",
            "Requirement already satisfied: certifi>=2017.4.17 in /usr/local/lib/python3.6/dist-packages (from requests->smart-open>=1.2.1->gensim>=3.4.0->stellargraph) (2020.6.20)\n",
            "Requirement already satisfied: idna<3,>=2.5 in /usr/local/lib/python3.6/dist-packages (from requests->smart-open>=1.2.1->gensim>=3.4.0->stellargraph) (2.10)\n",
            "Requirement already satisfied: urllib3!=1.25.0,!=1.25.1,<1.26,>=1.21.1 in /usr/local/lib/python3.6/dist-packages (from requests->smart-open>=1.2.1->gensim>=3.4.0->stellargraph) (1.24.3)\n",
            "Requirement already satisfied: chardet<4,>=3.0.2 in /usr/local/lib/python3.6/dist-packages (from requests->smart-open>=1.2.1->gensim>=3.4.0->stellargraph) (3.0.4)\n",
            "Requirement already satisfied: s3transfer<0.4.0,>=0.3.0 in /usr/local/lib/python3.6/dist-packages (from boto3->smart-open>=1.2.1->gensim>=3.4.0->stellargraph) (0.3.3)\n",
            "Requirement already satisfied: jmespath<1.0.0,>=0.7.1 in /usr/local/lib/python3.6/dist-packages (from boto3->smart-open>=1.2.1->gensim>=3.4.0->stellargraph) (0.10.0)\n",
            "Requirement already satisfied: botocore<1.18.0,>=1.17.20 in /usr/local/lib/python3.6/dist-packages (from boto3->smart-open>=1.2.1->gensim>=3.4.0->stellargraph) (1.17.20)\n",
            "Requirement already satisfied: requests-oauthlib>=0.7.0 in /usr/local/lib/python3.6/dist-packages (from google-auth-oauthlib<0.5,>=0.4.1->tensorboard<2.3.0,>=2.2.0->tensorflow>=2.1.0->stellargraph) (1.3.0)\n",
            "Requirement already satisfied: importlib-metadata; python_version < \"3.8\" in /usr/local/lib/python3.6/dist-packages (from markdown>=2.6.8->tensorboard<2.3.0,>=2.2.0->tensorflow>=2.1.0->stellargraph) (1.7.0)\n",
            "Requirement already satisfied: cachetools<5.0,>=2.0.0 in /usr/local/lib/python3.6/dist-packages (from google-auth<2,>=1.6.3->tensorboard<2.3.0,>=2.2.0->tensorflow>=2.1.0->stellargraph) (4.1.1)\n",
            "Requirement already satisfied: pyasn1-modules>=0.2.1 in /usr/local/lib/python3.6/dist-packages (from google-auth<2,>=1.6.3->tensorboard<2.3.0,>=2.2.0->tensorflow>=2.1.0->stellargraph) (0.2.8)\n",
            "Requirement already satisfied: rsa<5,>=3.1.4; python_version >= \"3\" in /usr/local/lib/python3.6/dist-packages (from google-auth<2,>=1.6.3->tensorboard<2.3.0,>=2.2.0->tensorflow>=2.1.0->stellargraph) (4.6)\n",
            "Requirement already satisfied: docutils<0.16,>=0.10 in /usr/local/lib/python3.6/dist-packages (from botocore<1.18.0,>=1.17.20->boto3->smart-open>=1.2.1->gensim>=3.4.0->stellargraph) (0.15.2)\n",
            "Requirement already satisfied: oauthlib>=3.0.0 in /usr/local/lib/python3.6/dist-packages (from requests-oauthlib>=0.7.0->google-auth-oauthlib<0.5,>=0.4.1->tensorboard<2.3.0,>=2.2.0->tensorflow>=2.1.0->stellargraph) (3.1.0)\n",
            "Requirement already satisfied: zipp>=0.5 in /usr/local/lib/python3.6/dist-packages (from importlib-metadata; python_version < \"3.8\"->markdown>=2.6.8->tensorboard<2.3.0,>=2.2.0->tensorflow>=2.1.0->stellargraph) (3.1.0)\n",
            "Requirement already satisfied: pyasn1<0.5.0,>=0.4.6 in /usr/local/lib/python3.6/dist-packages (from pyasn1-modules>=0.2.1->google-auth<2,>=1.6.3->tensorboard<2.3.0,>=2.2.0->tensorflow>=2.1.0->stellargraph) (0.4.8)\n",
            "Installing collected packages: stellargraph\n",
            "Successfully installed stellargraph-1.2.1\n"
          ],
          "name": "stdout"
        }
      ]
    },
    {
      "cell_type": "code",
      "metadata": {
        "id": "Sl0ZN_0_gvxT",
        "colab_type": "code",
        "colab": {}
      },
      "source": [
        "from stellargraph.data import EdgeSplitter"
      ],
      "execution_count": null,
      "outputs": []
    },
    {
      "cell_type": "code",
      "metadata": {
        "id": "GTsfJl_3FdHY",
        "colab_type": "code",
        "colab": {}
      },
      "source": [
        "import torch\n",
        "import torch.nn as nn\n",
        "import torch.nn.functional as F\n",
        "from sklearn.metrics import accuracy_score,roc_auc_score,average_precision_score\n",
        "from sklearn.model_selection import train_test_split\n",
        "import scipy.sparse as sp\n",
        "import numpy as np\n",
        "import pandas as pd\n",
        "import networkx as nx\n",
        "import os\n",
        "import time"
      ],
      "execution_count": null,
      "outputs": []
    },
    {
      "cell_type": "code",
      "metadata": {
        "id": "-8cVeBbdf9gD",
        "colab_type": "code",
        "colab": {
          "base_uri": "https://localhost:8080/",
          "height": 275
        },
        "outputId": "fe74ab06-cc5a-4059-a29a-2a77e80aae0d"
      },
      "source": [
        "!pip install dgl-cu101"
      ],
      "execution_count": null,
      "outputs": [
        {
          "output_type": "stream",
          "text": [
            "Collecting dgl-cu101\n",
            "\u001b[?25l  Downloading https://files.pythonhosted.org/packages/b9/02/9eba53d81b4eff438cd306775f07f164bdb8708f0fe5175cb122852e50e0/dgl_cu101-0.4.3.post2-cp36-cp36m-manylinux1_x86_64.whl (16.9MB)\n",
            "\u001b[K     |████████████████████████████████| 16.9MB 202kB/s \n",
            "\u001b[?25hRequirement already satisfied: requests>=2.19.0 in /usr/local/lib/python3.6/dist-packages (from dgl-cu101) (2.23.0)\n",
            "Requirement already satisfied: scipy>=1.1.0 in /usr/local/lib/python3.6/dist-packages (from dgl-cu101) (1.4.1)\n",
            "Requirement already satisfied: networkx>=2.1 in /usr/local/lib/python3.6/dist-packages (from dgl-cu101) (2.4)\n",
            "Requirement already satisfied: numpy>=1.14.0 in /usr/local/lib/python3.6/dist-packages (from dgl-cu101) (1.18.5)\n",
            "Requirement already satisfied: certifi>=2017.4.17 in /usr/local/lib/python3.6/dist-packages (from requests>=2.19.0->dgl-cu101) (2020.6.20)\n",
            "Requirement already satisfied: urllib3!=1.25.0,!=1.25.1,<1.26,>=1.21.1 in /usr/local/lib/python3.6/dist-packages (from requests>=2.19.0->dgl-cu101) (1.24.3)\n",
            "Requirement already satisfied: chardet<4,>=3.0.2 in /usr/local/lib/python3.6/dist-packages (from requests>=2.19.0->dgl-cu101) (3.0.4)\n",
            "Requirement already satisfied: idna<3,>=2.5 in /usr/local/lib/python3.6/dist-packages (from requests>=2.19.0->dgl-cu101) (2.10)\n",
            "Requirement already satisfied: decorator>=4.3.0 in /usr/local/lib/python3.6/dist-packages (from networkx>=2.1->dgl-cu101) (4.4.2)\n",
            "Installing collected packages: dgl-cu101\n",
            "Successfully installed dgl-cu101-0.4.3.post2\n"
          ],
          "name": "stdout"
        }
      ]
    },
    {
      "cell_type": "code",
      "metadata": {
        "id": "0sRHjQv0mH0h",
        "colab_type": "code",
        "colab": {
          "base_uri": "https://localhost:8080/",
          "height": 105
        },
        "outputId": "3f20f908-fbd2-4f80-bc9d-56ef6dc794c2"
      },
      "source": [
        "import dgl\n",
        "from dgl import DGLGraph\n",
        "dgl.load_backend('pytorch')\n",
        "from dgl.nn.pytorch import conv as dgl_conv"
      ],
      "execution_count": null,
      "outputs": [
        {
          "output_type": "stream",
          "text": [
            "Setting the default backend to \"pytorch\". You can change it in the ~/.dgl/config.json file or export the DGLBACKEND environment variable.  Valid options are: pytorch, mxnet, tensorflow (all lowercase)\n"
          ],
          "name": "stdout"
        },
        {
          "output_type": "stream",
          "text": [
            "DGL backend not selected or invalid.  Assuming PyTorch for now.\n",
            "Using backend: pytorch\n",
            "Using backend: pytorch\n"
          ],
          "name": "stderr"
        }
      ]
    },
    {
      "cell_type": "code",
      "metadata": {
        "id": "LCcx4SZCFdHs",
        "colab_type": "code",
        "colab": {}
      },
      "source": [
        "class GCNModel(nn.Module):\n",
        "    def __init__(self,in_feats,n_hidden,out_dim,layer_dim,hidden_layer_dim):\n",
        "        super(GCNModel, self).__init__()\n",
        "        \n",
        "\n",
        "        self.gcn_layer_1 = dgl_conv.GraphConv(in_feats, n_hidden)\n",
        "\n",
        "        self.gcn_layer_2 = dgl_conv.GraphConv(n_hidden, out_dim)\n",
        "\n",
        "        self.lin_layer_1 = nn.Linear(out_dim, hidden_layer_dim)\n",
        "\n",
        "        self.lin_layer_2 = nn.Linear(hidden_layer_dim,2)\n",
        "\n",
        "    def forward(self, g, features, node_pairs, link_labels):\n",
        "        x = features\n",
        "        x = self.gcn_layer_1(g, features)\n",
        "        x = F.relu(x)\n",
        "\n",
        "        x = self.gcn_layer_2(g,x)\n",
        "        x = F.relu(x)\n",
        "\n",
        "        src = node_pairs[:,0]\n",
        "        dst = node_pairs[:,1]\n",
        "\n",
        "        emb_src = x[src]\n",
        "        emb_dst = x[dst]\n",
        "\n",
        "        z_tensor = torch.mul(emb_src,emb_dst)\n",
        "        z_tensor = self.lin_layer_1(z_tensor)\n",
        "        z_tensor = F.relu(z_tensor)\n",
        "        z_tensor = self.lin_layer_2(z_tensor)\n",
        "        return z_tensor\n",
        "    \n",
        "    def predict(self, features, g, node_pairs, link_labels):\n",
        "        pred = self.forward(features, g, node_pairs, link_labels)\n",
        "        loss = F.cross_entropy(pred, link_labels)\n",
        "        return loss, pred\n"
      ],
      "execution_count": null,
      "outputs": []
    },
    {
      "cell_type": "code",
      "metadata": {
        "id": "s-mNqC6_JDSK",
        "colab_type": "code",
        "colab": {
          "base_uri": "https://localhost:8080/",
          "height": 122
        },
        "outputId": "2bc0b860-c8d5-4047-a07e-38af214cfbd5"
      },
      "source": [
        "from google.colab import drive\n",
        "drive.mount('/content/drive')"
      ],
      "execution_count": null,
      "outputs": [
        {
          "output_type": "stream",
          "text": [
            "Go to this URL in a browser: https://accounts.google.com/o/oauth2/auth?client_id=947318989803-6bn6qk8qdgf4n4g3pfee6491hc0brc4i.apps.googleusercontent.com&redirect_uri=urn%3aietf%3awg%3aoauth%3a2.0%3aoob&response_type=code&scope=email%20https%3a%2f%2fwww.googleapis.com%2fauth%2fdocs.test%20https%3a%2f%2fwww.googleapis.com%2fauth%2fdrive%20https%3a%2f%2fwww.googleapis.com%2fauth%2fdrive.photos.readonly%20https%3a%2f%2fwww.googleapis.com%2fauth%2fpeopleapi.readonly\n",
            "\n",
            "Enter your authorization code:\n",
            "··········\n",
            "Mounted at /content/drive\n"
          ],
          "name": "stdout"
        }
      ]
    },
    {
      "cell_type": "code",
      "metadata": {
        "id": "RMv1vzXQI83O",
        "colab_type": "code",
        "colab": {
          "base_uri": "https://localhost:8080/",
          "height": 34
        },
        "outputId": "5369f26c-84b3-485e-dadc-87ea9381fed6"
      },
      "source": [
        "raw_edge_list = open('/content/drive/My Drive/Colab Notebooks/DSLab/yeast.edgelist','r')\n",
        "G = nx.Graph()\n",
        "G = nx.parse_edgelist(raw_edge_list, delimiter='\\t', create_using=G,nodetype=str, data=(('weight', float),))\n",
        "# Get graph edges and nodes from networkx graph object\n",
        "nodes = G.nodes\n",
        "edges = G.edges\n",
        "\n",
        "print(\"Graph's Nodes : {} / Edges : {}\".format(len(nodes), len(edges)))"
      ],
      "execution_count": null,
      "outputs": [
        {
          "output_type": "stream",
          "text": [
            "Graph's Nodes : 6526 / Edges : 532180\n"
          ],
          "name": "stdout"
        }
      ]
    },
    {
      "cell_type": "code",
      "metadata": {
        "id": "0ymGmp_LFdH7",
        "colab_type": "code",
        "colab": {}
      },
      "source": [
        "G.remove_edges_from(nx.selfloop_edges(G))"
      ],
      "execution_count": null,
      "outputs": []
    },
    {
      "cell_type": "code",
      "metadata": {
        "id": "-UtTPC8suuve",
        "colab_type": "code",
        "colab": {}
      },
      "source": [
        "G = nx.relabel.convert_node_labels_to_integers(G, first_label=0, ordering='default', label_attribute=None)"
      ],
      "execution_count": null,
      "outputs": []
    },
    {
      "cell_type": "code",
      "metadata": {
        "id": "DwrJ4mGW6IgQ",
        "colab_type": "code",
        "colab": {
          "base_uri": "https://localhost:8080/",
          "height": 88
        },
        "outputId": "010e54fb-789e-4ca0-8dda-be5819535a63"
      },
      "source": [
        "es_test = EdgeSplitter(G)\n",
        "graph_test, examples_test, link_labels_test = es_test.train_test_split(p=0.1, method=\"local\")"
      ],
      "execution_count": null,
      "outputs": [
        {
          "output_type": "stream",
          "text": [
            "/usr/local/lib/python3.6/dist-packages/stellargraph/data/edge_splitter.py:378: RuntimeWarning: Using default sampling probabilities (distance from source node): [0.0, 0.25, 0.5, 0.25]\n",
            "  p=p, method=method, probs=probs, keep_connected=keep_connected\n"
          ],
          "name": "stderr"
        },
        {
          "output_type": "stream",
          "text": [
            "** Sampled 53049 positive and 53049 negative edges. **\n"
          ],
          "name": "stdout"
        }
      ]
    },
    {
      "cell_type": "code",
      "metadata": {
        "id": "yBqlzReX6M_f",
        "colab_type": "code",
        "colab": {
          "base_uri": "https://localhost:8080/",
          "height": 88
        },
        "outputId": "50f0f98b-1abe-4552-c24f-ee0d01cb0733"
      },
      "source": [
        "es_train = EdgeSplitter(graph_test, G)\n",
        "graph_train, examples_train, link_labels_train = es_train.train_test_split(\n",
        "    p=0.7, method=\"local\")\n",
        "examples_train,examples_val, link_labels_train, link_label_val = train_test_split(examples_train,link_labels_train,test_size=0.033)"
      ],
      "execution_count": null,
      "outputs": [
        {
          "output_type": "stream",
          "text": [
            "/usr/local/lib/python3.6/dist-packages/stellargraph/data/edge_splitter.py:378: RuntimeWarning: Using default sampling probabilities (distance from source node): [0.0, 0.25, 0.5, 0.25]\n",
            "  p=p, method=method, probs=probs, keep_connected=keep_connected\n"
          ],
          "name": "stderr"
        },
        {
          "output_type": "stream",
          "text": [
            "** Sampled 334212 positive and 334212 negative edges. **\n"
          ],
          "name": "stdout"
        }
      ]
    },
    {
      "cell_type": "code",
      "metadata": {
        "id": "dR-Goe2i-e0c",
        "colab_type": "code",
        "colab": {}
      },
      "source": [
        "def preprocess_graph(adj):\n",
        "  adj = sp.coo_matrix(adj)\n",
        "  adj_ = adj + sp.eye(adj.shape[0])\n",
        "  rowsum = np.array(adj_.sum(1))\n",
        "  degree_mat_inv_sqrt = sp.diags(np.power(rowsum, -0.5).flatten())\n",
        "  features = adj_.dot(degree_mat_inv_sqrt).transpose().dot(degree_mat_inv_sqrt).tocoo() \n",
        "  print(features.shape)\n",
        "\n",
        "  print(type(features))\n",
        "\n",
        "  indices = np.vstack((features.row, features.col))\n",
        "  values = features.data\n",
        "  shape = features.shape\n",
        "  i = torch.LongTensor(indices)\n",
        "  v = torch.FloatTensor(values)\n",
        "\n",
        "  features = torch.sparse.FloatTensor(i, v, torch.Size(shape)).to_dense()\n",
        "  return features"
      ],
      "execution_count": null,
      "outputs": []
    },
    {
      "cell_type": "code",
      "metadata": {
        "id": "HOB104U9gldp",
        "colab_type": "code",
        "colab": {
          "base_uri": "https://localhost:8080/",
          "height": 51
        },
        "outputId": "2c7ec163-3da2-4348-d394-9b068fc761cb"
      },
      "source": [
        "# #features =np.matrix([[i, i] for i in range(adj.shape[0])])\n",
        "features = preprocess_graph(nx.adjacency_matrix(graph_train))\n",
        "# #features = Variable(torch.FloatTensor(features), requires_grad=True)\n",
        "# features"
      ],
      "execution_count": null,
      "outputs": [
        {
          "output_type": "stream",
          "text": [
            "(6526, 6526)\n",
            "<class 'scipy.sparse.coo.coo_matrix'>\n"
          ],
          "name": "stdout"
        }
      ]
    },
    {
      "cell_type": "code",
      "metadata": {
        "id": "Pt0aRyUPvfQ-",
        "colab_type": "code",
        "colab": {}
      },
      "source": [
        ""
      ],
      "execution_count": null,
      "outputs": []
    },
    {
      "cell_type": "markdown",
      "metadata": {
        "id": "c2Ph3lnAYBo3",
        "colab_type": "text"
      },
      "source": [
        "RandomsearchCV"
      ]
    },
    {
      "cell_type": "code",
      "metadata": {
        "id": "8mN214p0Ti7v",
        "colab_type": "code",
        "colab": {}
      },
      "source": [
        "# from sklearn.model_selection import RandomizedSearchCV\n",
        "\n",
        "# param_dist = {\"n_hidden\": [32, 64, 128, 256],\n",
        "#               \"epochs\": np.range(5, 21),\n",
        "#               \"lr\": [0.1, 0.01, 0.001],\n",
        "#               \"batch_size\": [64, 128, 256]}\n",
        "\n",
        "# gs = GridSearchCV(net, params, refit=False, scoring='r2', verbose=1, cv=10)\n",
        "\n",
        "# gs.fit(X_trf, y_trf)"
      ],
      "execution_count": null,
      "outputs": []
    },
    {
      "cell_type": "code",
      "metadata": {
        "id": "ggg4bGSnnHtJ",
        "colab_type": "code",
        "colab": {}
      },
      "source": [
        "from torch.utils.data import Dataset,DataLoader"
      ],
      "execution_count": null,
      "outputs": []
    },
    {
      "cell_type": "code",
      "metadata": {
        "id": "JtxwdwacnCyI",
        "colab_type": "code",
        "colab": {}
      },
      "source": [
        "class EdgeDataset(Dataset):\n",
        "    def __init__(self, x, y):\n",
        "        super(EdgeDataset, self).__init__()\n",
        "        assert x.shape[0] == y.shape[0] # assuming shape[0] = dataset size\n",
        "        self.x = x\n",
        "        self.y = y\n",
        "    def __len__(self):\n",
        "        return self.y.shape[0]\n",
        "\n",
        "    def __getitem__(self, index):\n",
        "        return self.x[index], self.y[index]"
      ],
      "execution_count": null,
      "outputs": []
    },
    {
      "cell_type": "code",
      "metadata": {
        "id": "S-g5bZqYnX8E",
        "colab_type": "code",
        "colab": {
          "base_uri": "https://localhost:8080/",
          "height": 198
        },
        "outputId": "f937205f-a2b2-4438-f4a9-2e7237d08ec9"
      },
      "source": [
        "\n",
        "testdata = EdgeDataset(examples_test,link_labels_test)\n",
        "\n",
        "test_loader = DataLoader(testdata, batch_size=batch_size, shuffle=False)"
      ],
      "execution_count": null,
      "outputs": [
        {
          "output_type": "error",
          "ename": "NameError",
          "evalue": "ignored",
          "traceback": [
            "\u001b[0;31m---------------------------------------------------------------------------\u001b[0m",
            "\u001b[0;31mNameError\u001b[0m                                 Traceback (most recent call last)",
            "\u001b[0;32m<ipython-input-15-676fb9534044>\u001b[0m in \u001b[0;36m<module>\u001b[0;34m()\u001b[0m\n\u001b[1;32m      2\u001b[0m \u001b[0mtestdata\u001b[0m \u001b[0;34m=\u001b[0m \u001b[0mEdgeDataset\u001b[0m\u001b[0;34m(\u001b[0m\u001b[0mexamples_test\u001b[0m\u001b[0;34m,\u001b[0m\u001b[0mlink_labels_test\u001b[0m\u001b[0;34m)\u001b[0m\u001b[0;34m\u001b[0m\u001b[0;34m\u001b[0m\u001b[0m\n\u001b[1;32m      3\u001b[0m \u001b[0;34m\u001b[0m\u001b[0m\n\u001b[0;32m----> 4\u001b[0;31m \u001b[0mtest_loader\u001b[0m \u001b[0;34m=\u001b[0m \u001b[0mDataLoader\u001b[0m\u001b[0;34m(\u001b[0m\u001b[0mtestdata\u001b[0m\u001b[0;34m,\u001b[0m \u001b[0mbatch_size\u001b[0m\u001b[0;34m=\u001b[0m\u001b[0mbatch_size\u001b[0m\u001b[0;34m,\u001b[0m \u001b[0mshuffle\u001b[0m\u001b[0;34m=\u001b[0m\u001b[0;32mFalse\u001b[0m\u001b[0;34m)\u001b[0m\u001b[0;34m\u001b[0m\u001b[0;34m\u001b[0m\u001b[0m\n\u001b[0m",
            "\u001b[0;31mNameError\u001b[0m: name 'batch_size' is not defined"
          ]
        }
      ]
    },
    {
      "cell_type": "code",
      "metadata": {
        "id": "lrCrpkRri0o-",
        "colab_type": "code",
        "colab": {}
      },
      "source": [
        "use_cuda = torch.cuda.is_available()\n",
        "device = torch.device(\"cuda\" if use_cuda else \"cpu\")"
      ],
      "execution_count": null,
      "outputs": []
    },
    {
      "cell_type": "code",
      "metadata": {
        "id": "-qEXiAGnOmK6",
        "colab_type": "code",
        "colab": {}
      },
      "source": [
        "from torch.autograd import Variable"
      ],
      "execution_count": null,
      "outputs": []
    },
    {
      "cell_type": "code",
      "metadata": {
        "id": "PRjLgLq2mve9",
        "colab_type": "code",
        "colab": {}
      },
      "source": [
        "def create_model_and_train(lr,batch_size,n_hidden,hidden_layer_dim):\n",
        "  g = DGLGraph()\n",
        "  g.from_networkx(graph_train)\n",
        "  g.readonly()\n",
        "  n_epochs=20\n",
        "  out_dim = 80\n",
        "  model = GCNModel(in_feats = features.shape[0],n_hidden=n_hidden,out_dim=out_dim,layer_dim=out_dim,hidden_layer_dim=hidden_layer_dim)\n",
        "  model.to(device)\n",
        "  optimizer = torch.optim.Adam(model.parameters(), lr=lr)\n",
        "  traindata = EdgeDataset(examples_train, link_labels_train)\n",
        "  edge_loader = DataLoader(traindata, batch_size=batch_size, shuffle=True)\n",
        "  print(\"Training for {} epochs.\".format(n_epochs))\n",
        "\n",
        "  eval_report = {\n",
        "      'train_losses':[],\n",
        "      'train_rocs':[],\n",
        "      'train_aps':[],\n",
        "      'val_losses':[],\n",
        "      'val_rocs':[],\n",
        "      'val_aps':[],\n",
        "      'times_per_epoch':[],\n",
        "      'epochs':[],\n",
        "      'learning_rate': list(np.full((n_epochs,),lr)),\n",
        "      'batch_size':list(np.full((n_epochs,),batch_size)),\n",
        "      'hidden1_dim':list(np.full((n_epochs,),n_hidden)) ,\n",
        "      'hidden_layer_dim':list(np.full((n_epochs,),hidden_layer_dim))\n",
        "  }\n",
        "\n",
        "   \n",
        "  for epoch in range(n_epochs):\n",
        "    eval_report['epochs'].append(epoch+1)\n",
        "    t = time.time()\n",
        "    print('\\n', end='')\n",
        "    \n",
        "    loss = 0.0\n",
        "    train_roc = 0.0\n",
        "    train_ap = 0.0\n",
        "    for i,data in enumerate(edge_loader):\n",
        "      #print(\"Step {}/{}......\".format(i+1,))\n",
        "      pairs, edges = data\n",
        "      pairs = Variable(pairs).cuda()\n",
        "      edges = Variable(edges).cuda()\n",
        "      \n",
        "      optimizer.zero_grad()\n",
        "      loss, pred = model.predict(g.to(device),torch.FloatTensor(features).cuda(), pairs, edges)\n",
        "      loss.backward()\n",
        "      optimizer.step()\n",
        "\n",
        "      pred = F.log_softmax(pred, dim=1)\n",
        "      pred = pred.detach().to(\"cpu\").numpy()\n",
        "      pred = np.argmax(pred, axis=1)\n",
        "      y_pred = []\n",
        "      y_pred = np.append(y_pred, pred)\n",
        "      train_roc = roc_auc_score(edges.detach().to(\"cpu\").numpy(), y_pred)\n",
        "      train_ap = average_precision_score(edges.detach().to(\"cpu\").numpy(), y_pred)\n",
        "      print(\"\\repoch = {}/{} ({}/{}) - loss = {:.4f} roc_auc_score = {:.4f}\"\n",
        "      .format(epoch+1,n_epochs,i+1,int(examples_train.shape[0]/batch_size),\n",
        "              loss,train_roc),end='',flush=True)\n",
        "  \n",
        "    eval_report['train_losses'].append(float(loss.detach().to('cpu').numpy()))\n",
        "    eval_report['train_rocs'].append(train_roc)\n",
        "    eval_report['train_aps'].append(train_ap)\n",
        "    \n",
        "\n",
        "\n",
        "    #validation scores\n",
        "    val_loss, val_pred = model.predict(g.to(device),torch.FloatTensor(features).cuda(), \n",
        "                                      torch.tensor(examples_val).cuda(), \n",
        "                                      torch.tensor(link_label_val).cuda())\n",
        "    val_pred = F.log_softmax(val_pred, dim=1)\n",
        "    val_pred = val_pred.detach().to(\"cpu\").numpy()\n",
        "    val_pred = np.argmax(val_pred, axis=1)\n",
        "    val_y_pred = []\n",
        "    val_y_pred = np.append(val_y_pred, val_pred)\n",
        "    val_roc = roc_auc_score(link_label_val, val_y_pred)\n",
        "    val_ap = average_precision_score(link_label_val,val_y_pred)\n",
        "\n",
        "    \n",
        "    eval_report['val_losses'].append(float(val_loss.detach().to('cpu').numpy()))\n",
        "    eval_report['val_rocs'].append(val_roc)\n",
        "    eval_report['val_aps'].append(val_ap)\n",
        "    eval_report['times_per_epoch'].append(float(time.time()-t))\n",
        "\n",
        "    print(\"\\repoch = {}/{} - loss = {:.4f} roc_auc_score = {:.4f} val_loss = {:.4f} val_roc_auc_score = {:.4f} val_avg_precision = {:.4f} time= {:.5f}\"\n",
        "    .format(epoch+1,n_epochs,loss,train_roc,val_loss,val_roc,val_ap, time.time()-t),end='',flush=False)\n",
        "  return eval_report"
      ],
      "execution_count": null,
      "outputs": []
    },
    {
      "cell_type": "code",
      "metadata": {
        "id": "GrAH1X_LwxCi",
        "colab_type": "code",
        "colab": {}
      },
      "source": [
        "#generate csv (do not run every time)\n",
        "#import pandas as pd\n",
        "#df = pd.DataFrame(columns=['epochs','learning_rate','batch_size','hidden1_dim',\n",
        "#                           'hidden_layer_dim','train_losses','train_rocs',\n",
        "#                           'train_aps','val_losses','val_rocs','val_aps',\n",
        "#                           'times_per_epoch'])\n",
        "#df.to_csv('/content/drive/My Drive/Colab Notebooks/DSLab/eval_report.csv')"
      ],
      "execution_count": null,
      "outputs": []
    },
    {
      "cell_type": "code",
      "metadata": {
        "id": "qd7TQ7spwxA0",
        "colab_type": "code",
        "colab": {}
      },
      "source": [
        "def append_to_csv(eval_report):\n",
        "  df = pd.read_csv('/content/drive/My Drive/Colab Notebooks/DSLab/eval_report.csv', index_col=0)\n",
        "  df2 = pd.DataFrame({\n",
        "    'epochs':eval_report['epochs'],\n",
        "    'learning_rate':eval_report['learning_rate'],\n",
        "    'batch_size':eval_report['batch_size'],\n",
        "    'hidden1_dim':eval_report['hidden1_dim'],\n",
        "    'hidden_layer_dim':eval_report['hidden_layer_dim'],\n",
        "    'train_losses':eval_report['train_losses'],\n",
        "    'train_rocs':eval_report['train_rocs'],\n",
        "    'train_aps':eval_report['train_aps'],\n",
        "    'val_losses':eval_report['val_losses'],\n",
        "    'val_rocs':eval_report['val_rocs'],\n",
        "    'val_aps':eval_report['val_aps'],\n",
        "    'times_per_epoch':eval_report['times_per_epoch'],\n",
        "  })\n",
        "  df = pd.concat([df,df2],ignore_index=True)\n",
        "  df.to_csv('/content/drive/My Drive/Colab Notebooks/DSLab/eval_report.csv')"
      ],
      "execution_count": null,
      "outputs": []
    },
    {
      "cell_type": "markdown",
      "metadata": {
        "id": "mckYJO8B57yD",
        "colab_type": "text"
      },
      "source": [
        "###**Start Evaluation**"
      ]
    },
    {
      "cell_type": "code",
      "metadata": {
        "id": "p3rErTt-56cn",
        "colab_type": "code",
        "colab": {
          "base_uri": "https://localhost:8080/",
          "height": 391
        },
        "outputId": "2ce1e740-5523-414f-abdd-b810d1a3b69f"
      },
      "source": [
        "#lrs = [0.001, 0.01,0.1]\n",
        "#_hiddens = [256]\n",
        "#hidden_layer_dims = [64,32,16,8]\n",
        "#batch_sizes = [64,128,256]\n",
        "\n",
        "#19 done(1)\n",
        "#20 done(1)\n",
        "#21 not required\n",
        "#22 training(1).....\n",
        "#23 training(2).....\n",
        "#24 256 0.01 64\n",
        "#25 done(2)\n",
        "#26 done(2)\n",
        "#27 256 0.1 64\n",
        "\n",
        "\n",
        "eval_report = create_model_and_train(lr=0.01,batch_size=512,n_hidden=256,hidden_layer_dim=16)\n",
        "#append_to_csv(eval_report)"
      ],
      "execution_count": null,
      "outputs": [
        {
          "output_type": "stream",
          "text": [
            "Training for 20 epochs.\n",
            "\n",
            "epoch = 1/20 - loss = 0.5864 roc_auc_score = 0.6959 val_loss = 0.5940 val_roc_auc_score = 0.6737 val_avg_precision = 0.6174 time= 71.72142\n",
            "epoch = 2/20 - loss = 0.5339 roc_auc_score = 0.7233 val_loss = 0.5949 val_roc_auc_score = 0.6763 val_avg_precision = 0.6164 time= 71.91388\n",
            "epoch = 3/20 - loss = 0.5715 roc_auc_score = 0.7001 val_loss = 0.5851 val_roc_auc_score = 0.6822 val_avg_precision = 0.6201 time= 71.86156\n",
            "epoch = 4/20 - loss = 0.5558 roc_auc_score = 0.6870 val_loss = 0.5831 val_roc_auc_score = 0.6840 val_avg_precision = 0.6271 time= 71.80244\n",
            "epoch = 5/20 - loss = 0.5921 roc_auc_score = 0.6684 val_loss = 0.5830 val_roc_auc_score = 0.6850 val_avg_precision = 0.6238 time= 71.52719\n",
            "epoch = 6/20 - loss = 0.5825 roc_auc_score = 0.7048 val_loss = 0.5819 val_roc_auc_score = 0.6868 val_avg_precision = 0.6255 time= 71.78729\n",
            "epoch = 7/20 - loss = 0.5614 roc_auc_score = 0.7130 val_loss = 0.5815 val_roc_auc_score = 0.6858 val_avg_precision = 0.6236 time= 71.82686\n",
            "epoch = 8/20 - loss = 0.6166 roc_auc_score = 0.6479 val_loss = 0.5835 val_roc_auc_score = 0.6852 val_avg_precision = 0.6288 time= 71.83018\n",
            "epoch = 9/20 - loss = 0.5816 roc_auc_score = 0.6772 val_loss = 0.5846 val_roc_auc_score = 0.6845 val_avg_precision = 0.6212 time= 71.84025\n",
            "epoch = 10/20 - loss = 0.5857 roc_auc_score = 0.6821 val_loss = 0.5822 val_roc_auc_score = 0.6862 val_avg_precision = 0.6274 time= 71.21317\n",
            "epoch = 11/20 - loss = 0.5880 roc_auc_score = 0.6804 val_loss = 0.5830 val_roc_auc_score = 0.6866 val_avg_precision = 0.6293 time= 71.93126\n",
            "epoch = 12/20 - loss = 0.5513 roc_auc_score = 0.6930 val_loss = 0.5839 val_roc_auc_score = 0.6865 val_avg_precision = 0.6299 time= 71.90707\n",
            "epoch = 13/20 - loss = 0.5759 roc_auc_score = 0.7050 val_loss = 0.5847 val_roc_auc_score = 0.6817 val_avg_precision = 0.6181 time= 71.87209\n",
            "epoch = 14/20 - loss = 0.6113 roc_auc_score = 0.6869 val_loss = 0.5800 val_roc_auc_score = 0.6860 val_avg_precision = 0.6254 time= 72.16235\n",
            "epoch = 15/20 - loss = 0.5427 roc_auc_score = 0.7356 val_loss = 0.5798 val_roc_auc_score = 0.6871 val_avg_precision = 0.6270 time= 71.50634\n",
            "epoch = 16/20 - loss = 0.5984 roc_auc_score = 0.6746 val_loss = 0.5806 val_roc_auc_score = 0.6832 val_avg_precision = 0.6222 time= 71.95370\n",
            "epoch = 17/20 - loss = 0.6256 roc_auc_score = 0.6172 val_loss = 0.5803 val_roc_auc_score = 0.6863 val_avg_precision = 0.6258 time= 71.95933\n",
            "epoch = 18/20 - loss = 0.5894 roc_auc_score = 0.6668 val_loss = 0.5839 val_roc_auc_score = 0.6830 val_avg_precision = 0.6266 time= 72.20843\n",
            "epoch = 19/20 - loss = 0.5819 roc_auc_score = 0.6811 val_loss = 0.5821 val_roc_auc_score = 0.6846 val_avg_precision = 0.6291 time= 72.04465\n",
            "epoch = 20/20 - loss = 0.5293 roc_auc_score = 0.7199 val_loss = 0.5815 val_roc_auc_score = 0.6837 val_avg_precision = 0.6268 time= 71.97050"
          ],
          "name": "stdout"
        }
      ]
    },
    {
      "cell_type": "code",
      "metadata": {
        "id": "hckyESGEwwxi",
        "colab_type": "code",
        "colab": {}
      },
      "source": [
        ""
      ],
      "execution_count": null,
      "outputs": []
    },
    {
      "cell_type": "code",
      "metadata": {
        "id": "q2ZcUhRYwwwG",
        "colab_type": "code",
        "colab": {}
      },
      "source": [
        ""
      ],
      "execution_count": null,
      "outputs": []
    },
    {
      "cell_type": "code",
      "metadata": {
        "id": "TSrbamq-wwup",
        "colab_type": "code",
        "colab": {}
      },
      "source": [
        ""
      ],
      "execution_count": null,
      "outputs": []
    },
    {
      "cell_type": "code",
      "metadata": {
        "id": "aX-wr7hJwwpO",
        "colab_type": "code",
        "colab": {}
      },
      "source": [
        ""
      ],
      "execution_count": null,
      "outputs": []
    },
    {
      "cell_type": "code",
      "metadata": {
        "id": "Ll6fEElewwlP",
        "colab_type": "code",
        "colab": {}
      },
      "source": [
        ""
      ],
      "execution_count": null,
      "outputs": []
    },
    {
      "cell_type": "code",
      "metadata": {
        "id": "H7TnBGWwWmpX",
        "colab_type": "code",
        "colab": {
          "base_uri": "https://localhost:8080/",
          "height": 71
        },
        "outputId": "8a7cc018-9962-45df-e70e-118ff64b1977"
      },
      "source": [
        "g_test = DGLGraph()\n",
        "g_test.from_networkx(graph_test)\n",
        "g.readonly()\n",
        "test_losses = []\n",
        "test_preds = []\n",
        "test_true = []\n",
        "\n",
        "\n",
        "for i,Data in enumerate(test_loader):\n",
        "  node_pairs, labels_test = Data\n",
        "  with torch.no_grad():\n",
        "    test_loss, test_pred = model.predict(g_test.to(device),torch.FloatTensor(features).cuda(), torch.tensor(node_pairs).cuda(), torch.tensor(labels_test).cuda())\n",
        "    test_losses.append(test_loss)\n",
        "    test_pred = F.log_softmax(test_pred, dim=1)\n",
        "    test_pred = test_pred.detach().to(\"cpu\").numpy()\n",
        "    test_pred = np.argmax(test_pred, axis=1)\n",
        "    \n",
        "    test_preds = np.append(test_preds, test_pred)\n",
        "    test_true = np.append(test_true,labels_test)"
      ],
      "execution_count": null,
      "outputs": [
        {
          "output_type": "stream",
          "text": [
            "/usr/local/lib/python3.6/dist-packages/ipykernel_launcher.py:12: UserWarning: To copy construct from a tensor, it is recommended to use sourceTensor.clone().detach() or sourceTensor.clone().detach().requires_grad_(True), rather than torch.tensor(sourceTensor).\n",
            "  if sys.path[0] == '':\n"
          ],
          "name": "stderr"
        }
      ]
    },
    {
      "cell_type": "code",
      "metadata": {
        "id": "TF6qa-OvP3vG",
        "colab_type": "code",
        "colab": {
          "base_uri": "https://localhost:8080/",
          "height": 51
        },
        "outputId": "e28399ac-7beb-4efb-f9d0-3b0ad2f921c0"
      },
      "source": [
        "test_roc = roc_auc_score(test_true, test_preds)\n",
        "test_ap = average_precision_score(test_true,test_preds)\n",
        "print(\"Test ROC AUC Score = {:.4f}\\nTest Average Precision Score = {:.4f}\".format(test_roc,test_ap))"
      ],
      "execution_count": null,
      "outputs": [
        {
          "output_type": "stream",
          "text": [
            "Test ROC AUC Score = 0.8058\n",
            "Test Average Precision Score = 0.7469\n"
          ],
          "name": "stdout"
        }
      ]
    },
    {
      "cell_type": "code",
      "metadata": {
        "id": "ku8w9bIbZ-Lx",
        "colab_type": "code",
        "colab": {}
      },
      "source": [
        "# df = pd.DataFrame(columns=['g1i', 'g2i', 'c1i', 'c2i', 'n_epochs', 'lr', 'batch_size', \n",
        "#                            'avgtime', 'train_loss', 'train_roc_auc', 'val_loss', 'val_roc_auc', 'val_avg_pre', 'test_roc_auc', 'test_avg_pre'])\n",
        "\n",
        "df = pd.read_csv('/content/drive/My Drive/Project/hype.csv', index_col=0)\n",
        "\n",
        "\n",
        "df = df.append({\n",
        "   'g1i' : in_feats,\n",
        "   'g2i' : n_hidden,\n",
        "   'c1i' : layer_dim,\n",
        "   'c2i' : hidden_layer_dim,\n",
        "   'n_epochs' : n_epochs,\n",
        "   'lr' : lr,\n",
        "   'batch_size' : batch_size,\n",
        "   'avgtime' : np.mean(np.array(tpes)),\n",
        "   'train_loss' : losses[-1].data.tolist(),\n",
        "   'train_roc_auc' : train_rocs[-1].data.tolist(),\n",
        "   'val_loss' : val_losses[-1].data.tolist(),\n",
        "   'val_roc_auc' : val_rocs[-1].data.tolist(),\n",
        "   'val_avg_pre' : val_ap,\n",
        "   'test_roc_auc' : test_roc,\n",
        "   'test_avg_pre' : test_ap,\n",
        "   'test_loss' : test_losses[-1].data.tolist()  \n",
        "},ignore_index=True)"
      ],
      "execution_count": null,
      "outputs": []
    },
    {
      "cell_type": "code",
      "metadata": {
        "id": "n3pEmOlLg5FW",
        "colab_type": "code",
        "colab": {
          "base_uri": "https://localhost:8080/",
          "height": 204
        },
        "outputId": "406cf932-7213-4078-c8ae-a43209d4a261"
      },
      "source": [
        "print(df)"
      ],
      "execution_count": null,
      "outputs": [
        {
          "output_type": "stream",
          "text": [
            "      g1i    g2i   c1i  c2i  ...  val_avg_pre  test_roc_auc  test_avg_pre  test_loss\n",
            "0  6526.0   64.0   8.0  6.0  ...     0.738393      0.000000      0.000000   0.000000\n",
            "1  6526.0   64.0   8.0  6.0  ...     0.744686      0.000000      0.000000   0.000000\n",
            "2  6526.0   64.0   8.0  6.0  ...     0.732694      0.000000      0.000000   0.000000\n",
            "3  6526.0   64.0   8.0  6.0  ...     0.721398      0.798542      0.732627   0.000000\n",
            "4  6526.0   64.0   8.0  6.0  ...     0.717607      0.795744      0.733527   0.442549\n",
            "5  6526.0   64.0   8.0  6.0  ...     0.712938      0.787661      0.724660   0.464991\n",
            "6  6526.0   64.0   8.0  6.0  ...     0.721496      0.793060      0.736295   0.410822\n",
            "7  6526.0  128.0  32.0  8.0  ...     0.736307      0.805799      0.746854   0.437984\n",
            "\n",
            "[8 rows x 16 columns]\n"
          ],
          "name": "stdout"
        }
      ]
    },
    {
      "cell_type": "code",
      "metadata": {
        "id": "Etehele6g80e",
        "colab_type": "code",
        "colab": {}
      },
      "source": [
        "df.to_csv('/content/drive/My Drive/Project/hype.csv')"
      ],
      "execution_count": null,
      "outputs": []
    },
    {
      "cell_type": "code",
      "metadata": {
        "id": "FJAfqSKihC0m",
        "colab_type": "code",
        "colab": {}
      },
      "source": [
        ""
      ],
      "execution_count": null,
      "outputs": []
    }
  ]
}