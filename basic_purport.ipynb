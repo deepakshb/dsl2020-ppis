{
 "cells": [
  {
   "cell_type": "markdown",
   "metadata": {},
   "source": [
    "## GCN (Graph Convolution Netowrk)"
   ]
  },
  {
   "cell_type": "markdown",
   "metadata": {},
   "source": [
    "Network approaches have been used many times to combine and amplify signals from individual genes, and have led to remarkable discoveries in biology, including drug discovery, protein function prediction, disease diagnosis, and precision medicine"
   ]
  },
  {
   "cell_type": "markdown",
   "metadata": {},
   "source": [
    "The main challenge in machine learning on networks is to find a way to extract information about interactions between nodes and to incorporate that information into a machine learning model."
   ]
  },
  {
   "cell_type": "markdown",
   "metadata": {},
   "source": [
    "Recent years have seen a surge in approaches that automatically learn to encode network structure into low-dimensional representations, using transformation techniques based on deep learning and nonlinear dimensionality reduction."
   ]
  },
  {
   "cell_type": "markdown",
   "metadata": {},
   "source": [
    "### Why protin-portin interaction using this approach ?"
   ]
  },
  {
   "cell_type": "markdown",
   "metadata": {},
   "source": [
    "Proteins involved in the same disease tend to interact with each other. How do representation learning methods use this information to detect disease modules? How can we prioritize candidate disease proteins?"
   ]
  },
  {
   "cell_type": "markdown",
   "metadata": {},
   "source": [
    "Genes associated with similar diseases are likely to interact and have similar expression"
   ]
  },
  {
   "cell_type": "markdown",
   "metadata": {},
   "source": [
    "### Human diesease network "
   ]
  },
  {
   "cell_type": "markdown",
   "metadata": {},
   "source": [
    "In the following figure we can see that in **HDN** those disease are connected with each othere have same genome structure connection which can be seen in **DGN**"
   ]
  },
  {
   "cell_type": "markdown",
   "metadata": {},
   "source": [
    "<center>\n",
    "<img src=\"images/dieseasephenome+diseasegenome.jpg\" width=\"1000\" />\n",
    "</center>"
   ]
  },
  {
   "cell_type": "markdown",
   "metadata": {},
   "source": [
    "## Different ways to analyze network"
   ]
  },
  {
   "cell_type": "markdown",
   "metadata": {},
   "source": [
    ">Pridict type of givne node\n",
    ">>Node classificaton **(** Classifying the function of proteins in the interactome! **)** <br>*an **interactome** is the whole set of molecular interactions in a particular cell*\n",
    "\n",
    ">Predict whether two nodes are linked\n",
    ">>Link prediction **(** Predicting which diseases a new molecule might treat! **)**\n",
    "\n",
    "> Identify densely linked clusters of nodes\n",
    ">>Community detection **(** Identifying disease proteins in the interactome! **)** \n",
    "\n",
    "> How similar are two nodes/networks\n",
    ">> Network similarity"
   ]
  },
  {
   "cell_type": "markdown",
   "metadata": {},
   "source": [
    "<h4> Network analytics lifecycle include supervised learning </h4>"
   ]
  },
  {
   "cell_type": "markdown",
   "metadata": {},
   "source": [
    "Modern deep learning ToolBox is designed for Grid or Sequence. <br>\n",
    "It is not good for the unstructured data like Graph netowrks."
   ]
  },
  {
   "cell_type": "markdown",
   "metadata": {},
   "source": [
    "What we have to do is find a **Embedding function *F*** such that <br> \n",
    "F(Graph Network) = two dimensional node embedding,\n",
    "<br>\n",
    "Which is one of the node embedding technique"
   ]
  },
  {
   "cell_type": "markdown",
   "metadata": {},
   "source": [
    "Basically in human body based on the interatome we can decide that waht kind of diesease person can have.<br>\n",
    "So, If we figure out perticular interaction in protins, disease can be spot out perfectly. <br>\n",
    "Our task is to figure out this interection."
   ]
  },
  {
   "cell_type": "markdown",
   "metadata": {},
   "source": [
    "### Look at following example:\n"
   ]
  },
  {
   "cell_type": "markdown",
   "metadata": {},
   "source": [
    "#### This is Human interactome"
   ]
  },
  {
   "cell_type": "markdown",
   "metadata": {},
   "source": [
    "<center>\n",
    "<img src=\"images/interactome.png\" alt=\"interactoome\" style=\"width: 700px\"/>\n",
    "</center>"
   ]
  },
  {
   "cell_type": "markdown",
   "metadata": {},
   "source": [
    "Now, based on these protin interaction, particular disease can be figure out. <br> \n",
    "here protin **BRAC2** stand for **Breast Cancer 2** simmilarly others are protin molicules."
   ]
  },
  {
   "cell_type": "markdown",
   "metadata": {},
   "source": [
    "<center>\n",
    "<img src=\"images/disease.png\" alt=\"interactoome\" style=\"width: 800px\"/>\n",
    "</center>"
   ]
  },
  {
   "cell_type": "markdown",
   "metadata": {},
   "source": [
    "Now if you will see the interaction of the nodes in specific subgraph then we can figure out disease realated to it. <br><br>"
   ]
  },
  {
   "cell_type": "markdown",
   "metadata": {},
   "source": [
    "**ULTIMATE TASK:**  We have to findout new protin which is responsible for the disease in same network"
   ]
  },
  {
   "cell_type": "markdown",
   "metadata": {},
   "source": [
    "<center>\n",
    "<img src=\"images/diseasepredict.png\" alt=\"interactoome\" style=\"width: 800px\"/>\n",
    "</center>"
   ]
  },
  {
   "cell_type": "markdown",
   "metadata": {},
   "source": [
    "### What we can do form the data given to us?"
   ]
  },
  {
   "cell_type": "markdown",
   "metadata": {},
   "source": [
    "We can see the graph structure in a **yeast.edgelist** (basically protin) as well as graph sturcture of disease from **dissome.edglist** <br>\n",
    "Further we can also see the node corrosponding name into the disease.label"
   ]
  },
  {
   "cell_type": "markdown",
   "metadata": {},
   "source": [
    "### Yeast edgelist"
   ]
  },
  {
   "cell_type": "markdown",
   "metadata": {},
   "source": [
    "<center>\n",
    "<img src=\"images/yeastedglist.png\" alt=\"interactoome\" style=\"width: 800px\"/>\n",
    "</center>"
   ]
  },
  {
   "cell_type": "markdown",
   "metadata": {},
   "source": [
    "#### Disease edgelist"
   ]
  },
  {
   "cell_type": "markdown",
   "metadata": {},
   "source": [
    "<center>\n",
    "<img src=\"images/disease_edgelist.png\" alt=\"interactoome\" style=\"width: 800px\"/>\n",
    "</center>"
   ]
  },
  {
   "cell_type": "markdown",
   "metadata": {},
   "source": [
    "So, we have to find out that which protins combination in subgraph indicate a specific disease. <br>"
   ]
  },
  {
   "cell_type": "markdown",
   "metadata": {},
   "source": [
    "REFERENCES : <a href='http://snap.stanford.edu/deepnetbio-ismb/'> Stanford Tutorial "
   ]
  },
  {
   "cell_type": "code",
   "execution_count": null,
   "metadata": {},
   "outputs": [],
   "source": []
  }
 ],
 "metadata": {
  "kernelspec": {
   "display_name": "Python 3",
   "language": "python",
   "name": "python3"
  },
  "language_info": {
   "codemirror_mode": {
    "name": "ipython",
    "version": 3
   },
   "file_extension": ".py",
   "mimetype": "text/x-python",
   "name": "python",
   "nbconvert_exporter": "python",
   "pygments_lexer": "ipython3",
   "version": "3.7.4"
  }
 },
 "nbformat": 4,
 "nbformat_minor": 4
}
